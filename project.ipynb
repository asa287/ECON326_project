{
 "cells": [
  {
   "cell_type": "code",
   "execution_count": 1,
   "id": "b234eb87-5dbd-4d26-ad35-f3fef4610777",
   "metadata": {},
   "outputs": [
    {
     "data": {
      "text/html": [
       "<style>\n",
       ".list-inline {list-style: none; margin:0; padding: 0}\n",
       ".list-inline>li {display: inline-block}\n",
       ".list-inline>li:not(:last-child)::after {content: \"\\00b7\"; padding: 0 .5ex}\n",
       "</style>\n",
       "<ol class=list-inline><li>'census_data_art'</li><li>'data_art'</li><li>'localPkgDir'</li></ol>\n"
      ],
      "text/latex": [
       "\\begin{enumerate*}\n",
       "\\item 'census\\_data\\_art'\n",
       "\\item 'data\\_art'\n",
       "\\item 'localPkgDir'\n",
       "\\end{enumerate*}\n"
      ],
      "text/markdown": [
       "1. 'census_data_art'\n",
       "2. 'data_art'\n",
       "3. 'localPkgDir'\n",
       "\n",
       "\n"
      ],
      "text/plain": [
       "[1] \"census_data_art\" \"data_art\"        \"localPkgDir\"    "
      ]
     },
     "metadata": {},
     "output_type": "display_data"
    },
    {
     "name": "stdout",
     "output_type": "stream",
     "text": [
      "[1] \"census_data_art\"\n"
     ]
    }
   ],
   "source": [
    "data_art <- load('data/data_art.rda')\n",
    "ls()\n",
    "# data_art <- as.data.frame(data_art)\n",
    "# data_art\n",
    "print(data_art)"
   ]
  },
  {
   "cell_type": "code",
   "execution_count": 10,
   "id": "6e2840a0-f86b-45c3-9eb2-85f7495e6800",
   "metadata": {},
   "outputs": [
    {
     "data": {
      "text/html": [
       "<table class=\"dataframe\">\n",
       "<caption>A data.frame: 1 × 1</caption>\n",
       "<thead>\n",
       "\t<tr><th scope=col>data_art</th></tr>\n",
       "\t<tr><th scope=col>&lt;chr&gt;</th></tr>\n",
       "</thead>\n",
       "<tbody>\n",
       "\t<tr><td>distance</td></tr>\n",
       "</tbody>\n",
       "</table>\n"
      ],
      "text/latex": [
       "A data.frame: 1 × 1\n",
       "\\begin{tabular}{l}\n",
       " data\\_art\\\\\n",
       " <chr>\\\\\n",
       "\\hline\n",
       "\t distance\\\\\n",
       "\\end{tabular}\n"
      ],
      "text/markdown": [
       "\n",
       "A data.frame: 1 × 1\n",
       "\n",
       "| data_art &lt;chr&gt; |\n",
       "|---|\n",
       "| distance |\n",
       "\n"
      ],
      "text/plain": [
       "  data_art\n",
       "1 distance"
      ]
     },
     "metadata": {},
     "output_type": "display_data"
    }
   ],
   "source": [
    "data_art <- load('data/data_art_distances.rda')\n",
    "data_art <- as.data.frame(data_art)\n",
    "data_art"
   ]
  },
  {
   "cell_type": "code",
   "execution_count": null,
   "id": "ca33f4ae-b9d5-4126-ab99-1c8af51066f4",
   "metadata": {},
   "outputs": [],
   "source": []
  }
 ],
 "metadata": {
  "kernelspec": {
   "display_name": "R",
   "language": "R",
   "name": "ir"
  },
  "language_info": {
   "codemirror_mode": "r",
   "file_extension": ".r",
   "mimetype": "text/x-r-source",
   "name": "R",
   "pygments_lexer": "r",
   "version": "4.3.3"
  }
 },
 "nbformat": 4,
 "nbformat_minor": 5
}
