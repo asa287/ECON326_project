{
 "cells": [
  {
   "cell_type": "markdown",
   "id": "876d7d95-f1ce-4017-9f49-65f4daa22caf",
   "metadata": {},
   "source": [
    "# Individual Socioeconomic Status and the Placement of Public Art Installations within Vancouver"
   ]
  },
  {
   "cell_type": "code",
   "execution_count": 24,
   "id": "ca33f4ae-b9d5-4126-ab99-1c8af51066f4",
   "metadata": {},
   "outputs": [],
   "source": [
    "# load library\n",
    "suppressMessages(install.packages(\"sandwich\", quiet = TRUE))\n",
    "\n",
    "suppressPackageStartupMessages(\n",
    "    {library(tidyr)\n",
    "    library(dplyr)\n",
    "    library(tidyverse)\n",
    "    library(broom)\n",
    "    library(car)\n",
    "    library(sandwich)\n",
    "    library(stargazer)\n",
    "})"
   ]
  },
  {
   "cell_type": "markdown",
   "id": "881812e2-1fd3-4267-b4b1-47bd15d94ddc",
   "metadata": {},
   "source": [
    "## Introduction"
   ]
  },
  {
   "cell_type": "markdown",
   "id": "554a92a1-97df-47b7-9db5-8c7a4eb6a98c",
   "metadata": {},
   "source": [
    "Public art plays a significant role in shaping the cultural identity and aesthetic landscape of\n",
    "cities. The installations are widely used to foster public interaction, promote a sense of community, contribute to local identity, provoke thought or discussion, and tackle social exclusion (Schuermans, 2012). However, not all communities have equal access to public art, and the factors influencing its placement are not fully understood. It matters because public art affects how people experience and connect with their neighborhoods. This research aims to investigate how the levels of individual socioeconomic status in neighborhoods determine the placement of public art installations within Vancouver. We will apply regression analysis to answer this question, following the regular track for this project. After testing different models, we found that there're positive correlation between income, education attainment and art installation. \n",
    "\n"
   ]
  },
  {
   "cell_type": "markdown",
   "id": "5105fdf5-d5ec-47c9-a43f-9715a9c507d6",
   "metadata": {},
   "source": [
    "## Data Description"
   ]
  },
  {
   "cell_type": "markdown",
   "id": "bbd7b082-fc9f-4ea5-98a6-c6fa6d269d75",
   "metadata": {},
   "source": [
    "To conduct the analysis, we will use two primary datasets. The first one is the 2021 Canadian Census<sup>1</sup>, including many variables at the Census Dissemination Area (DA) level, as the source of data on the socioeconomic status of different neighborhoods in Vancouver. Another dataset is a public art dataset<sup>2</sup> that includes the titles, types, status, and locations of art installations in Vancouver. We will study our research topic by combining the information from these two datasets. \n",
    "\n",
    "For the measures of socioeconomic status, we will focus on the income and education level of people in different neighborhoods in Vancouver. For income variables, we will use the income Gini index, also the median income. To measure educational attainment, we will use the education level. In addition to education and income, we will include the population density variable in our model as a control to test whether the other variables affect the placement of public art in Vancouver."
   ]
  },
  {
   "cell_type": "code",
   "execution_count": 26,
   "id": "b234eb87-5dbd-4d26-ad35-f3fef4610777",
   "metadata": {
    "scrolled": true
   },
   "outputs": [
    {
     "name": "stderr",
     "output_type": "stream",
     "text": [
      "\u001b[1mRows: \u001b[22m\u001b[34m695\u001b[39m \u001b[1mColumns: \u001b[22m\u001b[34m20\u001b[39m\n",
      "\u001b[36m──\u001b[39m \u001b[1mColumn specification\u001b[22m \u001b[36m────────────────────────────────────────────────────────\u001b[39m\n",
      "\u001b[1mDelimiter:\u001b[22m \";\"\n",
      "\u001b[31mchr\u001b[39m (17): Title of Work, ArtistProjectStatement, Type, Status, SiteName, Sit...\n",
      "\u001b[32mdbl\u001b[39m  (2): RegistryID, YearOfInstallation\n",
      "\u001b[32mnum\u001b[39m  (1): Artists\n",
      "\n",
      "\u001b[36mℹ\u001b[39m Use `spec()` to retrieve the full column specification for this data.\n",
      "\u001b[36mℹ\u001b[39m Specify the column types or set `show_col_types = FALSE` to quiet this message.\n"
     ]
    }
   ],
   "source": [
    "public_art <- read_delim(\"data/public-art.csv\")"
   ]
  },
  {
   "cell_type": "markdown",
   "id": "894375a9-2f4d-4b87-89af-64579a1d52e2",
   "metadata": {},
   "source": [
    "Firstly, we count the total number of art installation in each neighborhood."
   ]
  },
  {
   "cell_type": "code",
   "execution_count": 30,
   "id": "70d6abfc-7663-42a0-9171-a2e091508b99",
   "metadata": {},
   "outputs": [
    {
     "data": {
      "text/html": [
       "<table class=\"dataframe\">\n",
       "<caption>A tibble: 3 × 2</caption>\n",
       "<thead>\n",
       "\t<tr><th scope=col>Neighbourhood</th><th scope=col>art_count</th></tr>\n",
       "\t<tr><th scope=col>&lt;chr&gt;</th><th scope=col>&lt;int&gt;</th></tr>\n",
       "</thead>\n",
       "<tbody>\n",
       "\t<tr><td>Arbutus Ridge   </td><td>  2</td></tr>\n",
       "\t<tr><td>Downtown        </td><td>212</td></tr>\n",
       "\t<tr><td>DowntownEastside</td><td> 51</td></tr>\n",
       "</tbody>\n",
       "</table>\n"
      ],
      "text/latex": [
       "A tibble: 3 × 2\n",
       "\\begin{tabular}{ll}\n",
       " Neighbourhood & art\\_count\\\\\n",
       " <chr> & <int>\\\\\n",
       "\\hline\n",
       "\t Arbutus Ridge    &   2\\\\\n",
       "\t Downtown         & 212\\\\\n",
       "\t DowntownEastside &  51\\\\\n",
       "\\end{tabular}\n"
      ],
      "text/markdown": [
       "\n",
       "A tibble: 3 × 2\n",
       "\n",
       "| Neighbourhood &lt;chr&gt; | art_count &lt;int&gt; |\n",
       "|---|---|\n",
       "| Arbutus Ridge    |   2 |\n",
       "| Downtown         | 212 |\n",
       "| DowntownEastside |  51 |\n",
       "\n"
      ],
      "text/plain": [
       "  Neighbourhood    art_count\n",
       "1 Arbutus Ridge      2      \n",
       "2 Downtown         212      \n",
       "3 DowntownEastside  51      "
      ]
     },
     "metadata": {},
     "output_type": "display_data"
    }
   ],
   "source": [
    "art_count <- public_art |>\n",
    "    group_by(Neighbourhood) |>\n",
    "    summarize(art_count=n())\n",
    "\n",
    "head(art_count,3)"
   ]
  },
  {
   "cell_type": "code",
   "execution_count": 31,
   "id": "d551a5de-557e-442e-afb1-02dac288a62d",
   "metadata": {
    "scrolled": true
   },
   "outputs": [
    {
     "data": {
      "text/html": [
       "<table class=\"dataframe\">\n",
       "<caption>A data.frame: 2 × 110</caption>\n",
       "<thead>\n",
       "\t<tr><th></th><th scope=col>Shape.Area</th><th scope=col>Quality.Flags</th><th scope=col>GeoUID</th><th scope=col>Type</th><th scope=col>Households</th><th scope=col>CD_UID</th><th scope=col>Dwellings</th><th scope=col>Population</th><th scope=col>name</th><th scope=col>CSD_UID</th><th scope=col>⋯</th><th scope=col>in_neighbourhood_West.End</th><th scope=col>in_neighbourhood_Downtown</th><th scope=col>in_neighbourhood_Hastings.Sunrise</th><th scope=col>in_neighbourhood_Kerrisdale</th><th scope=col>in_neighbourhood_Marpole</th><th scope=col>in_neighbourhood_Oakridge</th><th scope=col>in_neighbourhood_Riley.Park</th><th scope=col>in_neighbourhood_South.Cambie</th><th scope=col>in_neighbourhood_Shaughnessy</th><th scope=col>in_neighbourhood_Victoria-Fraserview</th></tr>\n",
       "\t<tr><th></th><th scope=col>&lt;dbl&gt;</th><th scope=col>&lt;chr&gt;</th><th scope=col>&lt;chr&gt;</th><th scope=col>&lt;fct&gt;</th><th scope=col>&lt;int&gt;</th><th scope=col>&lt;chr&gt;</th><th scope=col>&lt;int&gt;</th><th scope=col>&lt;int&gt;</th><th scope=col>&lt;chr&gt;</th><th scope=col>&lt;chr&gt;</th><th scope=col>⋯</th><th scope=col>&lt;dbl&gt;</th><th scope=col>&lt;dbl&gt;</th><th scope=col>&lt;dbl&gt;</th><th scope=col>&lt;dbl&gt;</th><th scope=col>&lt;dbl&gt;</th><th scope=col>&lt;dbl&gt;</th><th scope=col>&lt;dbl&gt;</th><th scope=col>&lt;dbl&gt;</th><th scope=col>&lt;dbl&gt;</th><th scope=col>&lt;dbl&gt;</th></tr>\n",
       "</thead>\n",
       "<tbody>\n",
       "\t<tr><th scope=row>1</th><td>0.8517</td><td>0</td><td>59150004</td><td>DA</td><td>166</td><td>5915</td><td>177</td><td>362</td><td>59150004</td><td>5915055</td><td>⋯</td><td>0</td><td>0</td><td>0</td><td>0</td><td>0</td><td>0</td><td>0</td><td>0</td><td>0</td><td>0</td></tr>\n",
       "\t<tr><th scope=row>2</th><td>0.1660</td><td>0</td><td>59150005</td><td>DA</td><td>205</td><td>5915</td><td>221</td><td>526</td><td>59150005</td><td>5915055</td><td>⋯</td><td>0</td><td>0</td><td>0</td><td>0</td><td>0</td><td>0</td><td>0</td><td>0</td><td>0</td><td>0</td></tr>\n",
       "</tbody>\n",
       "</table>\n"
      ],
      "text/latex": [
       "A data.frame: 2 × 110\n",
       "\\begin{tabular}{r|lllllllllllllllllllll}\n",
       "  & Shape.Area & Quality.Flags & GeoUID & Type & Households & CD\\_UID & Dwellings & Population & name & CSD\\_UID & ⋯ & in\\_neighbourhood\\_West.End & in\\_neighbourhood\\_Downtown & in\\_neighbourhood\\_Hastings.Sunrise & in\\_neighbourhood\\_Kerrisdale & in\\_neighbourhood\\_Marpole & in\\_neighbourhood\\_Oakridge & in\\_neighbourhood\\_Riley.Park & in\\_neighbourhood\\_South.Cambie & in\\_neighbourhood\\_Shaughnessy & in\\_neighbourhood\\_Victoria-Fraserview\\\\\n",
       "  & <dbl> & <chr> & <chr> & <fct> & <int> & <chr> & <int> & <int> & <chr> & <chr> & ⋯ & <dbl> & <dbl> & <dbl> & <dbl> & <dbl> & <dbl> & <dbl> & <dbl> & <dbl> & <dbl>\\\\\n",
       "\\hline\n",
       "\t1 & 0.8517 & 0 & 59150004 & DA & 166 & 5915 & 177 & 362 & 59150004 & 5915055 & ⋯ & 0 & 0 & 0 & 0 & 0 & 0 & 0 & 0 & 0 & 0\\\\\n",
       "\t2 & 0.1660 & 0 & 59150005 & DA & 205 & 5915 & 221 & 526 & 59150005 & 5915055 & ⋯ & 0 & 0 & 0 & 0 & 0 & 0 & 0 & 0 & 0 & 0\\\\\n",
       "\\end{tabular}\n"
      ],
      "text/markdown": [
       "\n",
       "A data.frame: 2 × 110\n",
       "\n",
       "| <!--/--> | Shape.Area &lt;dbl&gt; | Quality.Flags &lt;chr&gt; | GeoUID &lt;chr&gt; | Type &lt;fct&gt; | Households &lt;int&gt; | CD_UID &lt;chr&gt; | Dwellings &lt;int&gt; | Population &lt;int&gt; | name &lt;chr&gt; | CSD_UID &lt;chr&gt; | ⋯ ⋯ | in_neighbourhood_West.End &lt;dbl&gt; | in_neighbourhood_Downtown &lt;dbl&gt; | in_neighbourhood_Hastings.Sunrise &lt;dbl&gt; | in_neighbourhood_Kerrisdale &lt;dbl&gt; | in_neighbourhood_Marpole &lt;dbl&gt; | in_neighbourhood_Oakridge &lt;dbl&gt; | in_neighbourhood_Riley.Park &lt;dbl&gt; | in_neighbourhood_South.Cambie &lt;dbl&gt; | in_neighbourhood_Shaughnessy &lt;dbl&gt; | in_neighbourhood_Victoria-Fraserview &lt;dbl&gt; |\n",
       "|---|---|---|---|---|---|---|---|---|---|---|---|---|---|---|---|---|---|---|---|---|---|\n",
       "| 1 | 0.8517 | 0 | 59150004 | DA | 166 | 5915 | 177 | 362 | 59150004 | 5915055 | ⋯ | 0 | 0 | 0 | 0 | 0 | 0 | 0 | 0 | 0 | 0 |\n",
       "| 2 | 0.1660 | 0 | 59150005 | DA | 205 | 5915 | 221 | 526 | 59150005 | 5915055 | ⋯ | 0 | 0 | 0 | 0 | 0 | 0 | 0 | 0 | 0 | 0 |\n",
       "\n"
      ],
      "text/plain": [
       "  Shape.Area Quality.Flags GeoUID   Type Households CD_UID Dwellings Population\n",
       "1 0.8517     0             59150004 DA   166        5915   177       362       \n",
       "2 0.1660     0             59150005 DA   205        5915   221       526       \n",
       "  name     CSD_UID ⋯ in_neighbourhood_West.End in_neighbourhood_Downtown\n",
       "1 59150004 5915055 ⋯ 0                         0                        \n",
       "2 59150005 5915055 ⋯ 0                         0                        \n",
       "  in_neighbourhood_Hastings.Sunrise in_neighbourhood_Kerrisdale\n",
       "1 0                                 0                          \n",
       "2 0                                 0                          \n",
       "  in_neighbourhood_Marpole in_neighbourhood_Oakridge\n",
       "1 0                        0                        \n",
       "2 0                        0                        \n",
       "  in_neighbourhood_Riley.Park in_neighbourhood_South.Cambie\n",
       "1 0                           0                            \n",
       "2 0                           0                            \n",
       "  in_neighbourhood_Shaughnessy in_neighbourhood_Victoria-Fraserview\n",
       "1 0                            0                                   \n",
       "2 0                            0                                   "
      ]
     },
     "metadata": {},
     "output_type": "display_data"
    }
   ],
   "source": [
    "load('data/data_hoods_nosf.rda')\n",
    "head(census_data_hood, n=2)"
   ]
  },
  {
   "cell_type": "markdown",
   "id": "959b0aff-4ef5-4d20-a196-bba612d8ecc4",
   "metadata": {},
   "source": [
    "We take the the number of art installations in a `Neighborhood` in Vancouver as our target variable Y. Now we need to merge this dataset with our explanatory variables Xs."
   ]
  },
  {
   "cell_type": "markdown",
   "id": "396ae221-b2fe-45e4-9ed4-acff3cfbfe70",
   "metadata": {},
   "source": [
    "We need to convert the dummy variables in the dataset to one categorical column."
   ]
  },
  {
   "cell_type": "code",
   "execution_count": 5,
   "id": "19b364ea-78a7-424a-adc1-365c0c1af670",
   "metadata": {},
   "outputs": [],
   "source": [
    "dummy_cols <- c('in_neighbourhood_Arbutus.Ridge','in_neighbourhood_Grandview.Woodland','in_neighbourhood_Kensington.Cedar.Cottage',\n",
    "                'in_neighbourhood_Killarney','in_neighbourhood_Kitsilano','in_neighbourhood_Strathcona','in_neighbourhood_Sunset','in_neighbourhood_West.Point.Grey',\n",
    "                'in_neighbourhood_Dunbar.Southlands','in_neighbourhood_Fairview','in_neighbourhood_Mount.Pleasant','in_neighbourhood_Renfrew.Collingwood','in_neighbourhood_West.End',\n",
    "                'in_neighbourhood_Downtown','in_neighbourhood_Hastings.Sunrise','in_neighbourhood_Kerrisdale','in_neighbourhood_Marpole','in_neighbourhood_Oakridge',\n",
    "                'in_neighbourhood_Riley.Park','in_neighbourhood_South.Cambie','in_neighbourhood_Shaughnessy','in_neighbourhood_Victoria-Fraserview')\n",
    "\n",
    "census_data_hood_long <- census_data_hood %>%\n",
    "  pivot_longer(cols = all_of(dummy_cols), names_to = \"variable\", values_to = \"value\") %>%\n",
    "  filter(value == 1) %>%\n",
    "  group_by(GeoUID) %>%\n",
    "  summarise(Neighbourhood = first(variable), .groups = \"drop\")\n",
    "\n",
    "geouid_neighb <- census_data_hood %>%\n",
    "  left_join(census_data_hood_long, by = \"GeoUID\") %>%\n",
    "  select(GeoUID, Neighbourhood) %>%\n",
    "  filter(!is.na(Neighbourhood))"
   ]
  },
  {
   "cell_type": "code",
   "execution_count": 28,
   "id": "512115a8-2d4e-4773-9c67-6613a852cbde",
   "metadata": {},
   "outputs": [
    {
     "data": {
      "text/html": [
       "<table class=\"dataframe\">\n",
       "<caption>A data.frame: 1 × 2</caption>\n",
       "<thead>\n",
       "\t<tr><th></th><th scope=col>GeoUID</th><th scope=col>Neighbourhood</th></tr>\n",
       "\t<tr><th></th><th scope=col>&lt;chr&gt;</th><th scope=col>&lt;chr&gt;</th></tr>\n",
       "</thead>\n",
       "<tbody>\n",
       "\t<tr><th scope=row>1</th><td>59150307</td><td>Hastings-Sunrise</td></tr>\n",
       "</tbody>\n",
       "</table>\n"
      ],
      "text/latex": [
       "A data.frame: 1 × 2\n",
       "\\begin{tabular}{r|ll}\n",
       "  & GeoUID & Neighbourhood\\\\\n",
       "  & <chr> & <chr>\\\\\n",
       "\\hline\n",
       "\t1 & 59150307 & Hastings-Sunrise\\\\\n",
       "\\end{tabular}\n"
      ],
      "text/markdown": [
       "\n",
       "A data.frame: 1 × 2\n",
       "\n",
       "| <!--/--> | GeoUID &lt;chr&gt; | Neighbourhood &lt;chr&gt; |\n",
       "|---|---|---|\n",
       "| 1 | 59150307 | Hastings-Sunrise |\n",
       "\n"
      ],
      "text/plain": [
       "  GeoUID   Neighbourhood   \n",
       "1 59150307 Hastings-Sunrise"
      ]
     },
     "metadata": {},
     "output_type": "display_data"
    },
    {
     "data": {
      "text/html": [
       "<table class=\"dataframe\">\n",
       "<caption>A data.frame: 1 × 2</caption>\n",
       "<thead>\n",
       "\t<tr><th scope=col>GeoUID</th><th scope=col>Neighbourhood</th></tr>\n",
       "\t<tr><th scope=col>&lt;chr&gt;</th><th scope=col>&lt;chr&gt;</th></tr>\n",
       "</thead>\n",
       "<tbody>\n",
       "\t<tr><td>59150641</td><td>Fairview</td></tr>\n",
       "</tbody>\n",
       "</table>\n"
      ],
      "text/latex": [
       "A data.frame: 1 × 2\n",
       "\\begin{tabular}{ll}\n",
       " GeoUID & Neighbourhood\\\\\n",
       " <chr> & <chr>\\\\\n",
       "\\hline\n",
       "\t 59150641 & Fairview\\\\\n",
       "\\end{tabular}\n"
      ],
      "text/markdown": [
       "\n",
       "A data.frame: 1 × 2\n",
       "\n",
       "| GeoUID &lt;chr&gt; | Neighbourhood &lt;chr&gt; |\n",
       "|---|---|\n",
       "| 59150641 | Fairview |\n",
       "\n"
      ],
      "text/plain": [
       "  GeoUID   Neighbourhood\n",
       "1 59150641 Fairview     "
      ]
     },
     "metadata": {},
     "output_type": "display_data"
    }
   ],
   "source": [
    "head(geouid_neighb,n=1)\n",
    "slice(geouid_neighb,300)"
   ]
  },
  {
   "cell_type": "code",
   "execution_count": 36,
   "id": "eaa52f1d-d775-4f69-a5ae-a8a8dd52dbd8",
   "metadata": {},
   "outputs": [
    {
     "name": "stdout",
     "output_type": "stream",
     "text": [
      "[1] \"Arbutus Ridge, Downtown, DowntownEastside, Dunbar-Southlands, Fairview, Grandview-Woodland, Hastings-Sunrise, Kensington-Cedar Cottage, Kerrisdale, Killarney, Kitsilano, Marpole, Mount Pleasant, Oakridge, Renfrew-Collingwood, RileyPark, Shaughnessy, South Cambie, Stanley Park, Strathcona, Sunset, Victoria-Fraserview, West End, West Point Grey, NA\"\n"
     ]
    }
   ],
   "source": [
    "print(paste(art_count$Neighbourhood, collapse = \", \"))"
   ]
  },
  {
   "cell_type": "markdown",
   "id": "64088e06-d8fd-4f31-b0b3-4819dc44a924",
   "metadata": {},
   "source": [
    "Here the names of the neighborhood are different from those in our public art dataset `art_prop`, let us rewrite them."
   ]
  },
  {
   "cell_type": "code",
   "execution_count": 8,
   "id": "ff8091c3-e5bc-43c9-85c7-f7df41414afb",
   "metadata": {},
   "outputs": [],
   "source": [
    "geouid_neighb <- geouid_neighb %>%\n",
    "  mutate(Neighbourhood = Neighbourhood %>%\n",
    "           gsub('in_neighbourhood_Arbutus.Ridge', 'Arbutus Ridge', .) %>%\n",
    "           gsub('in_neighbourhood_Downtown', 'Downtown', .) %>%\n",
    "           gsub('in_neighbourhood_Dunbar.Southlands', 'Dunbar-Southlands', .) %>%\n",
    "           gsub('in_neighbourhood_Fairview', 'Fairview', .) %>%\n",
    "           gsub('in_neighbourhood_Grandview.Woodland', 'Grandview-Woodland', .) %>%\n",
    "           gsub('in_neighbourhood_Hastings.Sunrise', 'Hastings-Sunrise', .) %>%\n",
    "           gsub('in_neighbourhood_Kensington.Cedar.Cottage', 'Kensington-Cedar Cottage', .) %>%\n",
    "           gsub('in_neighbourhood_Kerrisdale', 'Kerrisdale', .) %>%\n",
    "           gsub('in_neighbourhood_Killarney', 'Killarney', .) %>%\n",
    "           gsub('in_neighbourhood_Kitsilano', 'Kitsilano', .) %>%\n",
    "           gsub('in_neighbourhood_Marpole', 'Marpole', .) %>%\n",
    "           gsub('in_neighbourhood_Mount.Pleasant', 'Mount Pleasant', .) %>%\n",
    "           gsub('in_neighbourhood_Oakridge', 'Oakridge', .) %>%\n",
    "           gsub('in_neighbourhood_Renfrew.Collingwood', 'Renfrew-Collingwood', .) %>%\n",
    "           gsub('in_neighbourhood_Riley.Park', 'RileyPark', .) %>%\n",
    "           gsub('in_neighbourhood_Shaughnessy', 'Shaughnessy', .) %>%\n",
    "           gsub('in_neighbourhood_South.Cambie', 'South Cambie', .) %>%\n",
    "           # gsub('in_neighbourhood_Grandview.Woodland', 'Stanley Park', .) %>%\n",
    "           gsub('in_neighbourhood_Strathcona', 'Strathcona', .) %>%\n",
    "           gsub('in_neighbourhood_Sunset', 'Sunset', .) %>%\n",
    "           gsub('in_neighbourhood_Victoria-Fraserview', 'Victoria-Fraserview', .) %>%\n",
    "           gsub('in_neighbourhood_West.End', 'West End', .) %>%\n",
    "           gsub('in_neighbourhood_West.Point.Grey', 'West Point Grey', .))"
   ]
  },
  {
   "cell_type": "code",
   "execution_count": 9,
   "id": "095d6f78-3dbe-4d68-9a4c-01ccdf7a2eb9",
   "metadata": {},
   "outputs": [
    {
     "data": {
      "text/html": [
       "<table class=\"dataframe\">\n",
       "<caption>A data.frame: 1 × 2</caption>\n",
       "<thead>\n",
       "\t<tr><th></th><th scope=col>GeoUID</th><th scope=col>Neighbourhood</th></tr>\n",
       "\t<tr><th></th><th scope=col>&lt;chr&gt;</th><th scope=col>&lt;chr&gt;</th></tr>\n",
       "</thead>\n",
       "<tbody>\n",
       "\t<tr><th scope=row>1</th><td>59150307</td><td>Hastings-Sunrise</td></tr>\n",
       "</tbody>\n",
       "</table>\n"
      ],
      "text/latex": [
       "A data.frame: 1 × 2\n",
       "\\begin{tabular}{r|ll}\n",
       "  & GeoUID & Neighbourhood\\\\\n",
       "  & <chr> & <chr>\\\\\n",
       "\\hline\n",
       "\t1 & 59150307 & Hastings-Sunrise\\\\\n",
       "\\end{tabular}\n"
      ],
      "text/markdown": [
       "\n",
       "A data.frame: 1 × 2\n",
       "\n",
       "| <!--/--> | GeoUID &lt;chr&gt; | Neighbourhood &lt;chr&gt; |\n",
       "|---|---|---|\n",
       "| 1 | 59150307 | Hastings-Sunrise |\n",
       "\n"
      ],
      "text/plain": [
       "  GeoUID   Neighbourhood   \n",
       "1 59150307 Hastings-Sunrise"
      ]
     },
     "metadata": {},
     "output_type": "display_data"
    }
   ],
   "source": [
    "# check the modification\n",
    "head(geouid_neighb,n=1)"
   ]
  },
  {
   "cell_type": "code",
   "execution_count": 29,
   "id": "eb0f34b5-1eb5-414e-86fa-05c66b6c0091",
   "metadata": {
    "scrolled": true
   },
   "outputs": [
    {
     "data": {
      "text/html": [
       "<table class=\"dataframe\">\n",
       "<caption>A data.frame: 2 × 66</caption>\n",
       "<thead>\n",
       "\t<tr><th></th><th scope=col>Shape.Area</th><th scope=col>Quality.Flags</th><th scope=col>GeoUID</th><th scope=col>Type</th><th scope=col>Households</th><th scope=col>CD_UID</th><th scope=col>Dwellings</th><th scope=col>Population</th><th scope=col>name</th><th scope=col>CSD_UID</th><th scope=col>⋯</th><th scope=col>v_CA21_7617..Total...Commuting.destination.for.the.employed.labour.force.aged.15.years.and.over.with.a.usual.place.of.work</th><th scope=col>v_CA21_7632..Total...Main.mode.of.commuting.for.the.employed.labour.force.aged.15.years.and.over.with.a.usual.place.of.work.or.no.fixed.workplace.address</th><th scope=col>v_CA21_7634..Total...Main.mode.of.commuting.for.the.employed.labour.force.aged.15.years.and.over.with.a.usual.place.of.work.or.no.fixed.workplace.address</th><th scope=col>v_CA21_7656..Total...Commuting.duration.for.the.employed.labour.force.aged.15.years.and.over.with.a.usual.place.of.work.or.no.fixed.workplace.address</th><th scope=col>v_CA21_7674..Total...Time.leaving.for.work.for.the.employed.labour.force.aged.15.years.and.over.with.a.usual.place.of.work.or.no.fixed.workplace.address</th><th scope=col>v_CA21_599..Income.statistics.in.2020.for.the.population.aged.15.years.and.over.in.private.households</th><th scope=col>v_CA21_851..Income.statistics.in.2019.for.the.population.aged.15.years.and.over.in.private.households</th><th scope=col>v_CA21_5865..Total...Highest.certificate..diploma.or.degree.for.the.population.aged.25.to.64.years.in.private.households</th><th scope=col>art_contained</th><th scope=col>art_within_500</th></tr>\n",
       "\t<tr><th></th><th scope=col>&lt;dbl&gt;</th><th scope=col>&lt;chr&gt;</th><th scope=col>&lt;chr&gt;</th><th scope=col>&lt;fct&gt;</th><th scope=col>&lt;int&gt;</th><th scope=col>&lt;chr&gt;</th><th scope=col>&lt;int&gt;</th><th scope=col>&lt;int&gt;</th><th scope=col>&lt;chr&gt;</th><th scope=col>&lt;chr&gt;</th><th scope=col>⋯</th><th scope=col>&lt;dbl&gt;</th><th scope=col>&lt;dbl&gt;</th><th scope=col>&lt;dbl&gt;</th><th scope=col>&lt;dbl&gt;</th><th scope=col>&lt;dbl&gt;</th><th scope=col>&lt;dbl&gt;</th><th scope=col>&lt;dbl&gt;</th><th scope=col>&lt;dbl&gt;</th><th scope=col>&lt;dbl&gt;</th><th scope=col>&lt;dbl&gt;</th></tr>\n",
       "</thead>\n",
       "<tbody>\n",
       "\t<tr><th scope=row>1</th><td>0.8517</td><td>0</td><td>59150004</td><td>DA</td><td>166</td><td>5915</td><td>177</td><td>362</td><td>59150004</td><td>5915055</td><td>⋯</td><td>100</td><td>105</td><td>55</td><td>105</td><td>105</td><td>310</td><td>310</td><td>150</td><td>0</td><td>0</td></tr>\n",
       "\t<tr><th scope=row>2</th><td>0.1660</td><td>0</td><td>59150005</td><td>DA</td><td>205</td><td>5915</td><td>221</td><td>526</td><td>59150005</td><td>5915055</td><td>⋯</td><td>125</td><td>175</td><td>95</td><td>175</td><td>175</td><td>380</td><td>380</td><td>235</td><td>0</td><td>0</td></tr>\n",
       "</tbody>\n",
       "</table>\n"
      ],
      "text/latex": [
       "A data.frame: 2 × 66\n",
       "\\begin{tabular}{r|lllllllllllllllllllll}\n",
       "  & Shape.Area & Quality.Flags & GeoUID & Type & Households & CD\\_UID & Dwellings & Population & name & CSD\\_UID & ⋯ & v\\_CA21\\_7617..Total...Commuting.destination.for.the.employed.labour.force.aged.15.years.and.over.with.a.usual.place.of.work & v\\_CA21\\_7632..Total...Main.mode.of.commuting.for.the.employed.labour.force.aged.15.years.and.over.with.a.usual.place.of.work.or.no.fixed.workplace.address & v\\_CA21\\_7634..Total...Main.mode.of.commuting.for.the.employed.labour.force.aged.15.years.and.over.with.a.usual.place.of.work.or.no.fixed.workplace.address & v\\_CA21\\_7656..Total...Commuting.duration.for.the.employed.labour.force.aged.15.years.and.over.with.a.usual.place.of.work.or.no.fixed.workplace.address & v\\_CA21\\_7674..Total...Time.leaving.for.work.for.the.employed.labour.force.aged.15.years.and.over.with.a.usual.place.of.work.or.no.fixed.workplace.address & v\\_CA21\\_599..Income.statistics.in.2020.for.the.population.aged.15.years.and.over.in.private.households & v\\_CA21\\_851..Income.statistics.in.2019.for.the.population.aged.15.years.and.over.in.private.households & v\\_CA21\\_5865..Total...Highest.certificate..diploma.or.degree.for.the.population.aged.25.to.64.years.in.private.households & art\\_contained & art\\_within\\_500\\\\\n",
       "  & <dbl> & <chr> & <chr> & <fct> & <int> & <chr> & <int> & <int> & <chr> & <chr> & ⋯ & <dbl> & <dbl> & <dbl> & <dbl> & <dbl> & <dbl> & <dbl> & <dbl> & <dbl> & <dbl>\\\\\n",
       "\\hline\n",
       "\t1 & 0.8517 & 0 & 59150004 & DA & 166 & 5915 & 177 & 362 & 59150004 & 5915055 & ⋯ & 100 & 105 & 55 & 105 & 105 & 310 & 310 & 150 & 0 & 0\\\\\n",
       "\t2 & 0.1660 & 0 & 59150005 & DA & 205 & 5915 & 221 & 526 & 59150005 & 5915055 & ⋯ & 125 & 175 & 95 & 175 & 175 & 380 & 380 & 235 & 0 & 0\\\\\n",
       "\\end{tabular}\n"
      ],
      "text/markdown": [
       "\n",
       "A data.frame: 2 × 66\n",
       "\n",
       "| <!--/--> | Shape.Area &lt;dbl&gt; | Quality.Flags &lt;chr&gt; | GeoUID &lt;chr&gt; | Type &lt;fct&gt; | Households &lt;int&gt; | CD_UID &lt;chr&gt; | Dwellings &lt;int&gt; | Population &lt;int&gt; | name &lt;chr&gt; | CSD_UID &lt;chr&gt; | ⋯ ⋯ | v_CA21_7617..Total...Commuting.destination.for.the.employed.labour.force.aged.15.years.and.over.with.a.usual.place.of.work &lt;dbl&gt; | v_CA21_7632..Total...Main.mode.of.commuting.for.the.employed.labour.force.aged.15.years.and.over.with.a.usual.place.of.work.or.no.fixed.workplace.address &lt;dbl&gt; | v_CA21_7634..Total...Main.mode.of.commuting.for.the.employed.labour.force.aged.15.years.and.over.with.a.usual.place.of.work.or.no.fixed.workplace.address &lt;dbl&gt; | v_CA21_7656..Total...Commuting.duration.for.the.employed.labour.force.aged.15.years.and.over.with.a.usual.place.of.work.or.no.fixed.workplace.address &lt;dbl&gt; | v_CA21_7674..Total...Time.leaving.for.work.for.the.employed.labour.force.aged.15.years.and.over.with.a.usual.place.of.work.or.no.fixed.workplace.address &lt;dbl&gt; | v_CA21_599..Income.statistics.in.2020.for.the.population.aged.15.years.and.over.in.private.households &lt;dbl&gt; | v_CA21_851..Income.statistics.in.2019.for.the.population.aged.15.years.and.over.in.private.households &lt;dbl&gt; | v_CA21_5865..Total...Highest.certificate..diploma.or.degree.for.the.population.aged.25.to.64.years.in.private.households &lt;dbl&gt; | art_contained &lt;dbl&gt; | art_within_500 &lt;dbl&gt; |\n",
       "|---|---|---|---|---|---|---|---|---|---|---|---|---|---|---|---|---|---|---|---|---|---|\n",
       "| 1 | 0.8517 | 0 | 59150004 | DA | 166 | 5915 | 177 | 362 | 59150004 | 5915055 | ⋯ | 100 | 105 | 55 | 105 | 105 | 310 | 310 | 150 | 0 | 0 |\n",
       "| 2 | 0.1660 | 0 | 59150005 | DA | 205 | 5915 | 221 | 526 | 59150005 | 5915055 | ⋯ | 125 | 175 | 95 | 175 | 175 | 380 | 380 | 235 | 0 | 0 |\n",
       "\n"
      ],
      "text/plain": [
       "  Shape.Area Quality.Flags GeoUID   Type Households CD_UID Dwellings Population\n",
       "1 0.8517     0             59150004 DA   166        5915   177       362       \n",
       "2 0.1660     0             59150005 DA   205        5915   221       526       \n",
       "  name     CSD_UID ⋯\n",
       "1 59150004 5915055 ⋯\n",
       "2 59150005 5915055 ⋯\n",
       "  v_CA21_7617..Total...Commuting.destination.for.the.employed.labour.force.aged.15.years.and.over.with.a.usual.place.of.work\n",
       "1 100                                                                                                                       \n",
       "2 125                                                                                                                       \n",
       "  v_CA21_7632..Total...Main.mode.of.commuting.for.the.employed.labour.force.aged.15.years.and.over.with.a.usual.place.of.work.or.no.fixed.workplace.address\n",
       "1 105                                                                                                                                                      \n",
       "2 175                                                                                                                                                      \n",
       "  v_CA21_7634..Total...Main.mode.of.commuting.for.the.employed.labour.force.aged.15.years.and.over.with.a.usual.place.of.work.or.no.fixed.workplace.address\n",
       "1 55                                                                                                                                                       \n",
       "2 95                                                                                                                                                       \n",
       "  v_CA21_7656..Total...Commuting.duration.for.the.employed.labour.force.aged.15.years.and.over.with.a.usual.place.of.work.or.no.fixed.workplace.address\n",
       "1 105                                                                                                                                                  \n",
       "2 175                                                                                                                                                  \n",
       "  v_CA21_7674..Total...Time.leaving.for.work.for.the.employed.labour.force.aged.15.years.and.over.with.a.usual.place.of.work.or.no.fixed.workplace.address\n",
       "1 105                                                                                                                                                     \n",
       "2 175                                                                                                                                                     \n",
       "  v_CA21_599..Income.statistics.in.2020.for.the.population.aged.15.years.and.over.in.private.households\n",
       "1 310                                                                                                  \n",
       "2 380                                                                                                  \n",
       "  v_CA21_851..Income.statistics.in.2019.for.the.population.aged.15.years.and.over.in.private.households\n",
       "1 310                                                                                                  \n",
       "2 380                                                                                                  \n",
       "  v_CA21_5865..Total...Highest.certificate..diploma.or.degree.for.the.population.aged.25.to.64.years.in.private.households\n",
       "1 150                                                                                                                     \n",
       "2 235                                                                                                                     \n",
       "  art_contained art_within_500\n",
       "1 0             0             \n",
       "2 0             0             "
      ]
     },
     "metadata": {},
     "output_type": "display_data"
    }
   ],
   "source": [
    "# load our census data\n",
    "load('data/data_art_nosf.rda')\n",
    "\n",
    "head(census_data_art, n=2)"
   ]
  },
  {
   "cell_type": "markdown",
   "id": "3deeebe9-0de2-43f1-aa0e-132e3ed7bd5c",
   "metadata": {},
   "source": [
    "Since we are interested in the influence of socioeconomic factors in the public art installation density in an area, the important variables for us in this dataset are the population density, median income, income gini index and certificate density in each area in Vancouver, let us select them."
   ]
  },
  {
   "cell_type": "markdown",
   "id": "8cd62ec0-1839-4786-8616-fd418d04568e",
   "metadata": {},
   "source": [
    "For `certificate density`, we divide the original variable, the number of total highest certificates, by the population to get the density of certificates in a region. We rename the variables we are interested in making it more readable and operable."
   ]
  },
  {
   "cell_type": "code",
   "execution_count": 35,
   "id": "06e4ad82-e516-4825-8dee-0ef1d679284e",
   "metadata": {
    "scrolled": true
   },
   "outputs": [
    {
     "data": {
      "text/html": [
       "<table class=\"dataframe\">\n",
       "<caption>A data.frame: 2 × 5</caption>\n",
       "<thead>\n",
       "\t<tr><th></th><th scope=col>GeoUID</th><th scope=col>population_density</th><th scope=col>median_income</th><th scope=col>gini_income</th><th scope=col>certificate_density</th></tr>\n",
       "\t<tr><th></th><th scope=col>&lt;fct&gt;</th><th scope=col>&lt;dbl&gt;</th><th scope=col>&lt;dbl&gt;</th><th scope=col>&lt;dbl&gt;</th><th scope=col>&lt;dbl&gt;</th></tr>\n",
       "</thead>\n",
       "<tbody>\n",
       "\t<tr><th scope=row>1</th><td>59150004</td><td> 425.0</td><td>105000</td><td>0.448</td><td>0.8563536</td></tr>\n",
       "\t<tr><th scope=row>2</th><td>59150005</td><td>3168.7</td><td>122000</td><td>0.362</td><td>0.7319392</td></tr>\n",
       "</tbody>\n",
       "</table>\n"
      ],
      "text/latex": [
       "A data.frame: 2 × 5\n",
       "\\begin{tabular}{r|lllll}\n",
       "  & GeoUID & population\\_density & median\\_income & gini\\_income & certificate\\_density\\\\\n",
       "  & <fct> & <dbl> & <dbl> & <dbl> & <dbl>\\\\\n",
       "\\hline\n",
       "\t1 & 59150004 &  425.0 & 105000 & 0.448 & 0.8563536\\\\\n",
       "\t2 & 59150005 & 3168.7 & 122000 & 0.362 & 0.7319392\\\\\n",
       "\\end{tabular}\n"
      ],
      "text/markdown": [
       "\n",
       "A data.frame: 2 × 5\n",
       "\n",
       "| <!--/--> | GeoUID &lt;fct&gt; | population_density &lt;dbl&gt; | median_income &lt;dbl&gt; | gini_income &lt;dbl&gt; | certificate_density &lt;dbl&gt; |\n",
       "|---|---|---|---|---|---|\n",
       "| 1 | 59150004 |  425.0 | 105000 | 0.448 | 0.8563536 |\n",
       "| 2 | 59150005 | 3168.7 | 122000 | 0.362 | 0.7319392 |\n",
       "\n"
      ],
      "text/plain": [
       "  GeoUID   population_density median_income gini_income certificate_density\n",
       "1 59150004  425.0             105000        0.448       0.8563536          \n",
       "2 59150005 3168.7             122000        0.362       0.7319392          "
      ]
     },
     "metadata": {},
     "output_type": "display_data"
    }
   ],
   "source": [
    "subset_data <- census_data_art %>% select(\"Region.Name\",\n",
    "                                          \"Population\",\n",
    "                                          \"v_CA21_6..Population.density.per.square.kilometre\",\n",
    "                                         \"v_CA21_906..Median.total.income.of.household.in.2020....\",\n",
    "                                         \"v_CA21_1140..Gini.index.on.adjusted.household.total.income\",\n",
    "                                         \"v_CA21_5817..Total...Highest.certificate..diploma.or.degree.for.the.population.aged.15.years.and.over.in.private.households\",\n",
    "                                          ) |>\n",
    "    rename(population_density = v_CA21_6..Population.density.per.square.kilometre,\n",
    "           median_income = v_CA21_906..Median.total.income.of.household.in.2020....,\n",
    "           gini_income = v_CA21_1140..Gini.index.on.adjusted.household.total.income,\n",
    "           highest_certificate = v_CA21_5817..Total...Highest.certificate..diploma.or.degree.for.the.population.aged.15.years.and.over.in.private.households,\n",
    "           GeoUID = Region.Name\n",
    "          ) |>\n",
    "    mutate(certificate_density = highest_certificate/Population,\n",
    "          ) |>\n",
    "    select(-highest_certificate, -Population)\n",
    "\n",
    "head(subset_data, n=2)"
   ]
  },
  {
   "cell_type": "markdown",
   "id": "2545a33c-7a2f-4776-a921-13a8b5e1613e",
   "metadata": {},
   "source": [
    "Now we can merge the datasets of public art and our census, by using the `GeoUID` information in our neiborghhood dataset."
   ]
  },
  {
   "cell_type": "code",
   "execution_count": 12,
   "id": "ee783daf-6d1a-46bb-8f9f-97553cba679f",
   "metadata": {},
   "outputs": [],
   "source": [
    "subset_data_neighb <- geouid_neighb %>%\n",
    "  left_join(subset_data, by = \"GeoUID\")"
   ]
  },
  {
   "cell_type": "markdown",
   "id": "5bcfa137-4631-471a-9c6f-26457943d6ee",
   "metadata": {},
   "source": [
    "To summarize the information in each neighborhood, we take the average of our explanatory variables for each neighboorhood."
   ]
  },
  {
   "cell_type": "code",
   "execution_count": 34,
   "id": "20d0c044-b89a-46b4-9437-e72d634fae40",
   "metadata": {},
   "outputs": [
    {
     "data": {
      "text/html": [
       "<table class=\"dataframe\">\n",
       "<caption>A tibble: 2 × 6</caption>\n",
       "<thead>\n",
       "\t<tr><th scope=col>Neighbourhood</th><th scope=col>mean_population_density</th><th scope=col>mean_median_income</th><th scope=col>mean_gini_income</th><th scope=col>mean_certificate_density</th><th scope=col>art_count</th></tr>\n",
       "\t<tr><th scope=col>&lt;chr&gt;</th><th scope=col>&lt;dbl&gt;</th><th scope=col>&lt;dbl&gt;</th><th scope=col>&lt;dbl&gt;</th><th scope=col>&lt;dbl&gt;</th><th scope=col>&lt;dbl&gt;</th></tr>\n",
       "</thead>\n",
       "<tbody>\n",
       "\t<tr><td>Arbutus Ridge</td><td> 5360.252</td><td>106915</td><td>0.48040</td><td>0.8693448</td><td>  2</td></tr>\n",
       "\t<tr><td>Downtown     </td><td>31467.572</td><td> 84562</td><td>0.44482</td><td>0.8726615</td><td>212</td></tr>\n",
       "</tbody>\n",
       "</table>\n"
      ],
      "text/latex": [
       "A tibble: 2 × 6\n",
       "\\begin{tabular}{llllll}\n",
       " Neighbourhood & mean\\_population\\_density & mean\\_median\\_income & mean\\_gini\\_income & mean\\_certificate\\_density & art\\_count\\\\\n",
       " <chr> & <dbl> & <dbl> & <dbl> & <dbl> & <dbl>\\\\\n",
       "\\hline\n",
       "\t Arbutus Ridge &  5360.252 & 106915 & 0.48040 & 0.8693448 &   2\\\\\n",
       "\t Downtown      & 31467.572 &  84562 & 0.44482 & 0.8726615 & 212\\\\\n",
       "\\end{tabular}\n"
      ],
      "text/markdown": [
       "\n",
       "A tibble: 2 × 6\n",
       "\n",
       "| Neighbourhood &lt;chr&gt; | mean_population_density &lt;dbl&gt; | mean_median_income &lt;dbl&gt; | mean_gini_income &lt;dbl&gt; | mean_certificate_density &lt;dbl&gt; | art_count &lt;dbl&gt; |\n",
       "|---|---|---|---|---|---|\n",
       "| Arbutus Ridge |  5360.252 | 106915 | 0.48040 | 0.8693448 |   2 |\n",
       "| Downtown      | 31467.572 |  84562 | 0.44482 | 0.8726615 | 212 |\n",
       "\n"
      ],
      "text/plain": [
       "  Neighbourhood mean_population_density mean_median_income mean_gini_income\n",
       "1 Arbutus Ridge  5360.252               106915             0.48040         \n",
       "2 Downtown      31467.572                84562             0.44482         \n",
       "  mean_certificate_density art_count\n",
       "1 0.8693448                  2      \n",
       "2 0.8726615                212      "
      ]
     },
     "metadata": {},
     "output_type": "display_data"
    }
   ],
   "source": [
    "clean_data <- subset_data_neighb %>%\n",
    "  left_join(art_count, by = \"Neighbourhood\") %>%\n",
    "  select(-GeoUID) %>%\n",
    "  group_by(Neighbourhood) %>%\n",
    "  summarize(\n",
    "    mean_population_density = mean(population_density, na.rm = TRUE),\n",
    "    mean_median_income = mean(median_income, na.rm = TRUE),\n",
    "    mean_gini_income = mean(gini_income, na.rm = TRUE),\n",
    "    mean_certificate_density = mean(certificate_density, na.rm = TRUE),\n",
    "    art_count = mean(art_count, na.rm = TRUE)   # same value for the same neighborhood\n",
    "  )\n",
    "\n",
    "head(clean_data,n=2)"
   ]
  },
  {
   "cell_type": "code",
   "execution_count": 14,
   "id": "b520168f-3840-4909-82e8-f6f01f8ff2d2",
   "metadata": {},
   "outputs": [
    {
     "data": {
      "text/html": [
       "22"
      ],
      "text/latex": [
       "22"
      ],
      "text/markdown": [
       "22"
      ],
      "text/plain": [
       "[1] 22"
      ]
     },
     "metadata": {},
     "output_type": "display_data"
    }
   ],
   "source": [
    "nrow(clean_data)"
   ]
  },
  {
   "cell_type": "markdown",
   "id": "e2f5ff21-6c40-441b-a72b-97f869cbcf18",
   "metadata": {},
   "source": [
    "This `clean_data` is our analysis sample, which contains 22 observations with 4 features of `mean_population_density`, `mean_median_income`, `mean_gini_income`, and `mean_certificate_density` and our target variable `art_count`.\n",
    "\n",
    "The sample size is small since we are taking one neighborhood in Vancouver as the unit of our sample. There could be some problem concerning with inferential part of our research, but considering the interested population in our research question, this sample is representative enough of our population. Therefore, we may be able to approximate our estimates to the true parameter even if the result of our inferential model is not good due to the limites sample size.\n",
    "\n",
    "Also, with this size of sample and the consideration above, we will not split it into training and test data for another model validation or test."
   ]
  },
  {
   "cell_type": "markdown",
   "id": "bd3dae95-238d-4596-a393-36db40ff626d",
   "metadata": {},
   "source": [
    "### - Summary Statistics"
   ]
  },
  {
   "cell_type": "code",
   "execution_count": 32,
   "id": "3e8d2662-0ec6-4a61-bbaa-19bd0a666547",
   "metadata": {},
   "outputs": [
    {
     "data": {
      "text/html": [
       "<table class=\"dataframe\">\n",
       "<caption>A tibble: 5 × 4</caption>\n",
       "<thead>\n",
       "\t<tr><th scope=col>variable</th><th scope=col>mean</th><th scope=col>max</th><th scope=col>sd</th></tr>\n",
       "\t<tr><th scope=col>&lt;chr&gt;</th><th scope=col>&lt;dbl&gt;</th><th scope=col>&lt;dbl&gt;</th><th scope=col>&lt;dbl&gt;</th></tr>\n",
       "</thead>\n",
       "<tbody>\n",
       "\t<tr><td>art_count          </td><td>    23.9545</td><td>   212.0000</td><td>   44.5148</td></tr>\n",
       "\t<tr><td>population_density </td><td>  6457.5899</td><td> 76474.4000</td><td> 7609.1689</td></tr>\n",
       "\t<tr><td>median_income      </td><td>100413.3845</td><td>260000.0000</td><td>27239.0355</td></tr>\n",
       "\t<tr><td>gini_income        </td><td>     0.3309</td><td>     0.7520</td><td>    0.0800</td></tr>\n",
       "\t<tr><td>certificate_density</td><td>     0.8483</td><td>     1.2154</td><td>    0.0926</td></tr>\n",
       "</tbody>\n",
       "</table>\n"
      ],
      "text/latex": [
       "A tibble: 5 × 4\n",
       "\\begin{tabular}{llll}\n",
       " variable & mean & max & sd\\\\\n",
       " <chr> & <dbl> & <dbl> & <dbl>\\\\\n",
       "\\hline\n",
       "\t art\\_count           &     23.9545 &    212.0000 &    44.5148\\\\\n",
       "\t population\\_density  &   6457.5899 &  76474.4000 &  7609.1689\\\\\n",
       "\t median\\_income       & 100413.3845 & 260000.0000 & 27239.0355\\\\\n",
       "\t gini\\_income         &      0.3309 &      0.7520 &     0.0800\\\\\n",
       "\t certificate\\_density &      0.8483 &      1.2154 &     0.0926\\\\\n",
       "\\end{tabular}\n"
      ],
      "text/markdown": [
       "\n",
       "A tibble: 5 × 4\n",
       "\n",
       "| variable &lt;chr&gt; | mean &lt;dbl&gt; | max &lt;dbl&gt; | sd &lt;dbl&gt; |\n",
       "|---|---|---|---|\n",
       "| art_count           |     23.9545 |    212.0000 |    44.5148 |\n",
       "| population_density  |   6457.5899 |  76474.4000 |  7609.1689 |\n",
       "| median_income       | 100413.3845 | 260000.0000 | 27239.0355 |\n",
       "| gini_income         |      0.3309 |      0.7520 |     0.0800 |\n",
       "| certificate_density |      0.8483 |      1.2154 |     0.0926 |\n",
       "\n"
      ],
      "text/plain": [
       "  variable            mean        max         sd        \n",
       "1 art_count               23.9545    212.0000    44.5148\n",
       "2 population_density    6457.5899  76474.4000  7609.1689\n",
       "3 median_income       100413.3845 260000.0000 27239.0355\n",
       "4 gini_income              0.3309      0.7520     0.0800\n",
       "5 certificate_density      0.8483      1.2154     0.0926"
      ]
     },
     "metadata": {},
     "output_type": "display_data"
    }
   ],
   "source": [
    "summary_stats_Y <- clean_data |>\n",
    "    summarize(\n",
    "        mean = mean(art_count, na.rm = TRUE),\n",
    "        max = max(art_count, na.rm = TRUE),\n",
    "        sd = sd(art_count, na.rm = TRUE)\n",
    "    ) |>\n",
    "    mutate(variable = \"art_count\") |>\n",
    "    select(variable, everything())\n",
    "\n",
    "new_rows <- data.frame(\n",
    "    variable = c(\"population_density\", \"median_income\", \"gini_income\", \"certificate_density\"),\n",
    "    mean = c(mean(subset_data$population_density, na.rm = TRUE), mean(subset_data$median_income, na.rm = TRUE), mean(subset_data$gini_income, na.rm = TRUE), mean(subset_data$certificate_density, na.rm = TRUE)),\n",
    "    max = c(max(subset_data$population_density, na.rm = TRUE), max(subset_data$median_income, na.rm = TRUE), max(subset_data$gini_income, na.rm = TRUE), max(subset_data$certificate_density, na.rm = TRUE)),\n",
    "    sd = c(sd(subset_data$population_density, na.rm = TRUE), sd(subset_data$median_income, na.rm = TRUE), sd(subset_data$gini_income, na.rm = TRUE), sd(subset_data$certificate_density, na.rm = TRUE)))\n",
    "\n",
    "summary_stats <- summary_stats_Y |>\n",
    "    rbind(new_rows)\n",
    "\n",
    "summary_stats |>\n",
    "   mutate_if(is.numeric, round, 4)"
   ]
  },
  {
   "cell_type": "markdown",
   "id": "0de9b690-61d9-4594-9a03-1d60c1ba0065",
   "metadata": {},
   "source": [
    "Here is the summary statistic table of the key variables we will use in your analysis."
   ]
  },
  {
   "cell_type": "markdown",
   "id": "43430665-39b9-4e65-bacc-0e0e15cdacdd",
   "metadata": {},
   "source": [
    "## Model"
   ]
  },
  {
   "cell_type": "markdown",
   "id": "986ddc56-59ed-44e8-8491-82abf9e19944",
   "metadata": {},
   "source": [
    "Firstly, we fit the full model with all of our input variables. The equation for this regression model will be: \n",
    "\n",
    " Y = β0 + β1X1 + β2X2 + β3X3 + β4X4 + ϵ\n",
    "> PublicArtDensity = β0 ​+ β1​Income_median + β2Income_gini_index + β3​number_of_people_with_certificates  + β4population_density + residual"
   ]
  },
  {
   "cell_type": "markdown",
   "id": "8f2202fb-6641-43db-b02f-71bc8262b315",
   "metadata": {},
   "source": [
    "The error(residual) is the difference between the actual value of Y the value predicted by our model. It reflects the unexplained portion of our model."
   ]
  },
  {
   "cell_type": "code",
   "execution_count": 16,
   "id": "61b8c745-01c0-4168-ac93-62281b4656c3",
   "metadata": {},
   "outputs": [
    {
     "data": {
      "text/plain": [
       "\n",
       "Call:\n",
       "lm(formula = art_count ~ . - Neighbourhood, data = clean_data)\n",
       "\n",
       "Residuals:\n",
       "    Min      1Q  Median      3Q     Max \n",
       "-60.846  -8.421  -0.606   9.608  49.045 \n",
       "\n",
       "Coefficients:\n",
       "                           Estimate Std. Error t value Pr(>|t|)    \n",
       "(Intercept)               1.717e+02  1.924e+02   0.892   0.3847    \n",
       "mean_population_density   6.829e-03  1.107e-03   6.170 1.03e-05 ***\n",
       "mean_median_income        9.531e-04  5.058e-04   1.884   0.0768 .  \n",
       "mean_gini_income         -2.773e+01  1.107e+02  -0.250   0.8052    \n",
       "mean_certificate_density -3.345e+02  2.237e+02  -1.495   0.1532    \n",
       "---\n",
       "Signif. codes:  0 ‘***’ 0.001 ‘**’ 0.01 ‘*’ 0.05 ‘.’ 0.1 ‘ ’ 1\n",
       "\n",
       "Residual standard error: 24.46 on 17 degrees of freedom\n",
       "Multiple R-squared:  0.7556,\tAdjusted R-squared:  0.698 \n",
       "F-statistic: 13.14 on 4 and 17 DF,  p-value: 4.677e-05\n"
      ]
     },
     "metadata": {},
     "output_type": "display_data"
    }
   ],
   "source": [
    "full_model <- lm(art_count~.-Neighbourhood, data=clean_data)\n",
    "\n",
    "summary(full_model)"
   ]
  },
  {
   "cell_type": "code",
   "execution_count": 17,
   "id": "b94cdf41-30e5-453a-b5fc-8e34674bee23",
   "metadata": {},
   "outputs": [
    {
     "data": {
      "text/html": [
       "<table class=\"dataframe\">\n",
       "<caption>A tibble: 5 × 5</caption>\n",
       "<thead>\n",
       "\t<tr><th scope=col>term</th><th scope=col>estimate</th><th scope=col>std.error</th><th scope=col>statistic</th><th scope=col>p.value</th></tr>\n",
       "\t<tr><th scope=col>&lt;chr&gt;</th><th scope=col>&lt;dbl&gt;</th><th scope=col>&lt;dbl&gt;</th><th scope=col>&lt;dbl&gt;</th><th scope=col>&lt;dbl&gt;</th></tr>\n",
       "</thead>\n",
       "<tbody>\n",
       "\t<tr><td>(Intercept)             </td><td> 171.70924</td><td>192.42171</td><td> 0.89236</td><td>0.38466</td></tr>\n",
       "\t<tr><td>mean_population_density </td><td>   0.00683</td><td>  0.00111</td><td> 6.17006</td><td>0.00001</td></tr>\n",
       "\t<tr><td>mean_median_income      </td><td>   0.00095</td><td>  0.00051</td><td> 1.88413</td><td>0.07677</td></tr>\n",
       "\t<tr><td>mean_gini_income        </td><td> -27.72702</td><td>110.69159</td><td>-0.25049</td><td>0.80521</td></tr>\n",
       "\t<tr><td>mean_certificate_density</td><td>-334.49025</td><td>223.70224</td><td>-1.49525</td><td>0.15318</td></tr>\n",
       "</tbody>\n",
       "</table>\n"
      ],
      "text/latex": [
       "A tibble: 5 × 5\n",
       "\\begin{tabular}{lllll}\n",
       " term & estimate & std.error & statistic & p.value\\\\\n",
       " <chr> & <dbl> & <dbl> & <dbl> & <dbl>\\\\\n",
       "\\hline\n",
       "\t (Intercept)              &  171.70924 & 192.42171 &  0.89236 & 0.38466\\\\\n",
       "\t mean\\_population\\_density  &    0.00683 &   0.00111 &  6.17006 & 0.00001\\\\\n",
       "\t mean\\_median\\_income       &    0.00095 &   0.00051 &  1.88413 & 0.07677\\\\\n",
       "\t mean\\_gini\\_income         &  -27.72702 & 110.69159 & -0.25049 & 0.80521\\\\\n",
       "\t mean\\_certificate\\_density & -334.49025 & 223.70224 & -1.49525 & 0.15318\\\\\n",
       "\\end{tabular}\n"
      ],
      "text/markdown": [
       "\n",
       "A tibble: 5 × 5\n",
       "\n",
       "| term &lt;chr&gt; | estimate &lt;dbl&gt; | std.error &lt;dbl&gt; | statistic &lt;dbl&gt; | p.value &lt;dbl&gt; |\n",
       "|---|---|---|---|---|\n",
       "| (Intercept)              |  171.70924 | 192.42171 |  0.89236 | 0.38466 |\n",
       "| mean_population_density  |    0.00683 |   0.00111 |  6.17006 | 0.00001 |\n",
       "| mean_median_income       |    0.00095 |   0.00051 |  1.88413 | 0.07677 |\n",
       "| mean_gini_income         |  -27.72702 | 110.69159 | -0.25049 | 0.80521 |\n",
       "| mean_certificate_density | -334.49025 | 223.70224 | -1.49525 | 0.15318 |\n",
       "\n"
      ],
      "text/plain": [
       "  term                     estimate   std.error statistic p.value\n",
       "1 (Intercept)               171.70924 192.42171  0.89236  0.38466\n",
       "2 mean_population_density     0.00683   0.00111  6.17006  0.00001\n",
       "3 mean_median_income          0.00095   0.00051  1.88413  0.07677\n",
       "4 mean_gini_income          -27.72702 110.69159 -0.25049  0.80521\n",
       "5 mean_certificate_density -334.49025 223.70224 -1.49525  0.15318"
      ]
     },
     "metadata": {},
     "output_type": "display_data"
    }
   ],
   "source": [
    "tidy(summary(full_model))%>% mutate_if(is.numeric, round, 5)"
   ]
  },
  {
   "cell_type": "code",
   "execution_count": 18,
   "id": "f9a8c818-6e67-4abf-b86a-fb2344d0db28",
   "metadata": {},
   "outputs": [
    {
     "name": "stdout",
     "output_type": "stream",
     "text": [
      " mean_population_density       mean_median_income         mean_gini_income \n",
      "                2.321396                 3.750051                 2.411733 \n",
      "mean_certificate_density \n",
      "                1.183762 \n"
     ]
    }
   ],
   "source": [
    "vif_values <- vif(full_model)\n",
    "print(vif_values)"
   ]
  },
  {
   "cell_type": "markdown",
   "id": "eb0040af-b864-43ac-9e81-c41aaf0fbcbb",
   "metadata": {},
   "source": [
    "With the VIF values for these variables, there is no high multicollinearity among them."
   ]
  },
  {
   "cell_type": "markdown",
   "id": "55198000-de83-4299-bbe8-af7817257401",
   "metadata": {},
   "source": [
    "#### Variation model 1 - reduced model"
   ]
  },
  {
   "cell_type": "markdown",
   "id": "d7e666a7-f2dc-4350-a583-669ed4ab9766",
   "metadata": {},
   "source": [
    "In definition, two variables `mean_median_income` and `mean_gini_income` might have some correlation, let us try the model without the mean_gini_income."
   ]
  },
  {
   "cell_type": "markdown",
   "id": "13747187-e8ea-4a27-80d7-a42796085372",
   "metadata": {},
   "source": [
    "The equation for this regression model will be: \n",
    "\n",
    " Y = β0 + β1X1 + β2X2 + β3X3 + ϵ\n",
    "> PublicArtDensity = β0 ​+ β1​Income_median + β2​number_of_people_with_certificates  + β3population_density + residual"
   ]
  },
  {
   "cell_type": "code",
   "execution_count": 19,
   "id": "d27ddf9e-349e-4086-ae3f-26af673252a3",
   "metadata": {},
   "outputs": [
    {
     "data": {
      "text/html": [
       "<table class=\"dataframe\">\n",
       "<caption>A tibble: 4 × 5</caption>\n",
       "<thead>\n",
       "\t<tr><th scope=col>term</th><th scope=col>estimate</th><th scope=col>std.error</th><th scope=col>statistic</th><th scope=col>p.value</th></tr>\n",
       "\t<tr><th scope=col>&lt;chr&gt;</th><th scope=col>&lt;dbl&gt;</th><th scope=col>&lt;dbl&gt;</th><th scope=col>&lt;dbl&gt;</th><th scope=col>&lt;dbl&gt;</th></tr>\n",
       "</thead>\n",
       "<tbody>\n",
       "\t<tr><td>(Intercept)             </td><td> 166.65489</td><td>186.31217</td><td> 0.89449</td><td>0.38286</td></tr>\n",
       "\t<tr><td>mean_population_density </td><td>   0.00670</td><td>  0.00095</td><td> 7.08028</td><td>0.00000</td></tr>\n",
       "\t<tr><td>mean_median_income      </td><td>   0.00086</td><td>  0.00032</td><td> 2.67940</td><td>0.01531</td></tr>\n",
       "\t<tr><td>mean_certificate_density</td><td>-329.15169</td><td>216.80962</td><td>-1.51816</td><td>0.14634</td></tr>\n",
       "</tbody>\n",
       "</table>\n"
      ],
      "text/latex": [
       "A tibble: 4 × 5\n",
       "\\begin{tabular}{lllll}\n",
       " term & estimate & std.error & statistic & p.value\\\\\n",
       " <chr> & <dbl> & <dbl> & <dbl> & <dbl>\\\\\n",
       "\\hline\n",
       "\t (Intercept)              &  166.65489 & 186.31217 &  0.89449 & 0.38286\\\\\n",
       "\t mean\\_population\\_density  &    0.00670 &   0.00095 &  7.08028 & 0.00000\\\\\n",
       "\t mean\\_median\\_income       &    0.00086 &   0.00032 &  2.67940 & 0.01531\\\\\n",
       "\t mean\\_certificate\\_density & -329.15169 & 216.80962 & -1.51816 & 0.14634\\\\\n",
       "\\end{tabular}\n"
      ],
      "text/markdown": [
       "\n",
       "A tibble: 4 × 5\n",
       "\n",
       "| term &lt;chr&gt; | estimate &lt;dbl&gt; | std.error &lt;dbl&gt; | statistic &lt;dbl&gt; | p.value &lt;dbl&gt; |\n",
       "|---|---|---|---|---|\n",
       "| (Intercept)              |  166.65489 | 186.31217 |  0.89449 | 0.38286 |\n",
       "| mean_population_density  |    0.00670 |   0.00095 |  7.08028 | 0.00000 |\n",
       "| mean_median_income       |    0.00086 |   0.00032 |  2.67940 | 0.01531 |\n",
       "| mean_certificate_density | -329.15169 | 216.80962 | -1.51816 | 0.14634 |\n",
       "\n"
      ],
      "text/plain": [
       "  term                     estimate   std.error statistic p.value\n",
       "1 (Intercept)               166.65489 186.31217  0.89449  0.38286\n",
       "2 mean_population_density     0.00670   0.00095  7.08028  0.00000\n",
       "3 mean_median_income          0.00086   0.00032  2.67940  0.01531\n",
       "4 mean_certificate_density -329.15169 216.80962 -1.51816  0.14634"
      ]
     },
     "metadata": {},
     "output_type": "display_data"
    }
   ],
   "source": [
    "no_gini_model <- lm(art_count~.-Neighbourhood-mean_gini_income, data=clean_data)\n",
    "\n",
    "tidy(summary(no_gini_model))%>% mutate_if(is.numeric, round, 5)"
   ]
  },
  {
   "cell_type": "markdown",
   "id": "73dccf63-6d49-4295-ab89-0a92b4bb84ce",
   "metadata": {},
   "source": [
    "#### Variation model 2 - interaction model"
   ]
  },
  {
   "cell_type": "markdown",
   "id": "bc767ecb-cbdc-4965-9e56-f2d1e4260379",
   "metadata": {},
   "source": [
    "Finally, we try the interaction model with the interaction term of mean_population_density and mean_certificate_density, including the interaction between the population and count of certificates.\n",
    "\n",
    "The equation for this regression model will be: \n",
    "\n",
    " Y = β0 + β1X1 + β2X2 + β3X3 + β4X2*X3 + ϵ\n",
    "> PublicArtDensity = β0 ​+ β1​Income_median + β2​number_of_people_with_certificates + β3population_density + β4mean_population_density*mean_certificate_density + residual"
   ]
  },
  {
   "cell_type": "code",
   "execution_count": 20,
   "id": "22eba098-c904-4ea8-856b-af602a72a368",
   "metadata": {},
   "outputs": [
    {
     "data": {
      "text/html": [
       "<table class=\"dataframe\">\n",
       "<caption>A tibble: 5 × 5</caption>\n",
       "<thead>\n",
       "\t<tr><th scope=col>term</th><th scope=col>estimate</th><th scope=col>std.error</th><th scope=col>statistic</th><th scope=col>p.value</th></tr>\n",
       "\t<tr><th scope=col>&lt;chr&gt;</th><th scope=col>&lt;dbl&gt;</th><th scope=col>&lt;dbl&gt;</th><th scope=col>&lt;dbl&gt;</th><th scope=col>&lt;dbl&gt;</th></tr>\n",
       "</thead>\n",
       "<tbody>\n",
       "\t<tr><td>(Intercept)                                     </td><td>-738.12813</td><td>208.09170</td><td>-3.54713</td><td>0.00248</td></tr>\n",
       "\t<tr><td>mean_median_income                              </td><td>   0.00109</td><td>  0.00021</td><td> 5.24614</td><td>0.00007</td></tr>\n",
       "\t<tr><td>mean_population_density                         </td><td>   0.08160</td><td>  0.01420</td><td> 5.74570</td><td>0.00002</td></tr>\n",
       "\t<tr><td>mean_certificate_density                        </td><td> 678.16712</td><td>235.09541</td><td> 2.88465</td><td>0.01029</td></tr>\n",
       "\t<tr><td>mean_population_density:mean_certificate_density</td><td>  -0.08446</td><td>  0.01600</td><td>-5.27894</td><td>0.00006</td></tr>\n",
       "</tbody>\n",
       "</table>\n"
      ],
      "text/latex": [
       "A tibble: 5 × 5\n",
       "\\begin{tabular}{lllll}\n",
       " term & estimate & std.error & statistic & p.value\\\\\n",
       " <chr> & <dbl> & <dbl> & <dbl> & <dbl>\\\\\n",
       "\\hline\n",
       "\t (Intercept)                                      & -738.12813 & 208.09170 & -3.54713 & 0.00248\\\\\n",
       "\t mean\\_median\\_income                               &    0.00109 &   0.00021 &  5.24614 & 0.00007\\\\\n",
       "\t mean\\_population\\_density                          &    0.08160 &   0.01420 &  5.74570 & 0.00002\\\\\n",
       "\t mean\\_certificate\\_density                         &  678.16712 & 235.09541 &  2.88465 & 0.01029\\\\\n",
       "\t mean\\_population\\_density:mean\\_certificate\\_density &   -0.08446 &   0.01600 & -5.27894 & 0.00006\\\\\n",
       "\\end{tabular}\n"
      ],
      "text/markdown": [
       "\n",
       "A tibble: 5 × 5\n",
       "\n",
       "| term &lt;chr&gt; | estimate &lt;dbl&gt; | std.error &lt;dbl&gt; | statistic &lt;dbl&gt; | p.value &lt;dbl&gt; |\n",
       "|---|---|---|---|---|\n",
       "| (Intercept)                                      | -738.12813 | 208.09170 | -3.54713 | 0.00248 |\n",
       "| mean_median_income                               |    0.00109 |   0.00021 |  5.24614 | 0.00007 |\n",
       "| mean_population_density                          |    0.08160 |   0.01420 |  5.74570 | 0.00002 |\n",
       "| mean_certificate_density                         |  678.16712 | 235.09541 |  2.88465 | 0.01029 |\n",
       "| mean_population_density:mean_certificate_density |   -0.08446 |   0.01600 | -5.27894 | 0.00006 |\n",
       "\n"
      ],
      "text/plain": [
       "  term                                             estimate   std.error\n",
       "1 (Intercept)                                      -738.12813 208.09170\n",
       "2 mean_median_income                                  0.00109   0.00021\n",
       "3 mean_population_density                             0.08160   0.01420\n",
       "4 mean_certificate_density                          678.16712 235.09541\n",
       "5 mean_population_density:mean_certificate_density   -0.08446   0.01600\n",
       "  statistic p.value\n",
       "1 -3.54713  0.00248\n",
       "2  5.24614  0.00007\n",
       "3  5.74570  0.00002\n",
       "4  2.88465  0.01029\n",
       "5 -5.27894  0.00006"
      ]
     },
     "metadata": {},
     "output_type": "display_data"
    }
   ],
   "source": [
    "interaction_model <- lm(art_count~mean_median_income+mean_population_density*mean_certificate_density, data=clean_data)\n",
    "\n",
    "tidy(summary(interaction_model))%>% mutate_if(is.numeric, round, 5)"
   ]
  },
  {
   "cell_type": "code",
   "execution_count": 21,
   "id": "2b72c2c4-5e2e-4261-b434-e49de94b5998",
   "metadata": {
    "scrolled": true
   },
   "outputs": [
    {
     "data": {
      "text/html": [
       "<style>\n",
       ".dl-inline {width: auto; margin:0; padding: 0}\n",
       ".dl-inline>dt, .dl-inline>dd {float: none; width: auto; display: inline-block}\n",
       ".dl-inline>dt::after {content: \":\\0020\"; padding-right: .5ex}\n",
       ".dl-inline>dt:not(:first-of-type) {padding-left: .5ex}\n",
       "</style><dl class=dl-inline><dt>(Intercept)</dt><dd>168.196531982499</dd><dt>mean_median_income</dt><dd>0.000211868489755336</dd><dt>mean_population_density</dt><dd>0.013276920760438</dd><dt>mean_certificate_density</dt><dd>183.695971931599</dd><dt>mean_population_density:mean_certificate_density</dt><dd>0.0145946460917003</dd></dl>\n"
      ],
      "text/latex": [
       "\\begin{description*}\n",
       "\\item[(Intercept)] 168.196531982499\n",
       "\\item[mean\\textbackslash{}\\_median\\textbackslash{}\\_income] 0.000211868489755336\n",
       "\\item[mean\\textbackslash{}\\_population\\textbackslash{}\\_density] 0.013276920760438\n",
       "\\item[mean\\textbackslash{}\\_certificate\\textbackslash{}\\_density] 183.695971931599\n",
       "\\item[mean\\textbackslash{}\\_population\\textbackslash{}\\_density:mean\\textbackslash{}\\_certificate\\textbackslash{}\\_density] 0.0145946460917003\n",
       "\\end{description*}\n"
      ],
      "text/markdown": [
       "(Intercept)\n",
       ":   168.196531982499mean_median_income\n",
       ":   0.000211868489755336mean_population_density\n",
       ":   0.013276920760438mean_certificate_density\n",
       ":   183.695971931599mean_population_density:mean_certificate_density\n",
       ":   0.0145946460917003\n",
       "\n"
      ],
      "text/plain": [
       "                                     (Intercept) \n",
       "                                    1.681965e+02 \n",
       "                              mean_median_income \n",
       "                                    2.118685e-04 \n",
       "                         mean_population_density \n",
       "                                    1.327692e-02 \n",
       "                        mean_certificate_density \n",
       "                                    1.836960e+02 \n",
       "mean_population_density:mean_certificate_density \n",
       "                                    1.459465e-02 "
      ]
     },
     "metadata": {},
     "output_type": "display_data"
    }
   ],
   "source": [
    "robust_se <- sqrt(diag(vcovHC(interaction_model, type = \"HC1\")))\n",
    "robust_se"
   ]
  },
  {
   "cell_type": "markdown",
   "id": "25e28448-6148-4117-a44d-1288a50b0674",
   "metadata": {},
   "source": [
    "The robust standard error of the coefficient for mean_median_income is 0.00021, 0.01328 for mean_population_density and 0.01459 for the interaction term between mean_population_density and mean_certificate_density, these small SE indicates precise estimation and more confidence in the estimated coefficient. The robust standard error for mean_certificate_density is 183.70. Its large value indicates high variability in the estimate. "
   ]
  },
  {
   "cell_type": "markdown",
   "id": "df6b62d5-6316-47a1-b64d-d813b723b46c",
   "metadata": {},
   "source": [
    "## - Table of Results"
   ]
  },
  {
   "cell_type": "code",
   "execution_count": 33,
   "id": "0eb5b15c-b891-4713-a852-8ee80e7022cd",
   "metadata": {},
   "outputs": [
    {
     "name": "stdout",
     "output_type": "stream",
     "text": [
      "\n",
      "=====================================================================================================================\n",
      "                                                                         Dependent variable:                         \n",
      "                                                 --------------------------------------------------------------------\n",
      "                                                                              Art Count                              \n",
      "                                                          (1)                    (2)                    (3)          \n",
      "---------------------------------------------------------------------------------------------------------------------\n",
      "Mean Median Income                                      0.007***               0.007***               0.082***       \n",
      "                                                        (0.001)                (0.001)                (0.014)        \n",
      "                                                                                                                     \n",
      "Mean Population Density                                  0.001*                0.001**                0.001***       \n",
      "                                                        (0.001)                (0.0003)               (0.0002)       \n",
      "                                                                                                                     \n",
      "Mean Certificate Density                                -27.727                                                      \n",
      "                                                       (110.692)                                                     \n",
      "                                                                                                                     \n",
      "Population Density*Certificate Density                  -334.490               -329.152              678.167**       \n",
      "                                                       (223.702)              (216.810)              (235.095)       \n",
      "                                                                                                                     \n",
      "mean_population_density:mean_certificate_density                                                     -0.084***       \n",
      "                                                                                                      (0.016)        \n",
      "                                                                                                                     \n",
      "Constant                                                171.709                166.655              -738.128***      \n",
      "                                                       (192.422)              (186.312)              (208.092)       \n",
      "                                                                                                                     \n",
      "---------------------------------------------------------------------------------------------------------------------\n",
      "Observations                                               22                     22                     22          \n",
      "R2                                                       0.756                  0.755                  0.907         \n",
      "Adjusted R2                                              0.698                  0.714                  0.885         \n",
      "Residual Std. Error                                 24.461 (df = 17)       23.816 (df = 18)       15.085 (df = 17)   \n",
      "F Statistic                                      13.137*** (df = 4; 17) 18.456*** (df = 3; 18) 41.469*** (df = 4; 17)\n",
      "=====================================================================================================================\n",
      "Note:                                                                                     *p<0.1; **p<0.05; ***p<0.01\n"
     ]
    }
   ],
   "source": [
    "stargazer(full_model, no_gini_model, interaction_model, \n",
    "          type = \"text\", \n",
    "          covariate.labels = c(\"Mean Median Income\", \n",
    "                               \"Mean Population Density\", \n",
    "                               \"Mean Certificate Density\", \n",
    "                               \"Population Density*Certificate Density\"), \n",
    "          dep.var.labels = c(\"Art Count\"))"
   ]
  },
  {
   "cell_type": "code",
   "execution_count": 23,
   "id": "93a51f3c-5ec2-49a6-b261-a2e2aa41f99b",
   "metadata": {},
   "outputs": [
    {
     "data": {
      "text/html": [
       "<table class=\"dataframe\">\n",
       "<caption>A data.frame: 3 × 2</caption>\n",
       "<thead>\n",
       "\t<tr><th scope=col>Model</th><th scope=col>Adjusted_R_squared</th></tr>\n",
       "\t<tr><th scope=col>&lt;chr&gt;</th><th scope=col>&lt;dbl&gt;</th></tr>\n",
       "</thead>\n",
       "<tbody>\n",
       "\t<tr><td>Full Model       </td><td>0.6980441</td></tr>\n",
       "\t<tr><td>No Gini Model    </td><td>0.7137668</td></tr>\n",
       "\t<tr><td>Interaction Model</td><td>0.8851679</td></tr>\n",
       "</tbody>\n",
       "</table>\n"
      ],
      "text/latex": [
       "A data.frame: 3 × 2\n",
       "\\begin{tabular}{ll}\n",
       " Model & Adjusted\\_R\\_squared\\\\\n",
       " <chr> & <dbl>\\\\\n",
       "\\hline\n",
       "\t Full Model        & 0.6980441\\\\\n",
       "\t No Gini Model     & 0.7137668\\\\\n",
       "\t Interaction Model & 0.8851679\\\\\n",
       "\\end{tabular}\n"
      ],
      "text/markdown": [
       "\n",
       "A data.frame: 3 × 2\n",
       "\n",
       "| Model &lt;chr&gt; | Adjusted_R_squared &lt;dbl&gt; |\n",
       "|---|---|\n",
       "| Full Model        | 0.6980441 |\n",
       "| No Gini Model     | 0.7137668 |\n",
       "| Interaction Model | 0.8851679 |\n",
       "\n"
      ],
      "text/plain": [
       "  Model             Adjusted_R_squared\n",
       "1 Full Model        0.6980441         \n",
       "2 No Gini Model     0.7137668         \n",
       "3 Interaction Model 0.8851679         "
      ]
     },
     "metadata": {},
     "output_type": "display_data"
    }
   ],
   "source": [
    "adj_r2_full <- summary(full_model)$adj.r.squared\n",
    "adj_r2_no_gini <- summary(no_gini_model)$adj.r.squared\n",
    "adj_r2_interaction <- summary(interaction_model)$adj.r.squared\n",
    "\n",
    "model_comparison <- data.frame(\n",
    "  Model = c(\"Full Model\", \"No Gini Model\", \"Interaction Model\"),\n",
    "  Adjusted_R_squared = c(adj_r2_full, adj_r2_no_gini, adj_r2_interaction)\n",
    ")\n",
    "\n",
    "model_comparison"
   ]
  },
  {
   "cell_type": "markdown",
   "id": "7313e1d0-f56b-48c4-8161-bb37fbf5cbe9",
   "metadata": {},
   "source": [
    "Our interaction model shows the best adjusted R<sup>2</sup> score."
   ]
  },
  {
   "cell_type": "markdown",
   "id": "a2742ea7-4ca7-4fc0-8795-86c3fe115a08",
   "metadata": {},
   "source": [
    "## Discussion"
   ]
  },
  {
   "cell_type": "markdown",
   "id": "d790e728-4f8b-4750-baf0-d4b8542317e6",
   "metadata": {},
   "source": [
    "In the first model, we examine factors affecting the number of art installations (art_count). The results show that population density has a significant positive effect, with a coefficient of 0.006829 and a p-value of 1.03e-05. This suggests that denser areas tend to have more art installations, likely due to higher demand for public and cultural activities. However, median income and the Gini index are not statistically significant. Median income has a positive but weak effect (p-value = 0.0768), while the Gini index shows a large negative coefficient, indicating no significant impact. Certificate density also shows no significant effect (p-value = 0.1532). The model explains about 70% of the variation in art installations, with a statistically significant overall model (F-statistic = 13.14, p < 0.01)."
   ]
  },
  {
   "cell_type": "markdown",
   "id": "9c5fe0ab-c14d-4b69-8e57-d3e316e9c74c",
   "metadata": {},
   "source": [
    "In the \"no_gini_model,\" we excluded the variable mean_gini_income, which might have correlated with mean_median_income. We attempt to improve the model by reducing potential multicollinearity. \n",
    "In this model, the estimation of mean_population_density is similar to model 1. We mainly focus on other variables. \n",
    "Mean_median_income has a coefficient of 0.00086 and a p-value is statistically significant at the 0.05 level. This is a stronger effect compared to the first model. By removing mean_gini_income, we have slightly improved the statistical significance of mean_median_income, suggesting that its positive relationship with art installations is more pronounced when multicollinearity between the two variables is avoided.Same as above, mean_certificate_density still doesn’t show a clear effect on art installations after excluding mean_gini_income."
   ]
  },
  {
   "cell_type": "markdown",
   "id": "50c3396d-6616-429a-a0c8-d0b1a38c68ee",
   "metadata": {},
   "source": [
    "In the interaction model, we explore how the interaction between population density and certificate density influences the number of public art installations. Here, all explantory variables show significant results. Notably, the coefficient for mean_certificate_density is now positive (678.167), which contrasts with its non-significant effect in the previous models. This could indicate that certificate density has a non-linear relationship with public art installations or there's no correlation. The interaction term between population density and certificate density is negative (-0.08446), suggesting that while both factors independently contribute positively to the number of public art installations, their combined effect is negative. In other words, as population density increases, but certificate density remains constant, the number of art installations decreases. Similarly, when certificate density increases but population density stays the same, the number of installations also decreases. This interaction term is difficult to interpret but highlights the complex relationship between these variables. The robustness test of this model indicates our only estimate for mean_certificate_density with less confidence, while the estimates for other input variables more precise and reliable."
   ]
  },
  {
   "cell_type": "markdown",
   "id": "16c3b2e2-33b1-4976-9502-b414fd2525cd",
   "metadata": {},
   "source": [
    "Overall, the interaction model provides the best explanation for the variation in art installations, as it includes significant coefficients and a high adjusted R² value of 0.885, showing a much better fit compared to the first model (R² = 0.69). "
   ]
  },
  {
   "cell_type": "markdown",
   "id": "3a1e2935-75ef-44a2-a6b9-f6a1d75afcfb",
   "metadata": {},
   "source": [
    "## Conclusion\n"
   ]
  },
  {
   "cell_type": "markdown",
   "id": "9c2c6c45-60a4-4cfb-958c-975e9e24b629",
   "metadata": {},
   "source": [
    "In conclusion, this study examined the factors affecting the placement of public art installations in Vancouver. Our findings show that mean median income and certificant density are important factors. Areas with higher income and population density tend to have more public art. The interaction between population density and certificate density was also significant in the third model, but in a negative direction. These results suggest that richer, denser neighborhoods are more likely to have public art, confirming previous research on how such art promotes community and engagement."
   ]
  },
  {
   "cell_type": "markdown",
   "id": "65fcc2d0-ea15-4138-9df6-4ded350ea3f1",
   "metadata": {},
   "source": [
    "## References"
   ]
  },
  {
   "cell_type": "markdown",
   "id": "9227a601-899e-49ab-9af3-16f1536ec2f6",
   "metadata": {},
   "source": [
    "1. Schuermans, N., Loopmans, M. P. J., & Vandenabeele, J. (2012). Public space, public art and public pedagogy. Social & Cultural Geography, 13(7), 675–682. https://doi.org/10.1080/14649365.2012.728007\n",
    "1. Censusmapper.ca. (2021) https://censusmapper.ca/api/CA21#13/49.2717/-123.1262\n",
    "3. Public art. (2024). Vancouver.ca. https://opendata.vancouver.ca/explore/dataset/public-art/export/?location=13,49.26603,-123.14601\n"
   ]
  },
  {
   "cell_type": "code",
   "execution_count": null,
   "id": "3fce10ea-f6b7-4b96-9c6b-3f771bc39a07",
   "metadata": {},
   "outputs": [],
   "source": []
  }
 ],
 "metadata": {
  "kernelspec": {
   "display_name": "R",
   "language": "R",
   "name": "ir"
  },
  "language_info": {
   "codemirror_mode": "r",
   "file_extension": ".r",
   "mimetype": "text/x-r-source",
   "name": "R",
   "pygments_lexer": "r",
   "version": "4.3.3"
  }
 },
 "nbformat": 4,
 "nbformat_minor": 5
}
