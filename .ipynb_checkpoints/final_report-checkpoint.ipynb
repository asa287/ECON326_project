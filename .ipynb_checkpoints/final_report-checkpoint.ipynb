{
 "cells": [
  {
   "cell_type": "markdown",
   "id": "876d7d95-f1ce-4017-9f49-65f4daa22caf",
   "metadata": {},
   "source": [
    "# Individual Socioeconomic Status and the Placement of Public Art Installations within Vancouver"
   ]
  },
  {
   "cell_type": "code",
   "execution_count": 1,
   "id": "ca33f4ae-b9d5-4126-ab99-1c8af51066f4",
   "metadata": {},
   "outputs": [],
   "source": [
    "# load library\n",
    "suppressPackageStartupMessages(\n",
    "    {library(\"tidyr\")\n",
    "    library(\"dplyr\")\n",
    "    library(tidyverse)\n",
    "    library(\"broom\")\n",
    "})"
   ]
  },
  {
   "cell_type": "markdown",
   "id": "9de81842-0bc0-4f85-895b-896b3786c50b",
   "metadata": {},
   "source": [
    "## outline\n",
    "- Introduction\n",
    "- Data Description\n",
    "    - Summary Statistics **done**\n",
    "- Model\n",
    "    - Table of Results\n",
    "- Discussion\n",
    "- Conclusion\n",
    "- References"
   ]
  },
  {
   "cell_type": "markdown",
   "id": "881812e2-1fd3-4267-b4b1-47bd15d94ddc",
   "metadata": {},
   "source": [
    "## Introduction"
   ]
  },
  {
   "cell_type": "markdown",
   "id": "da49151a-62cd-4a16-bd08-96053bb26733",
   "metadata": {},
   "source": [
    "**EDIT HERE!!!!**\n",
    "\n",
    "Introduction: the introduction is the most important part of your paper. A good\n",
    "introduction should do the following:\n",
    "- Provide motivation for the paper: why should I care about this paper?\n",
    "- Clearly and explicitly state the research question for the paper. What is this paper\n",
    "going to find out?\n",
    "- Provide key background: what do we know about the answer already?\n",
    "- Give an overview of your results and what your paper will find: what did you learn?"
   ]
  },
  {
   "cell_type": "markdown",
   "id": "5105fdf5-d5ec-47c9-a43f-9715a9c507d6",
   "metadata": {},
   "source": [
    "## Data Description"
   ]
  },
  {
   "cell_type": "markdown",
   "id": "17abeea9-737a-4423-b8d8-36fae9eae151",
   "metadata": {},
   "source": [
    "Data Description: in the data description, you should focus on the following elements:\n",
    "- What is the source of the data?  **done**\n",
    "- How is the data structured? Are there any important features we need to understand?  **done**\n",
    "- What are the important variables? Why are they important?  **done**\n",
    "- How are the variables structured? Are there any necessary transformations needed?\n",
    "- What is your analysis sample? Why or how was it constructed."
   ]
  },
  {
   "cell_type": "markdown",
   "id": "bbd7b082-fc9f-4ea5-98a6-c6fa6d269d75",
   "metadata": {},
   "source": [
    "To conduct the analysis, we will use two primary datasets. \n",
    "\n",
    "The first one is the 2021 Canadian Census, including many variables at the Census Dissemination Area (DA) level, as the source of data on the socioeconomic status of different neighborhoods in Vancouver. Another dataset is a public art dataset that includes the titles, types, status, and locations of art installations in Vancouver. We will study our research topic by combining the information from these two datasets. \n",
    "\n",
    "For the measures of socioeconomic status, we will focus on the income and education level of people in different neighborhoods in Vancouver. For income variables, we will use the income Gini index, also the median income. To measure educational attainment, we will use the education level. In addition to education and income, we will include the population density variable in our model as a control to test whether the other variables affect the placement of public art in Vancouver."
   ]
  },
  {
   "cell_type": "code",
   "execution_count": 2,
   "id": "b234eb87-5dbd-4d26-ad35-f3fef4610777",
   "metadata": {
    "scrolled": true
   },
   "outputs": [
    {
     "name": "stderr",
     "output_type": "stream",
     "text": [
      "\u001b[1mRows: \u001b[22m\u001b[34m695\u001b[39m \u001b[1mColumns: \u001b[22m\u001b[34m20\u001b[39m\n",
      "\u001b[36m──\u001b[39m \u001b[1mColumn specification\u001b[22m \u001b[36m────────────────────────────────────────────────────────\u001b[39m\n",
      "\u001b[1mDelimiter:\u001b[22m \";\"\n",
      "\u001b[31mchr\u001b[39m (17): Title of Work, ArtistProjectStatement, Type, Status, SiteName, Sit...\n",
      "\u001b[32mdbl\u001b[39m  (2): RegistryID, YearOfInstallation\n",
      "\u001b[32mnum\u001b[39m  (1): Artists\n",
      "\n",
      "\u001b[36mℹ\u001b[39m Use `spec()` to retrieve the full column specification for this data.\n",
      "\u001b[36mℹ\u001b[39m Specify the column types or set `show_col_types = FALSE` to quiet this message.\n"
     ]
    },
    {
     "data": {
      "text/html": [
       "<table class=\"dataframe\">\n",
       "<caption>A tibble: 3 × 20</caption>\n",
       "<thead>\n",
       "\t<tr><th scope=col>RegistryID</th><th scope=col>Title of Work</th><th scope=col>ArtistProjectStatement</th><th scope=col>Type</th><th scope=col>Status</th><th scope=col>SiteName</th><th scope=col>SiteAddress</th><th scope=col>PrimaryMaterial</th><th scope=col>URL</th><th scope=col>PhotoURL</th><th scope=col>Ownership</th><th scope=col>Neighbourhood</th><th scope=col>LocationOnsite</th><th scope=col>Geom</th><th scope=col>Geo Local Area</th><th scope=col>DescriptionOfwork</th><th scope=col>Artists</th><th scope=col>PhotoCredits</th><th scope=col>YearOfInstallation</th><th scope=col>geo_point_2d</th></tr>\n",
       "\t<tr><th scope=col>&lt;dbl&gt;</th><th scope=col>&lt;chr&gt;</th><th scope=col>&lt;chr&gt;</th><th scope=col>&lt;chr&gt;</th><th scope=col>&lt;chr&gt;</th><th scope=col>&lt;chr&gt;</th><th scope=col>&lt;chr&gt;</th><th scope=col>&lt;chr&gt;</th><th scope=col>&lt;chr&gt;</th><th scope=col>&lt;chr&gt;</th><th scope=col>&lt;chr&gt;</th><th scope=col>&lt;chr&gt;</th><th scope=col>&lt;chr&gt;</th><th scope=col>&lt;chr&gt;</th><th scope=col>&lt;chr&gt;</th><th scope=col>&lt;chr&gt;</th><th scope=col>&lt;dbl&gt;</th><th scope=col>&lt;chr&gt;</th><th scope=col>&lt;dbl&gt;</th><th scope=col>&lt;chr&gt;</th></tr>\n",
       "</thead>\n",
       "<tbody>\n",
       "\t<tr><td> 1</td><td>Captain George Vancouver</td><td>A new city hall and a statue of Captain George Vancouver were commissioned to commemorate Vancouver's Golden Jubilee in 1936. The architect of the new City Hall at Strathcona Park on West 12th Avenue, Fred Townley, proposed the sculpture, commissioned by the Vancouver Canadian Club, be placed on the plaza on the north side of the building. Noted BC sculptor, Charles Marega, was commissioned (for about $5500) to create a life-size sculpture of the man who mapped the harbour in 1792 and after whom the city is named. \r\n",
       "Marega began by setting up 500 pounds of clay on a turntable in his Hornby Street Studio. From the clay model, he made a plaster cast which was then used to cast the finished work in \"Roman bronze\". It was cast at Ornamental Bronze, a foundry in Vancouver. The work was installed on August 20, 1936.The bronze figure standing atop the granite plinth is said to bear little physical resemblance to Captain George. The sculpture was copied from a maquette, which had been fashioned after a painting that was in turn, a copy from an original painting.\r\n",
       "An interesting conversation is recorded between Major Matthews, the City Archivist, and Townley. \r\n",
       "Matthews: \"Mr. Townley, the \"Sun\" newspaper wants to know how much the Vancouver statue cost and who paid for it.\"\r\n",
       "Townley: \"What do they want to bring that up for? Leave sleeping dogs lie. I've been afraid that matter would come up, but it has not...why bring it up now? It was all in the contract; everything was above board; there's nothing to hide; but if it gets out what it cost, then some fool will start writing to the newspapers, or something, and complain of the waste of money; say it ought to have been given towards the support of some fool scheme of his own, the \"home for incurable dogs\", or some other idiotic thing\".\r\n",
       "Matthews: \"Alright; drop it, I don't want to know; the \"Sun\" is publishing a story on the statue, and I suppose they want to put the cost in.\"\r\n",
       "Townley: \"Well, Charles Marega made it, and baby bonds paid for it...I don't know exactly what it cost; it would be hard to find out; part of it was in the stone work cost. Marega for $5000, and then there was the base; so much per square foot for the base, perhaps $500 for that...\"\r\n",
       "The statue was cleaned in 2001, 65 years after its installation and in time for the city's 115th birthday. The bill for cost of cleaning was $5800, almost the same amount as the original statue cost. This sculpture is on the City of Vancouver's Heritage Inventory list and, as a proud homage to a great explorer, has stood the test of time.</td><td>Figurative</td><td>In place          </td><td>Vancouver City Hall</td><td>453 West 12th Avenue</td><td>bronze         </td><td>https://covapp.vancouver.ca/PublicArtRegistry/ArtworkDetail.aspx?ArtworkId=1 </td><td>https://opendata.vancouver.ca/api/explore/v2.1/catalog/datasets/public-art/files/6dfd36260587f27540709ca506c4e81c</td><td>City of Vancouver</td><td>Mount Pleasant</td><td>North entrance, exterior, in front of stairs                                                           </td><td>{\"coordinates\": [-123.113918, 49.261185], \"type\": \"Point\"}</td><td>Mount Pleasant</td><td>A full figure bronze statue of Captain George Vancouver stands on the north side of City Hall, pointing towards Vancouver harbour and holding a partially open scroll in his left hand. The figure commemorates the events of 1792, when Captain George, a representative of King George III of England, sailed into Burrard Inlet and charted the area.</td><td> 98</td><td>Barbara Cole</td><td>1936</td><td>49.261185, -123.113918</td></tr>\n",
       "\t<tr><td> 8</td><td><span style=white-space:pre-wrap>Charles Bentall         </span></td><td><span style=white-space:pre-wrap>NA                                                                                                                                                                                                                                                                                                                                                                                                                                                                                                                                                                                                                                                                                                                                                                                                                                                                                                                                                                                                                                                                                                                                                                                                                                                                                                                                                                                                                                                                                                                                                                                                                                                                                                                                                                                                                                                                                                                                                                                                                                                                                                                                                                                                                                                                                                                                                                                                                                                                                                                                                                                                                                                                                            </span></td><td>Figurative</td><td><span style=white-space:pre-wrap>In place          </span></td><td><span style=white-space:pre-wrap>Bentall Bldg.      </span></td><td><span style=white-space:pre-wrap>505 Burrard Street  </span></td><td><span style=white-space:pre-wrap>bronze         </span></td><td>https://covapp.vancouver.ca/PublicArtRegistry/ArtworkDetail.aspx?ArtworkId=8 </td><td>https://opendata.vancouver.ca/api/explore/v2.1/catalog/datasets/public-art/files/474f32613a9576400ec109ba2736fcfd</td><td><span style=white-space:pre-wrap>Privately owned  </span></td><td><span style=white-space:pre-wrap>Downtown      </span></td><td>Moved to plaza level between 555 &amp; 595 Burrard, formerly located between the two towers, above fountain</td><td><span style=white-space:pre-wrap>{\"coordinates\": [-123.11943, 49.28617], \"type\": \"Point\"}  </span></td><td><span style=white-space:pre-wrap>Downtown      </span></td><td><span style=white-space:pre-wrap>This classic bust depicts the entrepreneur Charles Bentall who died in 1974.                                                                                                                                                                                                                                                                            </span></td><td>241</td><td><span style=white-space:pre-wrap>NA          </span></td><td>1977</td><td><span style=white-space:pre-wrap>49.28617, -123.11943  </span></td></tr>\n",
       "\t<tr><td>16</td><td><span style=white-space:pre-wrap>Untitled                </span></td><td><span style=white-space:pre-wrap>NA                                                                                                                                                                                                                                                                                                                                                                                                                                                                                                                                                                                                                                                                                                                                                                                                                                                                                                                                                                                                                                                                                                                                                                                                                                                                                                                                                                                                                                                                                                                                                                                                                                                                                                                                                                                                                                                                                                                                                                                                                                                                                                                                                                                                                                                                                                                                                                                                                                                                                                                                                                                                                                                                                            </span></td><td><span style=white-space:pre-wrap>Relief    </span></td><td>No longer in place</td><td><span style=white-space:pre-wrap>Plaza 500 Hotel    </span></td><td>Cambie &amp; 12th Avenue</td><td>Concrete, glass</td><td>https://covapp.vancouver.ca/PublicArtRegistry/ArtworkDetail.aspx?ArtworkId=16</td><td>https://opendata.vancouver.ca/api/explore/v2.1/catalog/datasets/public-art/files/e5b65839dd76b601f21f70a9623fddb3</td><td><span style=white-space:pre-wrap>Privately owned  </span></td><td>Mount Pleasant</td><td><span style=white-space:pre-wrap>Exterior, east side                                                                                    </span></td><td>{\"coordinates\": [-123.115462, 49.260104], \"type\": \"Point\"}</td><td><span style=white-space:pre-wrap>Fairview      </span></td><td><span style=white-space:pre-wrap>NA                                                                                                                                                                                                                                                                                                                                                      </span></td><td> 30</td><td><span style=white-space:pre-wrap>NA          </span></td><td>1970</td><td>49.260104, -123.115462</td></tr>\n",
       "</tbody>\n",
       "</table>\n"
      ],
      "text/latex": [
       "A tibble: 3 × 20\n",
       "\\begin{tabular}{llllllllllllllllllll}\n",
       " RegistryID & Title of Work & ArtistProjectStatement & Type & Status & SiteName & SiteAddress & PrimaryMaterial & URL & PhotoURL & Ownership & Neighbourhood & LocationOnsite & Geom & Geo Local Area & DescriptionOfwork & Artists & PhotoCredits & YearOfInstallation & geo\\_point\\_2d\\\\\n",
       " <dbl> & <chr> & <chr> & <chr> & <chr> & <chr> & <chr> & <chr> & <chr> & <chr> & <chr> & <chr> & <chr> & <chr> & <chr> & <chr> & <dbl> & <chr> & <dbl> & <chr>\\\\\n",
       "\\hline\n",
       "\t  1 & Captain George Vancouver & A new city hall and a statue of Captain George Vancouver were commissioned to commemorate Vancouver's Golden Jubilee in 1936. The architect of the new City Hall at Strathcona Park on West 12th Avenue, Fred Townley, proposed the sculpture, commissioned by the Vancouver Canadian Club, be placed on the plaza on the north side of the building. Noted BC sculptor, Charles Marega, was commissioned (for about \\$5500) to create a life-size sculpture of the man who mapped the harbour in 1792 and after whom the city is named. \r\n",
       "Marega began by setting up 500 pounds of clay on a turntable in his Hornby Street Studio. From the clay model, he made a plaster cast which was then used to cast the finished work in \"Roman bronze\". It was cast at Ornamental Bronze, a foundry in Vancouver. The work was installed on August 20, 1936.The bronze figure standing atop the granite plinth is said to bear little physical resemblance to Captain George. The sculpture was copied from a maquette, which had been fashioned after a painting that was in turn, a copy from an original painting.\r\n",
       "An interesting conversation is recorded between Major Matthews, the City Archivist, and Townley. \r\n",
       "Matthews: \"Mr. Townley, the \"Sun\" newspaper wants to know how much the Vancouver statue cost and who paid for it.\"\r\n",
       "Townley: \"What do they want to bring that up for? Leave sleeping dogs lie. I've been afraid that matter would come up, but it has not...why bring it up now? It was all in the contract; everything was above board; there's nothing to hide; but if it gets out what it cost, then some fool will start writing to the newspapers, or something, and complain of the waste of money; say it ought to have been given towards the support of some fool scheme of his own, the \"home for incurable dogs\", or some other idiotic thing\".\r\n",
       "Matthews: \"Alright; drop it, I don't want to know; the \"Sun\" is publishing a story on the statue, and I suppose they want to put the cost in.\"\r\n",
       "Townley: \"Well, Charles Marega made it, and baby bonds paid for it...I don't know exactly what it cost; it would be hard to find out; part of it was in the stone work cost. Marega for \\$5000, and then there was the base; so much per square foot for the base, perhaps \\$500 for that...\"\r\n",
       "The statue was cleaned in 2001, 65 years after its installation and in time for the city's 115th birthday. The bill for cost of cleaning was \\$5800, almost the same amount as the original statue cost. This sculpture is on the City of Vancouver's Heritage Inventory list and, as a proud homage to a great explorer, has stood the test of time. & Figurative & In place           & Vancouver City Hall & 453 West 12th Avenue & bronze          & https://covapp.vancouver.ca/PublicArtRegistry/ArtworkDetail.aspx?ArtworkId=1  & https://opendata.vancouver.ca/api/explore/v2.1/catalog/datasets/public-art/files/6dfd36260587f27540709ca506c4e81c & City of Vancouver & Mount Pleasant & North entrance, exterior, in front of stairs                                                            & \\{\"coordinates\": {[}-123.113918, 49.261185{]}, \"type\": \"Point\"\\} & Mount Pleasant & A full figure bronze statue of Captain George Vancouver stands on the north side of City Hall, pointing towards Vancouver harbour and holding a partially open scroll in his left hand. The figure commemorates the events of 1792, when Captain George, a representative of King George III of England, sailed into Burrard Inlet and charted the area. &  98 & Barbara Cole & 1936 & 49.261185, -123.113918\\\\\n",
       "\t  8 & Charles Bentall          & NA                                                                                                                                                                                                                                                                                                                                                                                                                                                                                                                                                                                                                                                                                                                                                                                                                                                                                                                                                                                                                                                                                                                                                                                                                                                                                                                                                                                                                                                                                                                                                                                                                                                                                                                                                                                                                                                                                                                                                                                                                                                                                                                                                                                                                                                                                                                                                                                                                                                                                                                                                                                                                                                                                             & Figurative & In place           & Bentall Bldg.       & 505 Burrard Street   & bronze          & https://covapp.vancouver.ca/PublicArtRegistry/ArtworkDetail.aspx?ArtworkId=8  & https://opendata.vancouver.ca/api/explore/v2.1/catalog/datasets/public-art/files/474f32613a9576400ec109ba2736fcfd & Privately owned   & Downtown       & Moved to plaza level between 555 \\& 595 Burrard, formerly located between the two towers, above fountain & \\{\"coordinates\": {[}-123.11943, 49.28617{]}, \"type\": \"Point\"\\}   & Downtown       & This classic bust depicts the entrepreneur Charles Bentall who died in 1974.                                                                                                                                                                                                                                                                             & 241 & NA           & 1977 & 49.28617, -123.11943  \\\\\n",
       "\t 16 & Untitled                 & NA                                                                                                                                                                                                                                                                                                                                                                                                                                                                                                                                                                                                                                                                                                                                                                                                                                                                                                                                                                                                                                                                                                                                                                                                                                                                                                                                                                                                                                                                                                                                                                                                                                                                                                                                                                                                                                                                                                                                                                                                                                                                                                                                                                                                                                                                                                                                                                                                                                                                                                                                                                                                                                                                                             & Relief     & No longer in place & Plaza 500 Hotel     & Cambie \\& 12th Avenue & Concrete, glass & https://covapp.vancouver.ca/PublicArtRegistry/ArtworkDetail.aspx?ArtworkId=16 & https://opendata.vancouver.ca/api/explore/v2.1/catalog/datasets/public-art/files/e5b65839dd76b601f21f70a9623fddb3 & Privately owned   & Mount Pleasant & Exterior, east side                                                                                     & \\{\"coordinates\": {[}-123.115462, 49.260104{]}, \"type\": \"Point\"\\} & Fairview       & NA                                                                                                                                                                                                                                                                                                                                                       &  30 & NA           & 1970 & 49.260104, -123.115462\\\\\n",
       "\\end{tabular}\n"
      ],
      "text/markdown": [
       "\n",
       "A tibble: 3 × 20\n",
       "\n",
       "| RegistryID &lt;dbl&gt; | Title of Work &lt;chr&gt; | ArtistProjectStatement &lt;chr&gt; | Type &lt;chr&gt; | Status &lt;chr&gt; | SiteName &lt;chr&gt; | SiteAddress &lt;chr&gt; | PrimaryMaterial &lt;chr&gt; | URL &lt;chr&gt; | PhotoURL &lt;chr&gt; | Ownership &lt;chr&gt; | Neighbourhood &lt;chr&gt; | LocationOnsite &lt;chr&gt; | Geom &lt;chr&gt; | Geo Local Area &lt;chr&gt; | DescriptionOfwork &lt;chr&gt; | Artists &lt;dbl&gt; | PhotoCredits &lt;chr&gt; | YearOfInstallation &lt;dbl&gt; | geo_point_2d &lt;chr&gt; |\n",
       "|---|---|---|---|---|---|---|---|---|---|---|---|---|---|---|---|---|---|---|---|\n",
       "|  1 | Captain George Vancouver | A new city hall and a statue of Captain George Vancouver were commissioned to commemorate Vancouver's Golden Jubilee in 1936. The architect of the new City Hall at Strathcona Park on West 12th Avenue, Fred Townley, proposed the sculpture, commissioned by the Vancouver Canadian Club, be placed on the plaza on the north side of the building. Noted BC sculptor, Charles Marega, was commissioned (for about $5500) to create a life-size sculpture of the man who mapped the harbour in 1792 and after whom the city is named. \r\n",
       "Marega began by setting up 500 pounds of clay on a turntable in his Hornby Street Studio. From the clay model, he made a plaster cast which was then used to cast the finished work in \"Roman bronze\". It was cast at Ornamental Bronze, a foundry in Vancouver. The work was installed on August 20, 1936.The bronze figure standing atop the granite plinth is said to bear little physical resemblance to Captain George. The sculpture was copied from a maquette, which had been fashioned after a painting that was in turn, a copy from an original painting.\r\n",
       "An interesting conversation is recorded between Major Matthews, the City Archivist, and Townley. \r\n",
       "Matthews: \"Mr. Townley, the \"Sun\" newspaper wants to know how much the Vancouver statue cost and who paid for it.\"\r\n",
       "Townley: \"What do they want to bring that up for? Leave sleeping dogs lie. I've been afraid that matter would come up, but it has not...why bring it up now? It was all in the contract; everything was above board; there's nothing to hide; but if it gets out what it cost, then some fool will start writing to the newspapers, or something, and complain of the waste of money; say it ought to have been given towards the support of some fool scheme of his own, the \"home for incurable dogs\", or some other idiotic thing\".\r\n",
       "Matthews: \"Alright; drop it, I don't want to know; the \"Sun\" is publishing a story on the statue, and I suppose they want to put the cost in.\"\r\n",
       "Townley: \"Well, Charles Marega made it, and baby bonds paid for it...I don't know exactly what it cost; it would be hard to find out; part of it was in the stone work cost. Marega for $5000, and then there was the base; so much per square foot for the base, perhaps $500 for that...\"\r\n",
       "The statue was cleaned in 2001, 65 years after its installation and in time for the city's 115th birthday. The bill for cost of cleaning was $5800, almost the same amount as the original statue cost. This sculpture is on the City of Vancouver's Heritage Inventory list and, as a proud homage to a great explorer, has stood the test of time. | Figurative | In place           | Vancouver City Hall | 453 West 12th Avenue | bronze          | https://covapp.vancouver.ca/PublicArtRegistry/ArtworkDetail.aspx?ArtworkId=1  | https://opendata.vancouver.ca/api/explore/v2.1/catalog/datasets/public-art/files/6dfd36260587f27540709ca506c4e81c | City of Vancouver | Mount Pleasant | North entrance, exterior, in front of stairs                                                            | {\"coordinates\": [-123.113918, 49.261185], \"type\": \"Point\"} | Mount Pleasant | A full figure bronze statue of Captain George Vancouver stands on the north side of City Hall, pointing towards Vancouver harbour and holding a partially open scroll in his left hand. The figure commemorates the events of 1792, when Captain George, a representative of King George III of England, sailed into Burrard Inlet and charted the area. |  98 | Barbara Cole | 1936 | 49.261185, -123.113918 |\n",
       "|  8 | Charles Bentall          | NA                                                                                                                                                                                                                                                                                                                                                                                                                                                                                                                                                                                                                                                                                                                                                                                                                                                                                                                                                                                                                                                                                                                                                                                                                                                                                                                                                                                                                                                                                                                                                                                                                                                                                                                                                                                                                                                                                                                                                                                                                                                                                                                                                                                                                                                                                                                                                                                                                                                                                                                                                                                                                                                                                             | Figurative | In place           | Bentall Bldg.       | 505 Burrard Street   | bronze          | https://covapp.vancouver.ca/PublicArtRegistry/ArtworkDetail.aspx?ArtworkId=8  | https://opendata.vancouver.ca/api/explore/v2.1/catalog/datasets/public-art/files/474f32613a9576400ec109ba2736fcfd | Privately owned   | Downtown       | Moved to plaza level between 555 &amp; 595 Burrard, formerly located between the two towers, above fountain | {\"coordinates\": [-123.11943, 49.28617], \"type\": \"Point\"}   | Downtown       | This classic bust depicts the entrepreneur Charles Bentall who died in 1974.                                                                                                                                                                                                                                                                             | 241 | NA           | 1977 | 49.28617, -123.11943   |\n",
       "| 16 | Untitled                 | NA                                                                                                                                                                                                                                                                                                                                                                                                                                                                                                                                                                                                                                                                                                                                                                                                                                                                                                                                                                                                                                                                                                                                                                                                                                                                                                                                                                                                                                                                                                                                                                                                                                                                                                                                                                                                                                                                                                                                                                                                                                                                                                                                                                                                                                                                                                                                                                                                                                                                                                                                                                                                                                                                                             | Relief     | No longer in place | Plaza 500 Hotel     | Cambie &amp; 12th Avenue | Concrete, glass | https://covapp.vancouver.ca/PublicArtRegistry/ArtworkDetail.aspx?ArtworkId=16 | https://opendata.vancouver.ca/api/explore/v2.1/catalog/datasets/public-art/files/e5b65839dd76b601f21f70a9623fddb3 | Privately owned   | Mount Pleasant | Exterior, east side                                                                                     | {\"coordinates\": [-123.115462, 49.260104], \"type\": \"Point\"} | Fairview       | NA                                                                                                                                                                                                                                                                                                                                                       |  30 | NA           | 1970 | 49.260104, -123.115462 |\n",
       "\n"
      ],
      "text/plain": [
       "  RegistryID Title of Work           \n",
       "1  1         Captain George Vancouver\n",
       "2  8         Charles Bentall         \n",
       "3 16         Untitled                \n",
       "  ArtistProjectStatement                                                                                                                                                                                                                                                                                                                                                                                                                                                                                                                                                                                                                                                                                                                                                                                                                                                                                                                                                                                                                                                                                                                                                                                                                                                                                                                                                                                                                                                                                                                                                                                                                                                                                                                                                                                                                                                                                                                                                                                                                                                                                                                                                                                                                                                                                                                                                                                                                                                                                                                                                                                                                                                                        \n",
       "1 A new city hall and a statue of Captain George Vancouver were commissioned to commemorate Vancouver's Golden Jubilee in 1936. The architect of the new City Hall at Strathcona Park on West 12th Avenue, Fred Townley, proposed the sculpture, commissioned by the Vancouver Canadian Club, be placed on the plaza on the north side of the building. Noted BC sculptor, Charles Marega, was commissioned (for about $5500) to create a life-size sculpture of the man who mapped the harbour in 1792 and after whom the city is named. \\r\\nMarega began by setting up 500 pounds of clay on a turntable in his Hornby Street Studio. From the clay model, he made a plaster cast which was then used to cast the finished work in \"Roman bronze\". It was cast at Ornamental Bronze, a foundry in Vancouver. The work was installed on August 20, 1936.The bronze figure standing atop the granite plinth is said to bear little physical resemblance to Captain George. The sculpture was copied from a maquette, which had been fashioned after a painting that was in turn, a copy from an original painting.\\r\\nAn interesting conversation is recorded between Major Matthews, the City Archivist, and Townley. \\r\\nMatthews: \"Mr. Townley, the \"Sun\" newspaper wants to know how much the Vancouver statue cost and who paid for it.\"\\r\\nTownley: \"What do they want to bring that up for? Leave sleeping dogs lie. I've been afraid that matter would come up, but it has not...why bring it up now? It was all in the contract; everything was above board; there's nothing to hide; but if it gets out what it cost, then some fool will start writing to the newspapers, or something, and complain of the waste of money; say it ought to have been given towards the support of some fool scheme of his own, the \"home for incurable dogs\", or some other idiotic thing\".\\r\\nMatthews: \"Alright; drop it, I don't want to know; the \"Sun\" is publishing a story on the statue, and I suppose they want to put the cost in.\"\\r\\nTownley: \"Well, Charles Marega made it, and baby bonds paid for it...I don't know exactly what it cost; it would be hard to find out; part of it was in the stone work cost. Marega for $5000, and then there was the base; so much per square foot for the base, perhaps $500 for that...\"\\r\\nThe statue was cleaned in 2001, 65 years after its installation and in time for the city's 115th birthday. The bill for cost of cleaning was $5800, almost the same amount as the original statue cost. This sculpture is on the City of Vancouver's Heritage Inventory list and, as a proud homage to a great explorer, has stood the test of time.\n",
       "2 NA                                                                                                                                                                                                                                                                                                                                                                                                                                                                                                                                                                                                                                                                                                                                                                                                                                                                                                                                                                                                                                                                                                                                                                                                                                                                                                                                                                                                                                                                                                                                                                                                                                                                                                                                                                                                                                                                                                                                                                                                                                                                                                                                                                                                                                                                                                                                                                                                                                                                                                                                                                                                                                                                                            \n",
       "3 NA                                                                                                                                                                                                                                                                                                                                                                                                                                                                                                                                                                                                                                                                                                                                                                                                                                                                                                                                                                                                                                                                                                                                                                                                                                                                                                                                                                                                                                                                                                                                                                                                                                                                                                                                                                                                                                                                                                                                                                                                                                                                                                                                                                                                                                                                                                                                                                                                                                                                                                                                                                                                                                                                                            \n",
       "  Type       Status             SiteName            SiteAddress         \n",
       "1 Figurative In place           Vancouver City Hall 453 West 12th Avenue\n",
       "2 Figurative In place           Bentall Bldg.       505 Burrard Street  \n",
       "3 Relief     No longer in place Plaza 500 Hotel     Cambie & 12th Avenue\n",
       "  PrimaryMaterial\n",
       "1 bronze         \n",
       "2 bronze         \n",
       "3 Concrete, glass\n",
       "  URL                                                                          \n",
       "1 https://covapp.vancouver.ca/PublicArtRegistry/ArtworkDetail.aspx?ArtworkId=1 \n",
       "2 https://covapp.vancouver.ca/PublicArtRegistry/ArtworkDetail.aspx?ArtworkId=8 \n",
       "3 https://covapp.vancouver.ca/PublicArtRegistry/ArtworkDetail.aspx?ArtworkId=16\n",
       "  PhotoURL                                                                                                         \n",
       "1 https://opendata.vancouver.ca/api/explore/v2.1/catalog/datasets/public-art/files/6dfd36260587f27540709ca506c4e81c\n",
       "2 https://opendata.vancouver.ca/api/explore/v2.1/catalog/datasets/public-art/files/474f32613a9576400ec109ba2736fcfd\n",
       "3 https://opendata.vancouver.ca/api/explore/v2.1/catalog/datasets/public-art/files/e5b65839dd76b601f21f70a9623fddb3\n",
       "  Ownership         Neighbourhood \n",
       "1 City of Vancouver Mount Pleasant\n",
       "2 Privately owned   Downtown      \n",
       "3 Privately owned   Mount Pleasant\n",
       "  LocationOnsite                                                                                         \n",
       "1 North entrance, exterior, in front of stairs                                                           \n",
       "2 Moved to plaza level between 555 & 595 Burrard, formerly located between the two towers, above fountain\n",
       "3 Exterior, east side                                                                                    \n",
       "  Geom                                                       Geo Local Area\n",
       "1 {\"coordinates\": [-123.113918, 49.261185], \"type\": \"Point\"} Mount Pleasant\n",
       "2 {\"coordinates\": [-123.11943, 49.28617], \"type\": \"Point\"}   Downtown      \n",
       "3 {\"coordinates\": [-123.115462, 49.260104], \"type\": \"Point\"} Fairview      \n",
       "  DescriptionOfwork                                                                                                                                                                                                                                                                                                                                       \n",
       "1 A full figure bronze statue of Captain George Vancouver stands on the north side of City Hall, pointing towards Vancouver harbour and holding a partially open scroll in his left hand. The figure commemorates the events of 1792, when Captain George, a representative of King George III of England, sailed into Burrard Inlet and charted the area.\n",
       "2 This classic bust depicts the entrepreneur Charles Bentall who died in 1974.                                                                                                                                                                                                                                                                            \n",
       "3 NA                                                                                                                                                                                                                                                                                                                                                      \n",
       "  Artists PhotoCredits YearOfInstallation geo_point_2d          \n",
       "1  98     Barbara Cole 1936               49.261185, -123.113918\n",
       "2 241     NA           1977               49.28617, -123.11943  \n",
       "3  30     NA           1970               49.260104, -123.115462"
      ]
     },
     "metadata": {},
     "output_type": "display_data"
    }
   ],
   "source": [
    "public_art <- read_delim(\"data/public-art.csv\")\n",
    "\n",
    "head(public_art, n=3)"
   ]
  },
  {
   "cell_type": "code",
   "execution_count": 3,
   "id": "70d6abfc-7663-42a0-9171-a2e091508b99",
   "metadata": {},
   "outputs": [
    {
     "data": {
      "text/html": [
       "<table class=\"dataframe\">\n",
       "<caption>A tibble: 3 × 2</caption>\n",
       "<thead>\n",
       "\t<tr><th scope=col>Neighbourhood</th><th scope=col>n</th></tr>\n",
       "\t<tr><th scope=col>&lt;chr&gt;</th><th scope=col>&lt;int&gt;</th></tr>\n",
       "</thead>\n",
       "<tbody>\n",
       "\t<tr><td>Arbutus Ridge   </td><td>  2</td></tr>\n",
       "\t<tr><td>Downtown        </td><td>212</td></tr>\n",
       "\t<tr><td>DowntownEastside</td><td> 51</td></tr>\n",
       "</tbody>\n",
       "</table>\n"
      ],
      "text/latex": [
       "A tibble: 3 × 2\n",
       "\\begin{tabular}{ll}\n",
       " Neighbourhood & n\\\\\n",
       " <chr> & <int>\\\\\n",
       "\\hline\n",
       "\t Arbutus Ridge    &   2\\\\\n",
       "\t Downtown         & 212\\\\\n",
       "\t DowntownEastside &  51\\\\\n",
       "\\end{tabular}\n"
      ],
      "text/markdown": [
       "\n",
       "A tibble: 3 × 2\n",
       "\n",
       "| Neighbourhood &lt;chr&gt; | n &lt;int&gt; |\n",
       "|---|---|\n",
       "| Arbutus Ridge    |   2 |\n",
       "| Downtown         | 212 |\n",
       "| DowntownEastside |  51 |\n",
       "\n"
      ],
      "text/plain": [
       "  Neighbourhood    n  \n",
       "1 Arbutus Ridge      2\n",
       "2 Downtown         212\n",
       "3 DowntownEastside  51"
      ]
     },
     "metadata": {},
     "output_type": "display_data"
    },
    {
     "data": {
      "text/html": [
       "25"
      ],
      "text/latex": [
       "25"
      ],
      "text/markdown": [
       "25"
      ],
      "text/plain": [
       "[1] 25"
      ]
     },
     "metadata": {},
     "output_type": "display_data"
    }
   ],
   "source": [
    "neighborhoods <- public_art |>\n",
    "    group_by(Neighbourhood) |>\n",
    "    summarize(n=n())\n",
    "\n",
    "head(neighborhoods,n=3)\n",
    "nrow(neighborhoods)"
   ]
  },
  {
   "cell_type": "markdown",
   "id": "959b0aff-4ef5-4d20-a196-bba612d8ecc4",
   "metadata": {},
   "source": [
    "We take the proportion of the number of art installations in a `Neighborhood` to the total number of art installations in Vancouver as our target variable."
   ]
  },
  {
   "cell_type": "code",
   "execution_count": 4,
   "id": "c3d7ce3a-71fb-401c-bae4-f54657afd1c8",
   "metadata": {},
   "outputs": [
    {
     "data": {
      "text/html": [
       "<table class=\"dataframe\">\n",
       "<caption>A tibble: 6 × 3</caption>\n",
       "<thead>\n",
       "\t<tr><th scope=col>Neighbourhood</th><th scope=col>n</th><th scope=col>art_prop</th></tr>\n",
       "\t<tr><th scope=col>&lt;chr&gt;</th><th scope=col>&lt;int&gt;</th><th scope=col>&lt;dbl&gt;</th></tr>\n",
       "</thead>\n",
       "<tbody>\n",
       "\t<tr><td>Arbutus Ridge     </td><td>  2</td><td>0.002877698</td></tr>\n",
       "\t<tr><td>Downtown          </td><td>212</td><td>0.305035971</td></tr>\n",
       "\t<tr><td>DowntownEastside  </td><td> 51</td><td>0.073381295</td></tr>\n",
       "\t<tr><td>Dunbar-Southlands </td><td>  2</td><td>0.002877698</td></tr>\n",
       "\t<tr><td>Fairview          </td><td> 18</td><td>0.025899281</td></tr>\n",
       "\t<tr><td>Grandview-Woodland</td><td> 21</td><td>0.030215827</td></tr>\n",
       "</tbody>\n",
       "</table>\n"
      ],
      "text/latex": [
       "A tibble: 6 × 3\n",
       "\\begin{tabular}{lll}\n",
       " Neighbourhood & n & art\\_prop\\\\\n",
       " <chr> & <int> & <dbl>\\\\\n",
       "\\hline\n",
       "\t Arbutus Ridge      &   2 & 0.002877698\\\\\n",
       "\t Downtown           & 212 & 0.305035971\\\\\n",
       "\t DowntownEastside   &  51 & 0.073381295\\\\\n",
       "\t Dunbar-Southlands  &   2 & 0.002877698\\\\\n",
       "\t Fairview           &  18 & 0.025899281\\\\\n",
       "\t Grandview-Woodland &  21 & 0.030215827\\\\\n",
       "\\end{tabular}\n"
      ],
      "text/markdown": [
       "\n",
       "A tibble: 6 × 3\n",
       "\n",
       "| Neighbourhood &lt;chr&gt; | n &lt;int&gt; | art_prop &lt;dbl&gt; |\n",
       "|---|---|---|\n",
       "| Arbutus Ridge      |   2 | 0.002877698 |\n",
       "| Downtown           | 212 | 0.305035971 |\n",
       "| DowntownEastside   |  51 | 0.073381295 |\n",
       "| Dunbar-Southlands  |   2 | 0.002877698 |\n",
       "| Fairview           |  18 | 0.025899281 |\n",
       "| Grandview-Woodland |  21 | 0.030215827 |\n",
       "\n"
      ],
      "text/plain": [
       "  Neighbourhood      n   art_prop   \n",
       "1 Arbutus Ridge        2 0.002877698\n",
       "2 Downtown           212 0.305035971\n",
       "3 DowntownEastside    51 0.073381295\n",
       "4 Dunbar-Southlands    2 0.002877698\n",
       "5 Fairview            18 0.025899281\n",
       "6 Grandview-Woodland  21 0.030215827"
      ]
     },
     "metadata": {},
     "output_type": "display_data"
    }
   ],
   "source": [
    "art_prop <- neighborhoods |>\n",
    "    mutate(art_prop=n/nrow(public_art))\n",
    "\n",
    "head(art_prop)"
   ]
  },
  {
   "cell_type": "code",
   "execution_count": 26,
   "id": "9b9ef063-d3c3-4916-bfff-1cc1a66232ee",
   "metadata": {},
   "outputs": [
    {
     "data": {
      "text/html": [
       "<style>\n",
       ".list-inline {list-style: none; margin:0; padding: 0}\n",
       ".list-inline>li {display: inline-block}\n",
       ".list-inline>li:not(:last-child)::after {content: \"\\00b7\"; padding: 0 .5ex}\n",
       "</style>\n",
       "<ol class=list-inline><li>'Arbutus Ridge'</li><li>'Downtown'</li><li>'DowntownEastside'</li><li>'Dunbar-Southlands'</li><li>'Fairview'</li><li>'Grandview-Woodland'</li><li>'Hastings-Sunrise'</li><li>'Kensington-Cedar Cottage'</li><li>'Kerrisdale'</li><li>'Killarney'</li><li>'Kitsilano'</li><li>'Marpole'</li><li>'Mount Pleasant'</li><li>'Oakridge'</li><li>'Renfrew-Collingwood'</li><li>'RileyPark'</li><li>'Shaughnessy'</li><li>'South Cambie'</li><li>'Stanley Park'</li><li>'Strathcona'</li><li>'Sunset'</li><li>'Victoria-Fraserview'</li><li>'West End'</li><li>'West Point Grey'</li><li>NA</li></ol>\n"
      ],
      "text/latex": [
       "\\begin{enumerate*}\n",
       "\\item 'Arbutus Ridge'\n",
       "\\item 'Downtown'\n",
       "\\item 'DowntownEastside'\n",
       "\\item 'Dunbar-Southlands'\n",
       "\\item 'Fairview'\n",
       "\\item 'Grandview-Woodland'\n",
       "\\item 'Hastings-Sunrise'\n",
       "\\item 'Kensington-Cedar Cottage'\n",
       "\\item 'Kerrisdale'\n",
       "\\item 'Killarney'\n",
       "\\item 'Kitsilano'\n",
       "\\item 'Marpole'\n",
       "\\item 'Mount Pleasant'\n",
       "\\item 'Oakridge'\n",
       "\\item 'Renfrew-Collingwood'\n",
       "\\item 'RileyPark'\n",
       "\\item 'Shaughnessy'\n",
       "\\item 'South Cambie'\n",
       "\\item 'Stanley Park'\n",
       "\\item 'Strathcona'\n",
       "\\item 'Sunset'\n",
       "\\item 'Victoria-Fraserview'\n",
       "\\item 'West End'\n",
       "\\item 'West Point Grey'\n",
       "\\item NA\n",
       "\\end{enumerate*}\n"
      ],
      "text/markdown": [
       "1. 'Arbutus Ridge'\n",
       "2. 'Downtown'\n",
       "3. 'DowntownEastside'\n",
       "4. 'Dunbar-Southlands'\n",
       "5. 'Fairview'\n",
       "6. 'Grandview-Woodland'\n",
       "7. 'Hastings-Sunrise'\n",
       "8. 'Kensington-Cedar Cottage'\n",
       "9. 'Kerrisdale'\n",
       "10. 'Killarney'\n",
       "11. 'Kitsilano'\n",
       "12. 'Marpole'\n",
       "13. 'Mount Pleasant'\n",
       "14. 'Oakridge'\n",
       "15. 'Renfrew-Collingwood'\n",
       "16. 'RileyPark'\n",
       "17. 'Shaughnessy'\n",
       "18. 'South Cambie'\n",
       "19. 'Stanley Park'\n",
       "20. 'Strathcona'\n",
       "21. 'Sunset'\n",
       "22. 'Victoria-Fraserview'\n",
       "23. 'West End'\n",
       "24. 'West Point Grey'\n",
       "25. NA\n",
       "\n",
       "\n"
      ],
      "text/plain": [
       " [1] \"Arbutus Ridge\"            \"Downtown\"                \n",
       " [3] \"DowntownEastside\"         \"Dunbar-Southlands\"       \n",
       " [5] \"Fairview\"                 \"Grandview-Woodland\"      \n",
       " [7] \"Hastings-Sunrise\"         \"Kensington-Cedar Cottage\"\n",
       " [9] \"Kerrisdale\"               \"Killarney\"               \n",
       "[11] \"Kitsilano\"                \"Marpole\"                 \n",
       "[13] \"Mount Pleasant\"           \"Oakridge\"                \n",
       "[15] \"Renfrew-Collingwood\"      \"RileyPark\"               \n",
       "[17] \"Shaughnessy\"              \"South Cambie\"            \n",
       "[19] \"Stanley Park\"             \"Strathcona\"              \n",
       "[21] \"Sunset\"                   \"Victoria-Fraserview\"     \n",
       "[23] \"West End\"                 \"West Point Grey\"         \n",
       "[25] NA                        "
      ]
     },
     "metadata": {},
     "output_type": "display_data"
    },
    {
     "data": {
      "text/html": [
       "<table class=\"dataframe\">\n",
       "<caption>A tibble: 6 × 3</caption>\n",
       "<thead>\n",
       "\t<tr><th scope=col>Neighbourhood</th><th scope=col>n</th><th scope=col>art_prop</th></tr>\n",
       "\t<tr><th scope=col>&lt;chr&gt;</th><th scope=col>&lt;int&gt;</th><th scope=col>&lt;dbl&gt;</th></tr>\n",
       "</thead>\n",
       "<tbody>\n",
       "\t<tr><td>Strathcona         </td><td>33</td><td>0.047482014</td></tr>\n",
       "\t<tr><td>Sunset             </td><td> 6</td><td>0.008633094</td></tr>\n",
       "\t<tr><td>Victoria-Fraserview</td><td> 1</td><td>0.001438849</td></tr>\n",
       "\t<tr><td>West End           </td><td>42</td><td>0.060431655</td></tr>\n",
       "\t<tr><td>West Point Grey    </td><td> 3</td><td>0.004316547</td></tr>\n",
       "\t<tr><td>NA                 </td><td>89</td><td>0.128057554</td></tr>\n",
       "</tbody>\n",
       "</table>\n"
      ],
      "text/latex": [
       "A tibble: 6 × 3\n",
       "\\begin{tabular}{lll}\n",
       " Neighbourhood & n & art\\_prop\\\\\n",
       " <chr> & <int> & <dbl>\\\\\n",
       "\\hline\n",
       "\t Strathcona          & 33 & 0.047482014\\\\\n",
       "\t Sunset              &  6 & 0.008633094\\\\\n",
       "\t Victoria-Fraserview &  1 & 0.001438849\\\\\n",
       "\t West End            & 42 & 0.060431655\\\\\n",
       "\t West Point Grey     &  3 & 0.004316547\\\\\n",
       "\t NA                  & 89 & 0.128057554\\\\\n",
       "\\end{tabular}\n"
      ],
      "text/markdown": [
       "\n",
       "A tibble: 6 × 3\n",
       "\n",
       "| Neighbourhood &lt;chr&gt; | n &lt;int&gt; | art_prop &lt;dbl&gt; |\n",
       "|---|---|---|\n",
       "| Strathcona          | 33 | 0.047482014 |\n",
       "| Sunset              |  6 | 0.008633094 |\n",
       "| Victoria-Fraserview |  1 | 0.001438849 |\n",
       "| West End            | 42 | 0.060431655 |\n",
       "| West Point Grey     |  3 | 0.004316547 |\n",
       "| NA                  | 89 | 0.128057554 |\n",
       "\n"
      ],
      "text/plain": [
       "  Neighbourhood       n  art_prop   \n",
       "1 Strathcona          33 0.047482014\n",
       "2 Sunset               6 0.008633094\n",
       "3 Victoria-Fraserview  1 0.001438849\n",
       "4 West End            42 0.060431655\n",
       "5 West Point Grey      3 0.004316547\n",
       "6 NA                  89 0.128057554"
      ]
     },
     "metadata": {},
     "output_type": "display_data"
    }
   ],
   "source": [
    "art_prop$Neighbourhood\n",
    "tail(art_prop)"
   ]
  },
  {
   "cell_type": "markdown",
   "id": "97085375-0fad-4caa-8527-14855037437b",
   "metadata": {},
   "source": [
    "**Summary statistics of the output variable Y:**"
   ]
  },
  {
   "cell_type": "code",
   "execution_count": 6,
   "id": "930ac360-a04b-4e18-ae36-af1b97af0e5a",
   "metadata": {},
   "outputs": [
    {
     "data": {
      "text/html": [
       "<table class=\"dataframe\">\n",
       "<caption>A tibble: 1 × 4</caption>\n",
       "<thead>\n",
       "\t<tr><th scope=col>variable</th><th scope=col>mean</th><th scope=col>max</th><th scope=col>sd</th></tr>\n",
       "\t<tr><th scope=col>&lt;chr&gt;</th><th scope=col>&lt;dbl&gt;</th><th scope=col>&lt;dbl&gt;</th><th scope=col>&lt;dbl&gt;</th></tr>\n",
       "</thead>\n",
       "<tbody>\n",
       "\t<tr><td>art_proportion (Y)</td><td>0.04</td><td>0.305036</td><td>0.06314427</td></tr>\n",
       "</tbody>\n",
       "</table>\n"
      ],
      "text/latex": [
       "A tibble: 1 × 4\n",
       "\\begin{tabular}{llll}\n",
       " variable & mean & max & sd\\\\\n",
       " <chr> & <dbl> & <dbl> & <dbl>\\\\\n",
       "\\hline\n",
       "\t art\\_proportion (Y) & 0.04 & 0.305036 & 0.06314427\\\\\n",
       "\\end{tabular}\n"
      ],
      "text/markdown": [
       "\n",
       "A tibble: 1 × 4\n",
       "\n",
       "| variable &lt;chr&gt; | mean &lt;dbl&gt; | max &lt;dbl&gt; | sd &lt;dbl&gt; |\n",
       "|---|---|---|---|\n",
       "| art_proportion (Y) | 0.04 | 0.305036 | 0.06314427 |\n",
       "\n"
      ],
      "text/plain": [
       "  variable           mean max      sd        \n",
       "1 art_proportion (Y) 0.04 0.305036 0.06314427"
      ]
     },
     "metadata": {},
     "output_type": "display_data"
    }
   ],
   "source": [
    "summary_stats_Y <- art_prop |>\n",
    "    summarize(\n",
    "        mean = mean(art_prop, na.rm = TRUE),\n",
    "        max = max(art_prop, na.rm = TRUE),\n",
    "        sd = sd(art_prop, na.rm = TRUE)\n",
    "    ) |>\n",
    "    mutate(variable = \"art_proportion (Y)\") |>\n",
    "    select(variable, everything())\n",
    "\n",
    "summary_stats_Y"
   ]
  },
  {
   "cell_type": "code",
   "execution_count": 7,
   "id": "eb0f34b5-1eb5-414e-86fa-05c66b6c0091",
   "metadata": {
    "scrolled": true
   },
   "outputs": [
    {
     "data": {
      "text/html": [
       "<style>\n",
       ".list-inline {list-style: none; margin:0; padding: 0}\n",
       ".list-inline>li {display: inline-block}\n",
       ".list-inline>li:not(:last-child)::after {content: \"\\00b7\"; padding: 0 .5ex}\n",
       "</style>\n",
       "<ol class=list-inline><li>'art_prop'</li><li>'census_data_art'</li><li>'neighborhoods'</li><li>'public_art'</li><li>'summary_stats_Y'</li></ol>\n"
      ],
      "text/latex": [
       "\\begin{enumerate*}\n",
       "\\item 'art\\_prop'\n",
       "\\item 'census\\_data\\_art'\n",
       "\\item 'neighborhoods'\n",
       "\\item 'public\\_art'\n",
       "\\item 'summary\\_stats\\_Y'\n",
       "\\end{enumerate*}\n"
      ],
      "text/markdown": [
       "1. 'art_prop'\n",
       "2. 'census_data_art'\n",
       "3. 'neighborhoods'\n",
       "4. 'public_art'\n",
       "5. 'summary_stats_Y'\n",
       "\n",
       "\n"
      ],
      "text/plain": [
       "[1] \"art_prop\"        \"census_data_art\" \"neighborhoods\"   \"public_art\"     \n",
       "[5] \"summary_stats_Y\""
      ]
     },
     "metadata": {},
     "output_type": "display_data"
    },
    {
     "name": "stdout",
     "output_type": "stream",
     "text": [
      "'data.frame':\t3590 obs. of  66 variables:\n",
      " $ Shape.Area                                                                                                                                               : num  0.852 0.166 0.156 0.721 0.66 ...\n",
      " $ Quality.Flags                                                                                                                                            : chr  \"0\" \"0\" \"0\" \"0\" ...\n",
      " $ GeoUID                                                                                                                                                   : chr  \"59150004\" \"59150005\" \"59150006\" \"59150007\" ...\n",
      " $ Type                                                                                                                                                     : Factor w/ 1 level \"DA\": 1 1 1 1 1 1 1 1 1 1 ...\n",
      " $ Households                                                                                                                                               : int  166 205 192 211 220 143 309 179 111 467 ...\n",
      " $ CD_UID                                                                                                                                                   : chr  \"5915\" \"5915\" \"5915\" \"5915\" ...\n",
      " $ Dwellings                                                                                                                                                : int  177 221 199 225 235 148 317 189 120 505 ...\n",
      " $ Population                                                                                                                                               : int  362 526 452 545 596 393 855 525 311 1172 ...\n",
      " $ name                                                                                                                                                     : chr  \"59150004\" \"59150005\" \"59150006\" \"59150007\" ...\n",
      " $ CSD_UID                                                                                                                                                  : chr  \"5915055\" \"5915055\" \"5915055\" \"5915055\" ...\n",
      " $ CT_UID                                                                                                                                                   : chr  \"9330133.01\" \"9330133.01\" \"9330133.01\" \"9330133.01\" ...\n",
      " $ CMA_UID                                                                                                                                                  : chr  \"59933\" \"59933\" \"59933\" \"59933\" ...\n",
      " $ Region.Name                                                                                                                                              : Factor w/ 3590 levels \"59150004\",\"59150005\",..: 1 2 3 4 5 6 7 8 9 10 ...\n",
      " $ Area..sq.km.                                                                                                                                             : num  0.852 0.166 0.156 0.721 0.66 ...\n",
      " $ v_CA21_1..Population..2021                                                                                                                               : num  362 526 452 545 596 ...\n",
      " $ v_CA21_2..Population..2016                                                                                                                               : num  NA NA NA NA NA NA NA NA NA NA ...\n",
      " $ v_CA21_7..Land.area.in.square.kilometres                                                                                                                 : num  0.85 0.17 0.16 0.72 0.66 ...\n",
      " $ v_CA21_5..Private.dwellings.occupied.by.usual.residents                                                                                                  : num  166 205 192 211 220 143 309 179 111 467 ...\n",
      " $ v_CA21_10..Total...Age                                                                                                                                   : num  180 265 230 275 290 205 410 270 160 600 ...\n",
      " $ v_CA21_9..Total...Age                                                                                                                                    : num  185 260 225 265 300 190 440 250 155 570 ...\n",
      " $ v_CA21_8..Total...Age                                                                                                                                    : num  360 525 455 540 595 395 855 520 310 1170 ...\n",
      " $ v_CA21_6..Population.density.per.square.kilometre                                                                                                        : num  425 3169 2899 756 903 ...\n",
      " $ v_CA21_388..Average.age                                                                                                                                  : num  53 46.2 43.8 49.4 46.6 45 46 45 44.8 48.9 ...\n",
      " $ v_CA21_387..Average.age                                                                                                                                  : num  51 39.6 44.4 49 45.4 43.4 45.9 44.4 42.8 47.7 ...\n",
      " $ v_CA21_386..Average.age                                                                                                                                  : num  52 43 44.1 49.2 45.9 44.2 45.9 44.8 43.8 48.3 ...\n",
      " $ v_CA21_435..Single.detached.house                                                                                                                        : num  80 65 120 200 210 125 285 155 100 180 ...\n",
      " $ v_CA21_436..Semi.detached.house                                                                                                                          : num  25 75 5 5 0 0 5 0 5 15 ...\n",
      " $ v_CA21_442..Movable.dwelling                                                                                                                             : num  0 0 0 0 0 0 0 0 0 0 ...\n",
      " $ v_CA21_441..Other.single.attached.house                                                                                                                  : num  0 0 0 0 0 0 0 5 0 0 ...\n",
      " $ v_CA21_440..Apartment.in.a.building.that.has.five.or.more.storeys                                                                                        : num  0 0 45 0 0 0 0 0 0 140 ...\n",
      " $ v_CA21_439..Apartment.in.a.building.that.has.fewer.than.five.storeys                                                                                     : num  40 35 0 0 0 0 0 0 0 10 ...\n",
      " $ v_CA21_437..Row.house                                                                                                                                    : num  0 0 0 0 0 0 0 10 0 100 ...\n",
      " $ v_CA21_438..Apartment.or.flat.in.a.duplex                                                                                                                : num  20 25 20 10 10 15 20 10 5 15 ...\n",
      " $ v_CA21_443..Private.households.by.household.size                                                                                                         : num  165 205 190 210 220 145 310 180 110 465 ...\n",
      " $ v_CA21_449..Number.of.persons.in.private.households                                                                                                      : num  360 525 455 545 600 395 855 525 310 1170 ...\n",
      " $ v_CA21_4201..Total...Indigenous.identity.for.the.population.in.private.households                                                                        : num  340 450 470 490 555 ...\n",
      " $ v_CA21_4238..Owner                                                                                                                                       : num  130 115 135 190 180 130 290 155 105 410 ...\n",
      " $ v_CA21_4239..Renter                                                                                                                                      : num  45 85 60 10 25 0 25 15 0 75 ...\n",
      " $ v_CA21_4240..Dwelling.provided.by.the.local.government..First.Nation.or.Indian.band                                                                      : num  0 0 0 0 0 0 0 0 0 0 ...\n",
      " $ v_CA21_546..With.children                                                                                                                                : num  30 65 60 70 75 60 115 80 40 140 ...\n",
      " $ v_CA21_547..Without.children                                                                                                                             : num  60 40 50 80 80 50 120 50 35 165 ...\n",
      " $ v_CA21_548..One.parent.family.households                                                                                                                 : num  10 25 10 10 10 5 20 10 10 35 ...\n",
      " $ v_CA21_549..Multigenerational.households                                                                                                                 : num  0 5 5 5 10 0 10 10 5 15 ...\n",
      " $ v_CA21_550..Multiple.census.family.households                                                                                                            : num  5 0 0 0 5 0 5 0 0 5 ...\n",
      " $ v_CA21_906..Median.total.income.of.household.in.2020....                                                                                                 : num  105000 122000 103000 164000 198000 168000 168000 176000 151000 121000 ...\n",
      " $ v_CA21_965..Median.total.income.of.economic.family.in.2020....                                                                                           : num  139000 142000 157000 182000 216000 178000 178000 184000 160000 138000 ...\n",
      " $ v_CA21_1140..Gini.index.on.adjusted.household.total.income                                                                                               : num  0.448 0.362 0.44 0.478 0.684 0.55 0.5 0.49 0.5 0.542 ...\n",
      " $ v_CA21_1147..English.only                                                                                                                                : num  330 460 400 450 515 325 740 445 270 1010 ...\n",
      " $ v_CA21_1150..French.only                                                                                                                                 : num  0 0 0 0 0 0 0 0 0 0 ...\n",
      " $ v_CA21_1153..English.and.French                                                                                                                          : num  25 65 50 80 80 70 105 55 30 105 ...\n",
      " $ v_CA21_1156..Neither.English.nor.French                                                                                                                  : num  5 0 0 10 5 0 10 20 5 55 ...\n",
      " $ v_CA21_5802..No.high.school.diploma.or.equivalency.certificate                                                                                           : num  15 45 25 25 25 25 30 25 35 95 ...\n",
      " $ v_CA21_5817..Total...Highest.certificate..diploma.or.degree.for.the.population.aged.15.years.and.over.in.private.households                              : num  310 385 395 445 480 ...\n",
      " $ v_CA21_6519..Did.not.work                                                                                                                                : num  155 80 100 130 180 135 210 180 110 475 ...\n",
      " $ v_CA21_6522..Worked                                                                                                                                      : num  155 300 295 320 295 190 535 255 140 595 ...\n",
      " $ v_CA21_4311..Median.value.of.dwellings......60.                                                                                                          : num  1600000 1500000 1900000 2000000 3480000 2300000 2400000 3000000 2800000 2000000 ...\n",
      " $ v_CA21_7617..Total...Commuting.destination.for.the.employed.labour.force.aged.15.years.and.over.with.a.usual.place.of.work                               : num  100 125 135 120 135 75 240 135 60 265 ...\n",
      " $ v_CA21_7632..Total...Main.mode.of.commuting.for.the.employed.labour.force.aged.15.years.and.over.with.a.usual.place.of.work.or.no.fixed.workplace.address: num  105 175 155 165 160 75 265 135 70 315 ...\n",
      " $ v_CA21_7634..Total...Main.mode.of.commuting.for.the.employed.labour.force.aged.15.years.and.over.with.a.usual.place.of.work.or.no.fixed.workplace.address: num  55 95 60 70 65 25 125 55 30 130 ...\n",
      " $ v_CA21_7656..Total...Commuting.duration.for.the.employed.labour.force.aged.15.years.and.over.with.a.usual.place.of.work.or.no.fixed.workplace.address    : num  105 175 155 165 160 75 265 135 70 315 ...\n",
      " $ v_CA21_7674..Total...Time.leaving.for.work.for.the.employed.labour.force.aged.15.years.and.over.with.a.usual.place.of.work.or.no.fixed.workplace.address : num  105 175 155 165 160 75 265 135 70 315 ...\n",
      " $ v_CA21_599..Income.statistics.in.2020.for.the.population.aged.15.years.and.over.in.private.households                                                    : num  310 380 395 445 475 ...\n",
      " $ v_CA21_851..Income.statistics.in.2019.for.the.population.aged.15.years.and.over.in.private.households                                                    : num  310 380 395 445 475 ...\n",
      " $ v_CA21_5865..Total...Highest.certificate..diploma.or.degree.for.the.population.aged.25.to.64.years.in.private.households                                 : num  150 235 210 270 260 175 425 235 175 575 ...\n",
      " $ art_contained                                                                                                                                            : num  0 0 0 0 0 0 0 0 0 0 ...\n",
      " $ art_within_500                                                                                                                                           : num  0 0 0 0 0 0 0 0 0 0 ...\n",
      "Rows: 3,590\n",
      "Columns: 66\n",
      "$ Shape.Area                                                                                                                                                \u001b[3m\u001b[90m<dbl>\u001b[39m\u001b[23m …\n",
      "$ Quality.Flags                                                                                                                                             \u001b[3m\u001b[90m<chr>\u001b[39m\u001b[23m …\n",
      "$ GeoUID                                                                                                                                                    \u001b[3m\u001b[90m<chr>\u001b[39m\u001b[23m …\n",
      "$ Type                                                                                                                                                      \u001b[3m\u001b[90m<fct>\u001b[39m\u001b[23m …\n",
      "$ Households                                                                                                                                                \u001b[3m\u001b[90m<int>\u001b[39m\u001b[23m …\n",
      "$ CD_UID                                                                                                                                                    \u001b[3m\u001b[90m<chr>\u001b[39m\u001b[23m …\n",
      "$ Dwellings                                                                                                                                                 \u001b[3m\u001b[90m<int>\u001b[39m\u001b[23m …\n",
      "$ Population                                                                                                                                                \u001b[3m\u001b[90m<int>\u001b[39m\u001b[23m …\n",
      "$ name                                                                                                                                                      \u001b[3m\u001b[90m<chr>\u001b[39m\u001b[23m …\n",
      "$ CSD_UID                                                                                                                                                   \u001b[3m\u001b[90m<chr>\u001b[39m\u001b[23m …\n",
      "$ CT_UID                                                                                                                                                    \u001b[3m\u001b[90m<chr>\u001b[39m\u001b[23m …\n",
      "$ CMA_UID                                                                                                                                                   \u001b[3m\u001b[90m<chr>\u001b[39m\u001b[23m …\n",
      "$ Region.Name                                                                                                                                               \u001b[3m\u001b[90m<fct>\u001b[39m\u001b[23m …\n",
      "$ Area..sq.km.                                                                                                                                              \u001b[3m\u001b[90m<dbl>\u001b[39m\u001b[23m …\n",
      "$ v_CA21_1..Population..2021                                                                                                                                \u001b[3m\u001b[90m<dbl>\u001b[39m\u001b[23m …\n",
      "$ v_CA21_2..Population..2016                                                                                                                                \u001b[3m\u001b[90m<dbl>\u001b[39m\u001b[23m …\n",
      "$ v_CA21_7..Land.area.in.square.kilometres                                                                                                                  \u001b[3m\u001b[90m<dbl>\u001b[39m\u001b[23m …\n",
      "$ v_CA21_5..Private.dwellings.occupied.by.usual.residents                                                                                                   \u001b[3m\u001b[90m<dbl>\u001b[39m\u001b[23m …\n",
      "$ v_CA21_10..Total...Age                                                                                                                                    \u001b[3m\u001b[90m<dbl>\u001b[39m\u001b[23m …\n",
      "$ v_CA21_9..Total...Age                                                                                                                                     \u001b[3m\u001b[90m<dbl>\u001b[39m\u001b[23m …\n",
      "$ v_CA21_8..Total...Age                                                                                                                                     \u001b[3m\u001b[90m<dbl>\u001b[39m\u001b[23m …\n",
      "$ v_CA21_6..Population.density.per.square.kilometre                                                                                                         \u001b[3m\u001b[90m<dbl>\u001b[39m\u001b[23m …\n",
      "$ v_CA21_388..Average.age                                                                                                                                   \u001b[3m\u001b[90m<dbl>\u001b[39m\u001b[23m …\n",
      "$ v_CA21_387..Average.age                                                                                                                                   \u001b[3m\u001b[90m<dbl>\u001b[39m\u001b[23m …\n",
      "$ v_CA21_386..Average.age                                                                                                                                   \u001b[3m\u001b[90m<dbl>\u001b[39m\u001b[23m …\n",
      "$ v_CA21_435..Single.detached.house                                                                                                                         \u001b[3m\u001b[90m<dbl>\u001b[39m\u001b[23m …\n",
      "$ v_CA21_436..Semi.detached.house                                                                                                                           \u001b[3m\u001b[90m<dbl>\u001b[39m\u001b[23m …\n",
      "$ v_CA21_442..Movable.dwelling                                                                                                                              \u001b[3m\u001b[90m<dbl>\u001b[39m\u001b[23m …\n",
      "$ v_CA21_441..Other.single.attached.house                                                                                                                   \u001b[3m\u001b[90m<dbl>\u001b[39m\u001b[23m …\n",
      "$ v_CA21_440..Apartment.in.a.building.that.has.five.or.more.storeys                                                                                         \u001b[3m\u001b[90m<dbl>\u001b[39m\u001b[23m …\n",
      "$ v_CA21_439..Apartment.in.a.building.that.has.fewer.than.five.storeys                                                                                      \u001b[3m\u001b[90m<dbl>\u001b[39m\u001b[23m …\n",
      "$ v_CA21_437..Row.house                                                                                                                                     \u001b[3m\u001b[90m<dbl>\u001b[39m\u001b[23m …\n",
      "$ v_CA21_438..Apartment.or.flat.in.a.duplex                                                                                                                 \u001b[3m\u001b[90m<dbl>\u001b[39m\u001b[23m …\n",
      "$ v_CA21_443..Private.households.by.household.size                                                                                                          \u001b[3m\u001b[90m<dbl>\u001b[39m\u001b[23m …\n",
      "$ v_CA21_449..Number.of.persons.in.private.households                                                                                                       \u001b[3m\u001b[90m<dbl>\u001b[39m\u001b[23m …\n",
      "$ v_CA21_4201..Total...Indigenous.identity.for.the.population.in.private.households                                                                         \u001b[3m\u001b[90m<dbl>\u001b[39m\u001b[23m …\n",
      "$ v_CA21_4238..Owner                                                                                                                                        \u001b[3m\u001b[90m<dbl>\u001b[39m\u001b[23m …\n",
      "$ v_CA21_4239..Renter                                                                                                                                       \u001b[3m\u001b[90m<dbl>\u001b[39m\u001b[23m …\n",
      "$ v_CA21_4240..Dwelling.provided.by.the.local.government..First.Nation.or.Indian.band                                                                       \u001b[3m\u001b[90m<dbl>\u001b[39m\u001b[23m …\n",
      "$ v_CA21_546..With.children                                                                                                                                 \u001b[3m\u001b[90m<dbl>\u001b[39m\u001b[23m …\n",
      "$ v_CA21_547..Without.children                                                                                                                              \u001b[3m\u001b[90m<dbl>\u001b[39m\u001b[23m …\n",
      "$ v_CA21_548..One.parent.family.households                                                                                                                  \u001b[3m\u001b[90m<dbl>\u001b[39m\u001b[23m …\n",
      "$ v_CA21_549..Multigenerational.households                                                                                                                  \u001b[3m\u001b[90m<dbl>\u001b[39m\u001b[23m …\n",
      "$ v_CA21_550..Multiple.census.family.households                                                                                                             \u001b[3m\u001b[90m<dbl>\u001b[39m\u001b[23m …\n",
      "$ v_CA21_906..Median.total.income.of.household.in.2020....                                                                                                  \u001b[3m\u001b[90m<dbl>\u001b[39m\u001b[23m …\n",
      "$ v_CA21_965..Median.total.income.of.economic.family.in.2020....                                                                                            \u001b[3m\u001b[90m<dbl>\u001b[39m\u001b[23m …\n",
      "$ v_CA21_1140..Gini.index.on.adjusted.household.total.income                                                                                                \u001b[3m\u001b[90m<dbl>\u001b[39m\u001b[23m …\n",
      "$ v_CA21_1147..English.only                                                                                                                                 \u001b[3m\u001b[90m<dbl>\u001b[39m\u001b[23m …\n",
      "$ v_CA21_1150..French.only                                                                                                                                  \u001b[3m\u001b[90m<dbl>\u001b[39m\u001b[23m …\n",
      "$ v_CA21_1153..English.and.French                                                                                                                           \u001b[3m\u001b[90m<dbl>\u001b[39m\u001b[23m …\n",
      "$ v_CA21_1156..Neither.English.nor.French                                                                                                                   \u001b[3m\u001b[90m<dbl>\u001b[39m\u001b[23m …\n",
      "$ v_CA21_5802..No.high.school.diploma.or.equivalency.certificate                                                                                            \u001b[3m\u001b[90m<dbl>\u001b[39m\u001b[23m …\n",
      "$ v_CA21_5817..Total...Highest.certificate..diploma.or.degree.for.the.population.aged.15.years.and.over.in.private.households                               \u001b[3m\u001b[90m<dbl>\u001b[39m\u001b[23m …\n",
      "$ v_CA21_6519..Did.not.work                                                                                                                                 \u001b[3m\u001b[90m<dbl>\u001b[39m\u001b[23m …\n",
      "$ v_CA21_6522..Worked                                                                                                                                       \u001b[3m\u001b[90m<dbl>\u001b[39m\u001b[23m …\n",
      "$ v_CA21_4311..Median.value.of.dwellings......60.                                                                                                           \u001b[3m\u001b[90m<dbl>\u001b[39m\u001b[23m …\n",
      "$ v_CA21_7617..Total...Commuting.destination.for.the.employed.labour.force.aged.15.years.and.over.with.a.usual.place.of.work                                \u001b[3m\u001b[90m<dbl>\u001b[39m\u001b[23m …\n",
      "$ v_CA21_7632..Total...Main.mode.of.commuting.for.the.employed.labour.force.aged.15.years.and.over.with.a.usual.place.of.work.or.no.fixed.workplace.address \u001b[3m\u001b[90m<dbl>\u001b[39m\u001b[23m …\n",
      "$ v_CA21_7634..Total...Main.mode.of.commuting.for.the.employed.labour.force.aged.15.years.and.over.with.a.usual.place.of.work.or.no.fixed.workplace.address \u001b[3m\u001b[90m<dbl>\u001b[39m\u001b[23m …\n",
      "$ v_CA21_7656..Total...Commuting.duration.for.the.employed.labour.force.aged.15.years.and.over.with.a.usual.place.of.work.or.no.fixed.workplace.address     \u001b[3m\u001b[90m<dbl>\u001b[39m\u001b[23m …\n",
      "$ v_CA21_7674..Total...Time.leaving.for.work.for.the.employed.labour.force.aged.15.years.and.over.with.a.usual.place.of.work.or.no.fixed.workplace.address  \u001b[3m\u001b[90m<dbl>\u001b[39m\u001b[23m …\n",
      "$ v_CA21_599..Income.statistics.in.2020.for.the.population.aged.15.years.and.over.in.private.households                                                     \u001b[3m\u001b[90m<dbl>\u001b[39m\u001b[23m …\n",
      "$ v_CA21_851..Income.statistics.in.2019.for.the.population.aged.15.years.and.over.in.private.households                                                     \u001b[3m\u001b[90m<dbl>\u001b[39m\u001b[23m …\n",
      "$ v_CA21_5865..Total...Highest.certificate..diploma.or.degree.for.the.population.aged.25.to.64.years.in.private.households                                  \u001b[3m\u001b[90m<dbl>\u001b[39m\u001b[23m …\n",
      "$ art_contained                                                                                                                                             \u001b[3m\u001b[90m<dbl>\u001b[39m\u001b[23m …\n",
      "$ art_within_500                                                                                                                                            \u001b[3m\u001b[90m<dbl>\u001b[39m\u001b[23m …\n"
     ]
    }
   ],
   "source": [
    "load('data/data_art_nosf.rda')\n",
    "ls()\n",
    "\n",
    "str(census_data_art)    # check the structure of the object census_data_art\n",
    "\n",
    "glimpse(census_data_art)"
   ]
  },
  {
   "cell_type": "code",
   "execution_count": 8,
   "id": "dc745e37-c234-4fc7-8a47-dbe2f76be5ba",
   "metadata": {},
   "outputs": [
    {
     "data": {
      "text/html": [
       "<table class=\"dataframe\">\n",
       "<caption>A data.frame: 3 × 66</caption>\n",
       "<thead>\n",
       "\t<tr><th></th><th scope=col>Shape.Area</th><th scope=col>Quality.Flags</th><th scope=col>GeoUID</th><th scope=col>Type</th><th scope=col>Households</th><th scope=col>CD_UID</th><th scope=col>Dwellings</th><th scope=col>Population</th><th scope=col>name</th><th scope=col>CSD_UID</th><th scope=col>⋯</th><th scope=col>v_CA21_7617..Total...Commuting.destination.for.the.employed.labour.force.aged.15.years.and.over.with.a.usual.place.of.work</th><th scope=col>v_CA21_7632..Total...Main.mode.of.commuting.for.the.employed.labour.force.aged.15.years.and.over.with.a.usual.place.of.work.or.no.fixed.workplace.address</th><th scope=col>v_CA21_7634..Total...Main.mode.of.commuting.for.the.employed.labour.force.aged.15.years.and.over.with.a.usual.place.of.work.or.no.fixed.workplace.address</th><th scope=col>v_CA21_7656..Total...Commuting.duration.for.the.employed.labour.force.aged.15.years.and.over.with.a.usual.place.of.work.or.no.fixed.workplace.address</th><th scope=col>v_CA21_7674..Total...Time.leaving.for.work.for.the.employed.labour.force.aged.15.years.and.over.with.a.usual.place.of.work.or.no.fixed.workplace.address</th><th scope=col>v_CA21_599..Income.statistics.in.2020.for.the.population.aged.15.years.and.over.in.private.households</th><th scope=col>v_CA21_851..Income.statistics.in.2019.for.the.population.aged.15.years.and.over.in.private.households</th><th scope=col>v_CA21_5865..Total...Highest.certificate..diploma.or.degree.for.the.population.aged.25.to.64.years.in.private.households</th><th scope=col>art_contained</th><th scope=col>art_within_500</th></tr>\n",
       "\t<tr><th></th><th scope=col>&lt;dbl&gt;</th><th scope=col>&lt;chr&gt;</th><th scope=col>&lt;chr&gt;</th><th scope=col>&lt;fct&gt;</th><th scope=col>&lt;int&gt;</th><th scope=col>&lt;chr&gt;</th><th scope=col>&lt;int&gt;</th><th scope=col>&lt;int&gt;</th><th scope=col>&lt;chr&gt;</th><th scope=col>&lt;chr&gt;</th><th scope=col>⋯</th><th scope=col>&lt;dbl&gt;</th><th scope=col>&lt;dbl&gt;</th><th scope=col>&lt;dbl&gt;</th><th scope=col>&lt;dbl&gt;</th><th scope=col>&lt;dbl&gt;</th><th scope=col>&lt;dbl&gt;</th><th scope=col>&lt;dbl&gt;</th><th scope=col>&lt;dbl&gt;</th><th scope=col>&lt;dbl&gt;</th><th scope=col>&lt;dbl&gt;</th></tr>\n",
       "</thead>\n",
       "<tbody>\n",
       "\t<tr><th scope=row>1</th><td>0.8517</td><td>0</td><td>59150004</td><td>DA</td><td>166</td><td>5915</td><td>177</td><td>362</td><td>59150004</td><td>5915055</td><td>⋯</td><td>100</td><td>105</td><td>55</td><td>105</td><td>105</td><td>310</td><td>310</td><td>150</td><td>0</td><td>0</td></tr>\n",
       "\t<tr><th scope=row>2</th><td>0.1660</td><td>0</td><td>59150005</td><td>DA</td><td>205</td><td>5915</td><td>221</td><td>526</td><td>59150005</td><td>5915055</td><td>⋯</td><td>125</td><td>175</td><td>95</td><td>175</td><td>175</td><td>380</td><td>380</td><td>235</td><td>0</td><td>0</td></tr>\n",
       "\t<tr><th scope=row>3</th><td>0.1559</td><td>0</td><td>59150006</td><td>DA</td><td>192</td><td>5915</td><td>199</td><td>452</td><td>59150006</td><td>5915055</td><td>⋯</td><td>135</td><td>155</td><td>60</td><td>155</td><td>155</td><td>395</td><td>395</td><td>210</td><td>0</td><td>0</td></tr>\n",
       "</tbody>\n",
       "</table>\n"
      ],
      "text/latex": [
       "A data.frame: 3 × 66\n",
       "\\begin{tabular}{r|lllllllllllllllllllll}\n",
       "  & Shape.Area & Quality.Flags & GeoUID & Type & Households & CD\\_UID & Dwellings & Population & name & CSD\\_UID & ⋯ & v\\_CA21\\_7617..Total...Commuting.destination.for.the.employed.labour.force.aged.15.years.and.over.with.a.usual.place.of.work & v\\_CA21\\_7632..Total...Main.mode.of.commuting.for.the.employed.labour.force.aged.15.years.and.over.with.a.usual.place.of.work.or.no.fixed.workplace.address & v\\_CA21\\_7634..Total...Main.mode.of.commuting.for.the.employed.labour.force.aged.15.years.and.over.with.a.usual.place.of.work.or.no.fixed.workplace.address & v\\_CA21\\_7656..Total...Commuting.duration.for.the.employed.labour.force.aged.15.years.and.over.with.a.usual.place.of.work.or.no.fixed.workplace.address & v\\_CA21\\_7674..Total...Time.leaving.for.work.for.the.employed.labour.force.aged.15.years.and.over.with.a.usual.place.of.work.or.no.fixed.workplace.address & v\\_CA21\\_599..Income.statistics.in.2020.for.the.population.aged.15.years.and.over.in.private.households & v\\_CA21\\_851..Income.statistics.in.2019.for.the.population.aged.15.years.and.over.in.private.households & v\\_CA21\\_5865..Total...Highest.certificate..diploma.or.degree.for.the.population.aged.25.to.64.years.in.private.households & art\\_contained & art\\_within\\_500\\\\\n",
       "  & <dbl> & <chr> & <chr> & <fct> & <int> & <chr> & <int> & <int> & <chr> & <chr> & ⋯ & <dbl> & <dbl> & <dbl> & <dbl> & <dbl> & <dbl> & <dbl> & <dbl> & <dbl> & <dbl>\\\\\n",
       "\\hline\n",
       "\t1 & 0.8517 & 0 & 59150004 & DA & 166 & 5915 & 177 & 362 & 59150004 & 5915055 & ⋯ & 100 & 105 & 55 & 105 & 105 & 310 & 310 & 150 & 0 & 0\\\\\n",
       "\t2 & 0.1660 & 0 & 59150005 & DA & 205 & 5915 & 221 & 526 & 59150005 & 5915055 & ⋯ & 125 & 175 & 95 & 175 & 175 & 380 & 380 & 235 & 0 & 0\\\\\n",
       "\t3 & 0.1559 & 0 & 59150006 & DA & 192 & 5915 & 199 & 452 & 59150006 & 5915055 & ⋯ & 135 & 155 & 60 & 155 & 155 & 395 & 395 & 210 & 0 & 0\\\\\n",
       "\\end{tabular}\n"
      ],
      "text/markdown": [
       "\n",
       "A data.frame: 3 × 66\n",
       "\n",
       "| <!--/--> | Shape.Area &lt;dbl&gt; | Quality.Flags &lt;chr&gt; | GeoUID &lt;chr&gt; | Type &lt;fct&gt; | Households &lt;int&gt; | CD_UID &lt;chr&gt; | Dwellings &lt;int&gt; | Population &lt;int&gt; | name &lt;chr&gt; | CSD_UID &lt;chr&gt; | ⋯ ⋯ | v_CA21_7617..Total...Commuting.destination.for.the.employed.labour.force.aged.15.years.and.over.with.a.usual.place.of.work &lt;dbl&gt; | v_CA21_7632..Total...Main.mode.of.commuting.for.the.employed.labour.force.aged.15.years.and.over.with.a.usual.place.of.work.or.no.fixed.workplace.address &lt;dbl&gt; | v_CA21_7634..Total...Main.mode.of.commuting.for.the.employed.labour.force.aged.15.years.and.over.with.a.usual.place.of.work.or.no.fixed.workplace.address &lt;dbl&gt; | v_CA21_7656..Total...Commuting.duration.for.the.employed.labour.force.aged.15.years.and.over.with.a.usual.place.of.work.or.no.fixed.workplace.address &lt;dbl&gt; | v_CA21_7674..Total...Time.leaving.for.work.for.the.employed.labour.force.aged.15.years.and.over.with.a.usual.place.of.work.or.no.fixed.workplace.address &lt;dbl&gt; | v_CA21_599..Income.statistics.in.2020.for.the.population.aged.15.years.and.over.in.private.households &lt;dbl&gt; | v_CA21_851..Income.statistics.in.2019.for.the.population.aged.15.years.and.over.in.private.households &lt;dbl&gt; | v_CA21_5865..Total...Highest.certificate..diploma.or.degree.for.the.population.aged.25.to.64.years.in.private.households &lt;dbl&gt; | art_contained &lt;dbl&gt; | art_within_500 &lt;dbl&gt; |\n",
       "|---|---|---|---|---|---|---|---|---|---|---|---|---|---|---|---|---|---|---|---|---|---|\n",
       "| 1 | 0.8517 | 0 | 59150004 | DA | 166 | 5915 | 177 | 362 | 59150004 | 5915055 | ⋯ | 100 | 105 | 55 | 105 | 105 | 310 | 310 | 150 | 0 | 0 |\n",
       "| 2 | 0.1660 | 0 | 59150005 | DA | 205 | 5915 | 221 | 526 | 59150005 | 5915055 | ⋯ | 125 | 175 | 95 | 175 | 175 | 380 | 380 | 235 | 0 | 0 |\n",
       "| 3 | 0.1559 | 0 | 59150006 | DA | 192 | 5915 | 199 | 452 | 59150006 | 5915055 | ⋯ | 135 | 155 | 60 | 155 | 155 | 395 | 395 | 210 | 0 | 0 |\n",
       "\n"
      ],
      "text/plain": [
       "  Shape.Area Quality.Flags GeoUID   Type Households CD_UID Dwellings Population\n",
       "1 0.8517     0             59150004 DA   166        5915   177       362       \n",
       "2 0.1660     0             59150005 DA   205        5915   221       526       \n",
       "3 0.1559     0             59150006 DA   192        5915   199       452       \n",
       "  name     CSD_UID ⋯\n",
       "1 59150004 5915055 ⋯\n",
       "2 59150005 5915055 ⋯\n",
       "3 59150006 5915055 ⋯\n",
       "  v_CA21_7617..Total...Commuting.destination.for.the.employed.labour.force.aged.15.years.and.over.with.a.usual.place.of.work\n",
       "1 100                                                                                                                       \n",
       "2 125                                                                                                                       \n",
       "3 135                                                                                                                       \n",
       "  v_CA21_7632..Total...Main.mode.of.commuting.for.the.employed.labour.force.aged.15.years.and.over.with.a.usual.place.of.work.or.no.fixed.workplace.address\n",
       "1 105                                                                                                                                                      \n",
       "2 175                                                                                                                                                      \n",
       "3 155                                                                                                                                                      \n",
       "  v_CA21_7634..Total...Main.mode.of.commuting.for.the.employed.labour.force.aged.15.years.and.over.with.a.usual.place.of.work.or.no.fixed.workplace.address\n",
       "1 55                                                                                                                                                       \n",
       "2 95                                                                                                                                                       \n",
       "3 60                                                                                                                                                       \n",
       "  v_CA21_7656..Total...Commuting.duration.for.the.employed.labour.force.aged.15.years.and.over.with.a.usual.place.of.work.or.no.fixed.workplace.address\n",
       "1 105                                                                                                                                                  \n",
       "2 175                                                                                                                                                  \n",
       "3 155                                                                                                                                                  \n",
       "  v_CA21_7674..Total...Time.leaving.for.work.for.the.employed.labour.force.aged.15.years.and.over.with.a.usual.place.of.work.or.no.fixed.workplace.address\n",
       "1 105                                                                                                                                                     \n",
       "2 175                                                                                                                                                     \n",
       "3 155                                                                                                                                                     \n",
       "  v_CA21_599..Income.statistics.in.2020.for.the.population.aged.15.years.and.over.in.private.households\n",
       "1 310                                                                                                  \n",
       "2 380                                                                                                  \n",
       "3 395                                                                                                  \n",
       "  v_CA21_851..Income.statistics.in.2019.for.the.population.aged.15.years.and.over.in.private.households\n",
       "1 310                                                                                                  \n",
       "2 380                                                                                                  \n",
       "3 395                                                                                                  \n",
       "  v_CA21_5865..Total...Highest.certificate..diploma.or.degree.for.the.population.aged.25.to.64.years.in.private.households\n",
       "1 150                                                                                                                     \n",
       "2 235                                                                                                                     \n",
       "3 210                                                                                                                     \n",
       "  art_contained art_within_500\n",
       "1 0             0             \n",
       "2 0             0             \n",
       "3 0             0             "
      ]
     },
     "metadata": {},
     "output_type": "display_data"
    }
   ],
   "source": [
    "head(census_data_art, n=3)"
   ]
  },
  {
   "cell_type": "code",
   "execution_count": 9,
   "id": "d551a5de-557e-442e-afb1-02dac288a62d",
   "metadata": {},
   "outputs": [
    {
     "data": {
      "text/html": [
       "<style>\n",
       ".list-inline {list-style: none; margin:0; padding: 0}\n",
       ".list-inline>li {display: inline-block}\n",
       ".list-inline>li:not(:last-child)::after {content: \"\\00b7\"; padding: 0 .5ex}\n",
       "</style>\n",
       "<ol class=list-inline><li>'art_prop'</li><li>'census_data_art'</li><li>'census_data_hood'</li><li>'neighborhoods'</li><li>'public_art'</li><li>'summary_stats_Y'</li></ol>\n"
      ],
      "text/latex": [
       "\\begin{enumerate*}\n",
       "\\item 'art\\_prop'\n",
       "\\item 'census\\_data\\_art'\n",
       "\\item 'census\\_data\\_hood'\n",
       "\\item 'neighborhoods'\n",
       "\\item 'public\\_art'\n",
       "\\item 'summary\\_stats\\_Y'\n",
       "\\end{enumerate*}\n"
      ],
      "text/markdown": [
       "1. 'art_prop'\n",
       "2. 'census_data_art'\n",
       "3. 'census_data_hood'\n",
       "4. 'neighborhoods'\n",
       "5. 'public_art'\n",
       "6. 'summary_stats_Y'\n",
       "\n",
       "\n"
      ],
      "text/plain": [
       "[1] \"art_prop\"         \"census_data_art\"  \"census_data_hood\" \"neighborhoods\"   \n",
       "[5] \"public_art\"       \"summary_stats_Y\" "
      ]
     },
     "metadata": {},
     "output_type": "display_data"
    },
    {
     "data": {
      "text/html": [
       "<table class=\"dataframe\">\n",
       "<caption>A data.frame: 3 × 110</caption>\n",
       "<thead>\n",
       "\t<tr><th></th><th scope=col>Shape.Area</th><th scope=col>Quality.Flags</th><th scope=col>GeoUID</th><th scope=col>Type</th><th scope=col>Households</th><th scope=col>CD_UID</th><th scope=col>Dwellings</th><th scope=col>Population</th><th scope=col>name</th><th scope=col>CSD_UID</th><th scope=col>⋯</th><th scope=col>in_neighbourhood_West.End</th><th scope=col>in_neighbourhood_Downtown</th><th scope=col>in_neighbourhood_Hastings.Sunrise</th><th scope=col>in_neighbourhood_Kerrisdale</th><th scope=col>in_neighbourhood_Marpole</th><th scope=col>in_neighbourhood_Oakridge</th><th scope=col>in_neighbourhood_Riley.Park</th><th scope=col>in_neighbourhood_South.Cambie</th><th scope=col>in_neighbourhood_Shaughnessy</th><th scope=col>in_neighbourhood_Victoria-Fraserview</th></tr>\n",
       "\t<tr><th></th><th scope=col>&lt;dbl&gt;</th><th scope=col>&lt;chr&gt;</th><th scope=col>&lt;chr&gt;</th><th scope=col>&lt;fct&gt;</th><th scope=col>&lt;int&gt;</th><th scope=col>&lt;chr&gt;</th><th scope=col>&lt;int&gt;</th><th scope=col>&lt;int&gt;</th><th scope=col>&lt;chr&gt;</th><th scope=col>&lt;chr&gt;</th><th scope=col>⋯</th><th scope=col>&lt;dbl&gt;</th><th scope=col>&lt;dbl&gt;</th><th scope=col>&lt;dbl&gt;</th><th scope=col>&lt;dbl&gt;</th><th scope=col>&lt;dbl&gt;</th><th scope=col>&lt;dbl&gt;</th><th scope=col>&lt;dbl&gt;</th><th scope=col>&lt;dbl&gt;</th><th scope=col>&lt;dbl&gt;</th><th scope=col>&lt;dbl&gt;</th></tr>\n",
       "</thead>\n",
       "<tbody>\n",
       "\t<tr><th scope=row>1</th><td>0.8517</td><td>0</td><td>59150004</td><td>DA</td><td>166</td><td>5915</td><td>177</td><td>362</td><td>59150004</td><td>5915055</td><td>⋯</td><td>0</td><td>0</td><td>0</td><td>0</td><td>0</td><td>0</td><td>0</td><td>0</td><td>0</td><td>0</td></tr>\n",
       "\t<tr><th scope=row>2</th><td>0.1660</td><td>0</td><td>59150005</td><td>DA</td><td>205</td><td>5915</td><td>221</td><td>526</td><td>59150005</td><td>5915055</td><td>⋯</td><td>0</td><td>0</td><td>0</td><td>0</td><td>0</td><td>0</td><td>0</td><td>0</td><td>0</td><td>0</td></tr>\n",
       "\t<tr><th scope=row>3</th><td>0.1559</td><td>0</td><td>59150006</td><td>DA</td><td>192</td><td>5915</td><td>199</td><td>452</td><td>59150006</td><td>5915055</td><td>⋯</td><td>0</td><td>0</td><td>0</td><td>0</td><td>0</td><td>0</td><td>0</td><td>0</td><td>0</td><td>0</td></tr>\n",
       "</tbody>\n",
       "</table>\n"
      ],
      "text/latex": [
       "A data.frame: 3 × 110\n",
       "\\begin{tabular}{r|lllllllllllllllllllll}\n",
       "  & Shape.Area & Quality.Flags & GeoUID & Type & Households & CD\\_UID & Dwellings & Population & name & CSD\\_UID & ⋯ & in\\_neighbourhood\\_West.End & in\\_neighbourhood\\_Downtown & in\\_neighbourhood\\_Hastings.Sunrise & in\\_neighbourhood\\_Kerrisdale & in\\_neighbourhood\\_Marpole & in\\_neighbourhood\\_Oakridge & in\\_neighbourhood\\_Riley.Park & in\\_neighbourhood\\_South.Cambie & in\\_neighbourhood\\_Shaughnessy & in\\_neighbourhood\\_Victoria-Fraserview\\\\\n",
       "  & <dbl> & <chr> & <chr> & <fct> & <int> & <chr> & <int> & <int> & <chr> & <chr> & ⋯ & <dbl> & <dbl> & <dbl> & <dbl> & <dbl> & <dbl> & <dbl> & <dbl> & <dbl> & <dbl>\\\\\n",
       "\\hline\n",
       "\t1 & 0.8517 & 0 & 59150004 & DA & 166 & 5915 & 177 & 362 & 59150004 & 5915055 & ⋯ & 0 & 0 & 0 & 0 & 0 & 0 & 0 & 0 & 0 & 0\\\\\n",
       "\t2 & 0.1660 & 0 & 59150005 & DA & 205 & 5915 & 221 & 526 & 59150005 & 5915055 & ⋯ & 0 & 0 & 0 & 0 & 0 & 0 & 0 & 0 & 0 & 0\\\\\n",
       "\t3 & 0.1559 & 0 & 59150006 & DA & 192 & 5915 & 199 & 452 & 59150006 & 5915055 & ⋯ & 0 & 0 & 0 & 0 & 0 & 0 & 0 & 0 & 0 & 0\\\\\n",
       "\\end{tabular}\n"
      ],
      "text/markdown": [
       "\n",
       "A data.frame: 3 × 110\n",
       "\n",
       "| <!--/--> | Shape.Area &lt;dbl&gt; | Quality.Flags &lt;chr&gt; | GeoUID &lt;chr&gt; | Type &lt;fct&gt; | Households &lt;int&gt; | CD_UID &lt;chr&gt; | Dwellings &lt;int&gt; | Population &lt;int&gt; | name &lt;chr&gt; | CSD_UID &lt;chr&gt; | ⋯ ⋯ | in_neighbourhood_West.End &lt;dbl&gt; | in_neighbourhood_Downtown &lt;dbl&gt; | in_neighbourhood_Hastings.Sunrise &lt;dbl&gt; | in_neighbourhood_Kerrisdale &lt;dbl&gt; | in_neighbourhood_Marpole &lt;dbl&gt; | in_neighbourhood_Oakridge &lt;dbl&gt; | in_neighbourhood_Riley.Park &lt;dbl&gt; | in_neighbourhood_South.Cambie &lt;dbl&gt; | in_neighbourhood_Shaughnessy &lt;dbl&gt; | in_neighbourhood_Victoria-Fraserview &lt;dbl&gt; |\n",
       "|---|---|---|---|---|---|---|---|---|---|---|---|---|---|---|---|---|---|---|---|---|---|\n",
       "| 1 | 0.8517 | 0 | 59150004 | DA | 166 | 5915 | 177 | 362 | 59150004 | 5915055 | ⋯ | 0 | 0 | 0 | 0 | 0 | 0 | 0 | 0 | 0 | 0 |\n",
       "| 2 | 0.1660 | 0 | 59150005 | DA | 205 | 5915 | 221 | 526 | 59150005 | 5915055 | ⋯ | 0 | 0 | 0 | 0 | 0 | 0 | 0 | 0 | 0 | 0 |\n",
       "| 3 | 0.1559 | 0 | 59150006 | DA | 192 | 5915 | 199 | 452 | 59150006 | 5915055 | ⋯ | 0 | 0 | 0 | 0 | 0 | 0 | 0 | 0 | 0 | 0 |\n",
       "\n"
      ],
      "text/plain": [
       "  Shape.Area Quality.Flags GeoUID   Type Households CD_UID Dwellings Population\n",
       "1 0.8517     0             59150004 DA   166        5915   177       362       \n",
       "2 0.1660     0             59150005 DA   205        5915   221       526       \n",
       "3 0.1559     0             59150006 DA   192        5915   199       452       \n",
       "  name     CSD_UID ⋯ in_neighbourhood_West.End in_neighbourhood_Downtown\n",
       "1 59150004 5915055 ⋯ 0                         0                        \n",
       "2 59150005 5915055 ⋯ 0                         0                        \n",
       "3 59150006 5915055 ⋯ 0                         0                        \n",
       "  in_neighbourhood_Hastings.Sunrise in_neighbourhood_Kerrisdale\n",
       "1 0                                 0                          \n",
       "2 0                                 0                          \n",
       "3 0                                 0                          \n",
       "  in_neighbourhood_Marpole in_neighbourhood_Oakridge\n",
       "1 0                        0                        \n",
       "2 0                        0                        \n",
       "3 0                        0                        \n",
       "  in_neighbourhood_Riley.Park in_neighbourhood_South.Cambie\n",
       "1 0                           0                            \n",
       "2 0                           0                            \n",
       "3 0                           0                            \n",
       "  in_neighbourhood_Shaughnessy in_neighbourhood_Victoria-Fraserview\n",
       "1 0                            0                                   \n",
       "2 0                            0                                   \n",
       "3 0                            0                                   "
      ]
     },
     "metadata": {},
     "output_type": "display_data"
    }
   ],
   "source": [
    "load('data/data_hoods_nosf.rda')\n",
    "ls()\n",
    "head(census_data_hood, n=3)"
   ]
  },
  {
   "cell_type": "code",
   "execution_count": 10,
   "id": "6b8ed4d6-99e4-40b7-9d63-c3b697b00405",
   "metadata": {},
   "outputs": [],
   "source": [
    "# colnames(census_data_hood)"
   ]
  },
  {
   "cell_type": "code",
   "execution_count": 11,
   "id": "8dd459fa-6de8-44ea-bc1f-6e52465223d9",
   "metadata": {},
   "outputs": [],
   "source": [
    "# options(width = 200)\n",
    "# print(t(census_data_hood[1, ]))"
   ]
  },
  {
   "cell_type": "code",
   "execution_count": 12,
   "id": "19b364ea-78a7-424a-adc1-365c0c1af670",
   "metadata": {},
   "outputs": [],
   "source": [
    "dummy_cols <- c('in_neighbourhood_Arbutus.Ridge','in_neighbourhood_Grandview.Woodland','in_neighbourhood_Kensington.Cedar.Cottage',\n",
    "                'in_neighbourhood_Killarney','in_neighbourhood_Kitsilano','in_neighbourhood_Strathcona','in_neighbourhood_Sunset','in_neighbourhood_West.Point.Grey',\n",
    "                'in_neighbourhood_Dunbar.Southlands','in_neighbourhood_Fairview','in_neighbourhood_Mount.Pleasant','in_neighbourhood_Renfrew.Collingwood','in_neighbourhood_West.End',\n",
    "                'in_neighbourhood_Downtown','in_neighbourhood_Hastings.Sunrise','in_neighbourhood_Kerrisdale','in_neighbourhood_Marpole','in_neighbourhood_Oakridge',\n",
    "                'in_neighbourhood_Riley.Park','in_neighbourhood_South.Cambie','in_neighbourhood_Shaughnessy','in_neighbourhood_Victoria-Fraserview')\n",
    "\n",
    "census_data_hood_long <- census_data_hood %>%\n",
    "  pivot_longer(cols = all_of(dummy_cols), names_to = \"variable\", values_to = \"value\") %>%\n",
    "  filter(value == 1) %>%\n",
    "  group_by(GeoUID) %>%\n",
    "  summarise(Neighbourhood = first(variable), .groups = \"drop\")\n",
    "\n",
    "geouid_neighb <- census_data_hood %>%\n",
    "  left_join(census_data_hood_long, by = \"GeoUID\") %>%\n",
    "  select(GeoUID, Neighbourhood) %>%\n",
    "  filter(!is.na(Neighbourhood))"
   ]
  },
  {
   "cell_type": "code",
   "execution_count": 13,
   "id": "512115a8-2d4e-4773-9c67-6613a852cbde",
   "metadata": {},
   "outputs": [
    {
     "data": {
      "text/html": [
       "<table class=\"dataframe\">\n",
       "<caption>A data.frame: 3 × 2</caption>\n",
       "<thead>\n",
       "\t<tr><th></th><th scope=col>GeoUID</th><th scope=col>Neighbourhood</th></tr>\n",
       "\t<tr><th></th><th scope=col>&lt;chr&gt;</th><th scope=col>&lt;chr&gt;</th></tr>\n",
       "</thead>\n",
       "<tbody>\n",
       "\t<tr><th scope=row>1</th><td>59150307</td><td>in_neighbourhood_Hastings.Sunrise</td></tr>\n",
       "\t<tr><th scope=row>2</th><td>59150308</td><td>in_neighbourhood_Hastings.Sunrise</td></tr>\n",
       "\t<tr><th scope=row>3</th><td>59150309</td><td>in_neighbourhood_Hastings.Sunrise</td></tr>\n",
       "</tbody>\n",
       "</table>\n"
      ],
      "text/latex": [
       "A data.frame: 3 × 2\n",
       "\\begin{tabular}{r|ll}\n",
       "  & GeoUID & Neighbourhood\\\\\n",
       "  & <chr> & <chr>\\\\\n",
       "\\hline\n",
       "\t1 & 59150307 & in\\_neighbourhood\\_Hastings.Sunrise\\\\\n",
       "\t2 & 59150308 & in\\_neighbourhood\\_Hastings.Sunrise\\\\\n",
       "\t3 & 59150309 & in\\_neighbourhood\\_Hastings.Sunrise\\\\\n",
       "\\end{tabular}\n"
      ],
      "text/markdown": [
       "\n",
       "A data.frame: 3 × 2\n",
       "\n",
       "| <!--/--> | GeoUID &lt;chr&gt; | Neighbourhood &lt;chr&gt; |\n",
       "|---|---|---|\n",
       "| 1 | 59150307 | in_neighbourhood_Hastings.Sunrise |\n",
       "| 2 | 59150308 | in_neighbourhood_Hastings.Sunrise |\n",
       "| 3 | 59150309 | in_neighbourhood_Hastings.Sunrise |\n",
       "\n"
      ],
      "text/plain": [
       "  GeoUID   Neighbourhood                    \n",
       "1 59150307 in_neighbourhood_Hastings.Sunrise\n",
       "2 59150308 in_neighbourhood_Hastings.Sunrise\n",
       "3 59150309 in_neighbourhood_Hastings.Sunrise"
      ]
     },
     "metadata": {},
     "output_type": "display_data"
    }
   ],
   "source": [
    "head(geouid_neighb,n=3)"
   ]
  },
  {
   "cell_type": "code",
   "execution_count": 14,
   "id": "a27627ae-fcb8-428a-956d-cb336e834845",
   "metadata": {},
   "outputs": [
    {
     "data": {
      "text/html": [
       "<table class=\"dataframe\">\n",
       "<caption>A data.frame: 6 × 2</caption>\n",
       "<thead>\n",
       "\t<tr><th scope=col>GeoUID</th><th scope=col>Neighbourhood</th></tr>\n",
       "\t<tr><th scope=col>&lt;chr&gt;</th><th scope=col>&lt;chr&gt;</th></tr>\n",
       "</thead>\n",
       "<tbody>\n",
       "\t<tr><td>59150641</td><td>in_neighbourhood_Fairview</td></tr>\n",
       "\t<tr><td>59150642</td><td>in_neighbourhood_Fairview</td></tr>\n",
       "\t<tr><td>59150643</td><td>in_neighbourhood_Fairview</td></tr>\n",
       "\t<tr><td>59150644</td><td>in_neighbourhood_Fairview</td></tr>\n",
       "\t<tr><td>59150645</td><td>in_neighbourhood_Fairview</td></tr>\n",
       "\t<tr><td>59150646</td><td>in_neighbourhood_Fairview</td></tr>\n",
       "</tbody>\n",
       "</table>\n"
      ],
      "text/latex": [
       "A data.frame: 6 × 2\n",
       "\\begin{tabular}{ll}\n",
       " GeoUID & Neighbourhood\\\\\n",
       " <chr> & <chr>\\\\\n",
       "\\hline\n",
       "\t 59150641 & in\\_neighbourhood\\_Fairview\\\\\n",
       "\t 59150642 & in\\_neighbourhood\\_Fairview\\\\\n",
       "\t 59150643 & in\\_neighbourhood\\_Fairview\\\\\n",
       "\t 59150644 & in\\_neighbourhood\\_Fairview\\\\\n",
       "\t 59150645 & in\\_neighbourhood\\_Fairview\\\\\n",
       "\t 59150646 & in\\_neighbourhood\\_Fairview\\\\\n",
       "\\end{tabular}\n"
      ],
      "text/markdown": [
       "\n",
       "A data.frame: 6 × 2\n",
       "\n",
       "| GeoUID &lt;chr&gt; | Neighbourhood &lt;chr&gt; |\n",
       "|---|---|\n",
       "| 59150641 | in_neighbourhood_Fairview |\n",
       "| 59150642 | in_neighbourhood_Fairview |\n",
       "| 59150643 | in_neighbourhood_Fairview |\n",
       "| 59150644 | in_neighbourhood_Fairview |\n",
       "| 59150645 | in_neighbourhood_Fairview |\n",
       "| 59150646 | in_neighbourhood_Fairview |\n",
       "\n"
      ],
      "text/plain": [
       "  GeoUID   Neighbourhood            \n",
       "1 59150641 in_neighbourhood_Fairview\n",
       "2 59150642 in_neighbourhood_Fairview\n",
       "3 59150643 in_neighbourhood_Fairview\n",
       "4 59150644 in_neighbourhood_Fairview\n",
       "5 59150645 in_neighbourhood_Fairview\n",
       "6 59150646 in_neighbourhood_Fairview"
      ]
     },
     "metadata": {},
     "output_type": "display_data"
    }
   ],
   "source": [
    "slice(geouid_neighb,300:305)"
   ]
  },
  {
   "cell_type": "code",
   "execution_count": 15,
   "id": "eaa52f1d-d775-4f69-a5ae-a8a8dd52dbd8",
   "metadata": {},
   "outputs": [
    {
     "data": {
      "text/html": [
       "<style>\n",
       ".list-inline {list-style: none; margin:0; padding: 0}\n",
       ".list-inline>li {display: inline-block}\n",
       ".list-inline>li:not(:last-child)::after {content: \"\\00b7\"; padding: 0 .5ex}\n",
       "</style>\n",
       "<ol class=list-inline><li>'Arbutus Ridge'</li><li>'Downtown'</li><li>'DowntownEastside'</li><li>'Dunbar-Southlands'</li><li>'Fairview'</li><li>'Grandview-Woodland'</li><li>'Hastings-Sunrise'</li><li>'Kensington-Cedar Cottage'</li><li>'Kerrisdale'</li><li>'Killarney'</li><li>'Kitsilano'</li><li>'Marpole'</li><li>'Mount Pleasant'</li><li>'Oakridge'</li><li>'Renfrew-Collingwood'</li><li>'RileyPark'</li><li>'Shaughnessy'</li><li>'South Cambie'</li><li>'Stanley Park'</li><li>'Strathcona'</li><li>'Sunset'</li><li>'Victoria-Fraserview'</li><li>'West End'</li><li>'West Point Grey'</li><li>NA</li></ol>\n"
      ],
      "text/latex": [
       "\\begin{enumerate*}\n",
       "\\item 'Arbutus Ridge'\n",
       "\\item 'Downtown'\n",
       "\\item 'DowntownEastside'\n",
       "\\item 'Dunbar-Southlands'\n",
       "\\item 'Fairview'\n",
       "\\item 'Grandview-Woodland'\n",
       "\\item 'Hastings-Sunrise'\n",
       "\\item 'Kensington-Cedar Cottage'\n",
       "\\item 'Kerrisdale'\n",
       "\\item 'Killarney'\n",
       "\\item 'Kitsilano'\n",
       "\\item 'Marpole'\n",
       "\\item 'Mount Pleasant'\n",
       "\\item 'Oakridge'\n",
       "\\item 'Renfrew-Collingwood'\n",
       "\\item 'RileyPark'\n",
       "\\item 'Shaughnessy'\n",
       "\\item 'South Cambie'\n",
       "\\item 'Stanley Park'\n",
       "\\item 'Strathcona'\n",
       "\\item 'Sunset'\n",
       "\\item 'Victoria-Fraserview'\n",
       "\\item 'West End'\n",
       "\\item 'West Point Grey'\n",
       "\\item NA\n",
       "\\end{enumerate*}\n"
      ],
      "text/markdown": [
       "1. 'Arbutus Ridge'\n",
       "2. 'Downtown'\n",
       "3. 'DowntownEastside'\n",
       "4. 'Dunbar-Southlands'\n",
       "5. 'Fairview'\n",
       "6. 'Grandview-Woodland'\n",
       "7. 'Hastings-Sunrise'\n",
       "8. 'Kensington-Cedar Cottage'\n",
       "9. 'Kerrisdale'\n",
       "10. 'Killarney'\n",
       "11. 'Kitsilano'\n",
       "12. 'Marpole'\n",
       "13. 'Mount Pleasant'\n",
       "14. 'Oakridge'\n",
       "15. 'Renfrew-Collingwood'\n",
       "16. 'RileyPark'\n",
       "17. 'Shaughnessy'\n",
       "18. 'South Cambie'\n",
       "19. 'Stanley Park'\n",
       "20. 'Strathcona'\n",
       "21. 'Sunset'\n",
       "22. 'Victoria-Fraserview'\n",
       "23. 'West End'\n",
       "24. 'West Point Grey'\n",
       "25. NA\n",
       "\n",
       "\n"
      ],
      "text/plain": [
       " [1] \"Arbutus Ridge\"            \"Downtown\"                \n",
       " [3] \"DowntownEastside\"         \"Dunbar-Southlands\"       \n",
       " [5] \"Fairview\"                 \"Grandview-Woodland\"      \n",
       " [7] \"Hastings-Sunrise\"         \"Kensington-Cedar Cottage\"\n",
       " [9] \"Kerrisdale\"               \"Killarney\"               \n",
       "[11] \"Kitsilano\"                \"Marpole\"                 \n",
       "[13] \"Mount Pleasant\"           \"Oakridge\"                \n",
       "[15] \"Renfrew-Collingwood\"      \"RileyPark\"               \n",
       "[17] \"Shaughnessy\"              \"South Cambie\"            \n",
       "[19] \"Stanley Park\"             \"Strathcona\"              \n",
       "[21] \"Sunset\"                   \"Victoria-Fraserview\"     \n",
       "[23] \"West End\"                 \"West Point Grey\"         \n",
       "[25] NA                        "
      ]
     },
     "metadata": {},
     "output_type": "display_data"
    }
   ],
   "source": [
    "art_prop$Neighbourhood"
   ]
  },
  {
   "cell_type": "code",
   "execution_count": 16,
   "id": "ff8091c3-e5bc-43c9-85c7-f7df41414afb",
   "metadata": {},
   "outputs": [],
   "source": [
    "geouid_neighb <- geouid_neighb %>%\n",
    "  mutate(Neighbourhood = Neighbourhood %>%\n",
    "           gsub('in_neighbourhood_Arbutus.Ridge', 'Arbutus Ridge', .) %>%\n",
    "           gsub('in_neighbourhood_Downtown', 'Downtown', .) %>%\n",
    "           gsub('in_neighbourhood_Dunbar.Southlands', 'Dunbar-Southlands', .) %>%\n",
    "           gsub('in_neighbourhood_Fairview', 'Fairview', .) %>%\n",
    "           gsub('in_neighbourhood_Grandview.Woodland', 'Grandview-Woodland', .) %>%\n",
    "           gsub('in_neighbourhood_Hastings.Sunrise', 'Hastings-Sunrise', .) %>%\n",
    "           gsub('in_neighbourhood_Kensington.Cedar.Cottage', 'Kensington-Cedar Cottage', .) %>%\n",
    "           gsub('in_neighbourhood_Kerrisdale', 'Kerrisdale', .) %>%\n",
    "           gsub('in_neighbourhood_Killarney', 'Killarney', .) %>%\n",
    "           gsub('in_neighbourhood_Kitsilano', 'Kitsilano', .) %>%\n",
    "           gsub('in_neighbourhood_Marpole', 'Marpole', .) %>%\n",
    "           gsub('in_neighbourhood_Mount.Pleasant', 'Mount Pleasant', .) %>%\n",
    "           gsub('in_neighbourhood_Oakridge', 'Oakridge', .) %>%\n",
    "           gsub('in_neighbourhood_Renfrew.Collingwood', 'Renfrew-Collingwood', .) %>%\n",
    "           gsub('in_neighbourhood_Riley.Park', 'RileyPark', .) %>%\n",
    "           gsub('in_neighbourhood_Shaughnessy', 'Shaughnessy', .) %>%\n",
    "           gsub('in_neighbourhood_South.Cambie', 'South Cambie', .) %>%\n",
    "           # gsub('in_neighbourhood_Grandview.Woodland', 'Stanley Park', .) %>%\n",
    "           gsub('in_neighbourhood_Strathcona', 'Strathcona', .) %>%\n",
    "           gsub('in_neighbourhood_Sunset', 'Sunset', .) %>%\n",
    "           gsub('in_neighbourhood_Victoria-Fraserview', 'Victoria-Fraserview', .) %>%\n",
    "           gsub('in_neighbourhood_West.End', 'West End', .) %>%\n",
    "           gsub('in_neighbourhood_West.Point.Grey', 'West Point Grey', .))"
   ]
  },
  {
   "cell_type": "code",
   "execution_count": 17,
   "id": "095d6f78-3dbe-4d68-9a4c-01ccdf7a2eb9",
   "metadata": {},
   "outputs": [
    {
     "data": {
      "text/html": [
       "<table class=\"dataframe\">\n",
       "<caption>A data.frame: 3 × 2</caption>\n",
       "<thead>\n",
       "\t<tr><th></th><th scope=col>GeoUID</th><th scope=col>Neighbourhood</th></tr>\n",
       "\t<tr><th></th><th scope=col>&lt;chr&gt;</th><th scope=col>&lt;chr&gt;</th></tr>\n",
       "</thead>\n",
       "<tbody>\n",
       "\t<tr><th scope=row>1</th><td>59150307</td><td>Hastings-Sunrise</td></tr>\n",
       "\t<tr><th scope=row>2</th><td>59150308</td><td>Hastings-Sunrise</td></tr>\n",
       "\t<tr><th scope=row>3</th><td>59150309</td><td>Hastings-Sunrise</td></tr>\n",
       "</tbody>\n",
       "</table>\n"
      ],
      "text/latex": [
       "A data.frame: 3 × 2\n",
       "\\begin{tabular}{r|ll}\n",
       "  & GeoUID & Neighbourhood\\\\\n",
       "  & <chr> & <chr>\\\\\n",
       "\\hline\n",
       "\t1 & 59150307 & Hastings-Sunrise\\\\\n",
       "\t2 & 59150308 & Hastings-Sunrise\\\\\n",
       "\t3 & 59150309 & Hastings-Sunrise\\\\\n",
       "\\end{tabular}\n"
      ],
      "text/markdown": [
       "\n",
       "A data.frame: 3 × 2\n",
       "\n",
       "| <!--/--> | GeoUID &lt;chr&gt; | Neighbourhood &lt;chr&gt; |\n",
       "|---|---|---|\n",
       "| 1 | 59150307 | Hastings-Sunrise |\n",
       "| 2 | 59150308 | Hastings-Sunrise |\n",
       "| 3 | 59150309 | Hastings-Sunrise |\n",
       "\n"
      ],
      "text/plain": [
       "  GeoUID   Neighbourhood   \n",
       "1 59150307 Hastings-Sunrise\n",
       "2 59150308 Hastings-Sunrise\n",
       "3 59150309 Hastings-Sunrise"
      ]
     },
     "metadata": {},
     "output_type": "display_data"
    },
    {
     "data": {
      "text/html": [
       "<table class=\"dataframe\">\n",
       "<caption>A data.frame: 4 × 2</caption>\n",
       "<thead>\n",
       "\t<tr><th scope=col>GeoUID</th><th scope=col>Neighbourhood</th></tr>\n",
       "\t<tr><th scope=col>&lt;chr&gt;</th><th scope=col>&lt;chr&gt;</th></tr>\n",
       "</thead>\n",
       "<tbody>\n",
       "\t<tr><td>59150641</td><td>Fairview</td></tr>\n",
       "\t<tr><td>59150642</td><td>Fairview</td></tr>\n",
       "\t<tr><td>59150643</td><td>Fairview</td></tr>\n",
       "\t<tr><td>59150644</td><td>Fairview</td></tr>\n",
       "</tbody>\n",
       "</table>\n"
      ],
      "text/latex": [
       "A data.frame: 4 × 2\n",
       "\\begin{tabular}{ll}\n",
       " GeoUID & Neighbourhood\\\\\n",
       " <chr> & <chr>\\\\\n",
       "\\hline\n",
       "\t 59150641 & Fairview\\\\\n",
       "\t 59150642 & Fairview\\\\\n",
       "\t 59150643 & Fairview\\\\\n",
       "\t 59150644 & Fairview\\\\\n",
       "\\end{tabular}\n"
      ],
      "text/markdown": [
       "\n",
       "A data.frame: 4 × 2\n",
       "\n",
       "| GeoUID &lt;chr&gt; | Neighbourhood &lt;chr&gt; |\n",
       "|---|---|\n",
       "| 59150641 | Fairview |\n",
       "| 59150642 | Fairview |\n",
       "| 59150643 | Fairview |\n",
       "| 59150644 | Fairview |\n",
       "\n"
      ],
      "text/plain": [
       "  GeoUID   Neighbourhood\n",
       "1 59150641 Fairview     \n",
       "2 59150642 Fairview     \n",
       "3 59150643 Fairview     \n",
       "4 59150644 Fairview     "
      ]
     },
     "metadata": {},
     "output_type": "display_data"
    }
   ],
   "source": [
    "# check the modification\n",
    "head(geouid_neighb,n=3)\n",
    "\n",
    "slice(geouid_neighb,300:303)"
   ]
  },
  {
   "cell_type": "code",
   "execution_count": 20,
   "id": "06e4ad82-e516-4825-8dee-0ef1d679284e",
   "metadata": {
    "scrolled": true
   },
   "outputs": [
    {
     "data": {
      "text/html": [
       "<table class=\"dataframe\">\n",
       "<caption>A data.frame: 6 × 5</caption>\n",
       "<thead>\n",
       "\t<tr><th></th><th scope=col>GeoUID</th><th scope=col>population_density</th><th scope=col>median_income</th><th scope=col>gini_income</th><th scope=col>certificate_density</th></tr>\n",
       "\t<tr><th></th><th scope=col>&lt;fct&gt;</th><th scope=col>&lt;dbl&gt;</th><th scope=col>&lt;dbl&gt;</th><th scope=col>&lt;dbl&gt;</th><th scope=col>&lt;dbl&gt;</th></tr>\n",
       "</thead>\n",
       "<tbody>\n",
       "\t<tr><th scope=row>1</th><td>59150004</td><td> 425.0</td><td>105000</td><td>0.448</td><td>0.8563536</td></tr>\n",
       "\t<tr><th scope=row>2</th><td>59150005</td><td>3168.7</td><td>122000</td><td>0.362</td><td>0.7319392</td></tr>\n",
       "\t<tr><th scope=row>3</th><td>59150006</td><td>2899.3</td><td>103000</td><td>0.440</td><td>0.8738938</td></tr>\n",
       "\t<tr><th scope=row>4</th><td>59150007</td><td> 755.8</td><td>164000</td><td>0.478</td><td>0.8165138</td></tr>\n",
       "\t<tr><th scope=row>5</th><td>59150008</td><td> 903.0</td><td>198000</td><td>0.684</td><td>0.8053691</td></tr>\n",
       "\t<tr><th scope=row>6</th><td>59150009</td><td> 689.6</td><td>168000</td><td>0.550</td><td>0.8396947</td></tr>\n",
       "</tbody>\n",
       "</table>\n"
      ],
      "text/latex": [
       "A data.frame: 6 × 5\n",
       "\\begin{tabular}{r|lllll}\n",
       "  & GeoUID & population\\_density & median\\_income & gini\\_income & certificate\\_density\\\\\n",
       "  & <fct> & <dbl> & <dbl> & <dbl> & <dbl>\\\\\n",
       "\\hline\n",
       "\t1 & 59150004 &  425.0 & 105000 & 0.448 & 0.8563536\\\\\n",
       "\t2 & 59150005 & 3168.7 & 122000 & 0.362 & 0.7319392\\\\\n",
       "\t3 & 59150006 & 2899.3 & 103000 & 0.440 & 0.8738938\\\\\n",
       "\t4 & 59150007 &  755.8 & 164000 & 0.478 & 0.8165138\\\\\n",
       "\t5 & 59150008 &  903.0 & 198000 & 0.684 & 0.8053691\\\\\n",
       "\t6 & 59150009 &  689.6 & 168000 & 0.550 & 0.8396947\\\\\n",
       "\\end{tabular}\n"
      ],
      "text/markdown": [
       "\n",
       "A data.frame: 6 × 5\n",
       "\n",
       "| <!--/--> | GeoUID &lt;fct&gt; | population_density &lt;dbl&gt; | median_income &lt;dbl&gt; | gini_income &lt;dbl&gt; | certificate_density &lt;dbl&gt; |\n",
       "|---|---|---|---|---|---|\n",
       "| 1 | 59150004 |  425.0 | 105000 | 0.448 | 0.8563536 |\n",
       "| 2 | 59150005 | 3168.7 | 122000 | 0.362 | 0.7319392 |\n",
       "| 3 | 59150006 | 2899.3 | 103000 | 0.440 | 0.8738938 |\n",
       "| 4 | 59150007 |  755.8 | 164000 | 0.478 | 0.8165138 |\n",
       "| 5 | 59150008 |  903.0 | 198000 | 0.684 | 0.8053691 |\n",
       "| 6 | 59150009 |  689.6 | 168000 | 0.550 | 0.8396947 |\n",
       "\n"
      ],
      "text/plain": [
       "  GeoUID   population_density median_income gini_income certificate_density\n",
       "1 59150004  425.0             105000        0.448       0.8563536          \n",
       "2 59150005 3168.7             122000        0.362       0.7319392          \n",
       "3 59150006 2899.3             103000        0.440       0.8738938          \n",
       "4 59150007  755.8             164000        0.478       0.8165138          \n",
       "5 59150008  903.0             198000        0.684       0.8053691          \n",
       "6 59150009  689.6             168000        0.550       0.8396947          "
      ]
     },
     "metadata": {},
     "output_type": "display_data"
    }
   ],
   "source": [
    "subset_data <- census_data_art %>% select(\"Region.Name\",\n",
    "                                          \"Population\",\n",
    "                                          \"v_CA21_6..Population.density.per.square.kilometre\",\n",
    "                                         \"v_CA21_906..Median.total.income.of.household.in.2020....\",\n",
    "                                         \"v_CA21_1140..Gini.index.on.adjusted.household.total.income\",\n",
    "                                         \"v_CA21_5817..Total...Highest.certificate..diploma.or.degree.for.the.population.aged.15.years.and.over.in.private.households\",\n",
    "                                          ) |>\n",
    "    rename(population_density = v_CA21_6..Population.density.per.square.kilometre,\n",
    "           median_income = v_CA21_906..Median.total.income.of.household.in.2020....,\n",
    "           gini_income = v_CA21_1140..Gini.index.on.adjusted.household.total.income,\n",
    "           highest_certificate = v_CA21_5817..Total...Highest.certificate..diploma.or.degree.for.the.population.aged.15.years.and.over.in.private.households,\n",
    "           GeoUID = Region.Name\n",
    "          ) |>\n",
    "    mutate(certificate_density = highest_certificate/Population,\n",
    "          ) |>\n",
    "    select(-highest_certificate, -Population)\n",
    "\n",
    "head(subset_data)"
   ]
  },
  {
   "cell_type": "code",
   "execution_count": 23,
   "id": "ee783daf-6d1a-46bb-8f9f-97553cba679f",
   "metadata": {},
   "outputs": [],
   "source": [
    "subset_data_neighb <- geouid_neighb %>%\n",
    "  left_join(subset_data, by = \"GeoUID\")"
   ]
  },
  {
   "cell_type": "code",
   "execution_count": 25,
   "id": "15677279-156c-43d2-ab6f-a7e2a88676a6",
   "metadata": {},
   "outputs": [
    {
     "data": {
      "text/html": [
       "<table class=\"dataframe\">\n",
       "<caption>A data.frame: 3 × 6</caption>\n",
       "<thead>\n",
       "\t<tr><th></th><th scope=col>GeoUID</th><th scope=col>Neighbourhood</th><th scope=col>population_density</th><th scope=col>median_income</th><th scope=col>gini_income</th><th scope=col>certificate_density</th></tr>\n",
       "\t<tr><th></th><th scope=col>&lt;chr&gt;</th><th scope=col>&lt;chr&gt;</th><th scope=col>&lt;dbl&gt;</th><th scope=col>&lt;dbl&gt;</th><th scope=col>&lt;dbl&gt;</th><th scope=col>&lt;dbl&gt;</th></tr>\n",
       "</thead>\n",
       "<tbody>\n",
       "\t<tr><th scope=row>1</th><td>59150307</td><td>Hastings-Sunrise</td><td>2263.5</td><td>114000</td><td>0.351</td><td>0.8714919</td></tr>\n",
       "\t<tr><th scope=row>2</th><td>59150308</td><td>Hastings-Sunrise</td><td>4936.1</td><td>114000</td><td>0.364</td><td>0.8687616</td></tr>\n",
       "\t<tr><th scope=row>3</th><td>59150309</td><td>Hastings-Sunrise</td><td>6800.7</td><td> 94000</td><td>0.309</td><td>0.7161629</td></tr>\n",
       "</tbody>\n",
       "</table>\n"
      ],
      "text/latex": [
       "A data.frame: 3 × 6\n",
       "\\begin{tabular}{r|llllll}\n",
       "  & GeoUID & Neighbourhood & population\\_density & median\\_income & gini\\_income & certificate\\_density\\\\\n",
       "  & <chr> & <chr> & <dbl> & <dbl> & <dbl> & <dbl>\\\\\n",
       "\\hline\n",
       "\t1 & 59150307 & Hastings-Sunrise & 2263.5 & 114000 & 0.351 & 0.8714919\\\\\n",
       "\t2 & 59150308 & Hastings-Sunrise & 4936.1 & 114000 & 0.364 & 0.8687616\\\\\n",
       "\t3 & 59150309 & Hastings-Sunrise & 6800.7 &  94000 & 0.309 & 0.7161629\\\\\n",
       "\\end{tabular}\n"
      ],
      "text/markdown": [
       "\n",
       "A data.frame: 3 × 6\n",
       "\n",
       "| <!--/--> | GeoUID &lt;chr&gt; | Neighbourhood &lt;chr&gt; | population_density &lt;dbl&gt; | median_income &lt;dbl&gt; | gini_income &lt;dbl&gt; | certificate_density &lt;dbl&gt; |\n",
       "|---|---|---|---|---|---|---|\n",
       "| 1 | 59150307 | Hastings-Sunrise | 2263.5 | 114000 | 0.351 | 0.8714919 |\n",
       "| 2 | 59150308 | Hastings-Sunrise | 4936.1 | 114000 | 0.364 | 0.8687616 |\n",
       "| 3 | 59150309 | Hastings-Sunrise | 6800.7 |  94000 | 0.309 | 0.7161629 |\n",
       "\n"
      ],
      "text/plain": [
       "  GeoUID   Neighbourhood    population_density median_income gini_income\n",
       "1 59150307 Hastings-Sunrise 2263.5             114000        0.351      \n",
       "2 59150308 Hastings-Sunrise 4936.1             114000        0.364      \n",
       "3 59150309 Hastings-Sunrise 6800.7              94000        0.309      \n",
       "  certificate_density\n",
       "1 0.8714919          \n",
       "2 0.8687616          \n",
       "3 0.7161629          "
      ]
     },
     "metadata": {},
     "output_type": "display_data"
    }
   ],
   "source": [
    "head(subset_data_neighb,n=3)"
   ]
  },
  {
   "cell_type": "code",
   "execution_count": 38,
   "id": "20d0c044-b89a-46b4-9437-e72d634fae40",
   "metadata": {},
   "outputs": [
    {
     "data": {
      "text/html": [
       "<table class=\"dataframe\">\n",
       "<caption>A tibble: 3 × 5</caption>\n",
       "<thead>\n",
       "\t<tr><th scope=col>Neighbourhood</th><th scope=col>mean_population_density</th><th scope=col>mean_gini_income</th><th scope=col>mean_certificate_density</th><th scope=col>art_prop</th></tr>\n",
       "\t<tr><th scope=col>&lt;chr&gt;</th><th scope=col>&lt;dbl&gt;</th><th scope=col>&lt;dbl&gt;</th><th scope=col>&lt;dbl&gt;</th><th scope=col>&lt;dbl&gt;</th></tr>\n",
       "</thead>\n",
       "<tbody>\n",
       "\t<tr><td>Arbutus Ridge    </td><td> 5360.252</td><td>0.4804000</td><td>0.8693448</td><td>0.002877698</td></tr>\n",
       "\t<tr><td>Downtown         </td><td>31467.572</td><td>0.4448200</td><td>0.8726615</td><td>0.305035971</td></tr>\n",
       "\t<tr><td>Dunbar-Southlands</td><td> 3407.489</td><td>0.4796667</td><td>0.8536720</td><td>0.002877698</td></tr>\n",
       "</tbody>\n",
       "</table>\n"
      ],
      "text/latex": [
       "A tibble: 3 × 5\n",
       "\\begin{tabular}{lllll}\n",
       " Neighbourhood & mean\\_population\\_density & mean\\_gini\\_income & mean\\_certificate\\_density & art\\_prop\\\\\n",
       " <chr> & <dbl> & <dbl> & <dbl> & <dbl>\\\\\n",
       "\\hline\n",
       "\t Arbutus Ridge     &  5360.252 & 0.4804000 & 0.8693448 & 0.002877698\\\\\n",
       "\t Downtown          & 31467.572 & 0.4448200 & 0.8726615 & 0.305035971\\\\\n",
       "\t Dunbar-Southlands &  3407.489 & 0.4796667 & 0.8536720 & 0.002877698\\\\\n",
       "\\end{tabular}\n"
      ],
      "text/markdown": [
       "\n",
       "A tibble: 3 × 5\n",
       "\n",
       "| Neighbourhood &lt;chr&gt; | mean_population_density &lt;dbl&gt; | mean_gini_income &lt;dbl&gt; | mean_certificate_density &lt;dbl&gt; | art_prop &lt;dbl&gt; |\n",
       "|---|---|---|---|---|\n",
       "| Arbutus Ridge     |  5360.252 | 0.4804000 | 0.8693448 | 0.002877698 |\n",
       "| Downtown          | 31467.572 | 0.4448200 | 0.8726615 | 0.305035971 |\n",
       "| Dunbar-Southlands |  3407.489 | 0.4796667 | 0.8536720 | 0.002877698 |\n",
       "\n"
      ],
      "text/plain": [
       "  Neighbourhood     mean_population_density mean_gini_income\n",
       "1 Arbutus Ridge      5360.252               0.4804000       \n",
       "2 Downtown          31467.572               0.4448200       \n",
       "3 Dunbar-Southlands  3407.489               0.4796667       \n",
       "  mean_certificate_density art_prop   \n",
       "1 0.8693448                0.002877698\n",
       "2 0.8726615                0.305035971\n",
       "3 0.8536720                0.002877698"
      ]
     },
     "metadata": {},
     "output_type": "display_data"
    }
   ],
   "source": [
    "clean_data <- subset_data_neighb %>%\n",
    "  left_join(art_prop, by = \"Neighbourhood\") %>%\n",
    "  select(-GeoUID) %>%\n",
    "  group_by(Neighbourhood) %>%\n",
    "  summarize(\n",
    "    mean_population_density = mean(population_density, na.rm = TRUE),\n",
    "    mean_gini_income = mean(gini_income, na.rm = TRUE),\n",
    "    mean_certificate_density = mean(certificate_density, na.rm = TRUE),\n",
    "    art_prop = mean(art_prop, na.rm = TRUE)   # same value for the same neighborhood\n",
    "  )\n",
    "\n",
    "head(clean_data,n=3)"
   ]
  },
  {
   "cell_type": "markdown",
   "id": "bd3dae95-238d-4596-a393-36db40ff626d",
   "metadata": {},
   "source": [
    "## - Summary Statistics"
   ]
  },
  {
   "cell_type": "code",
   "execution_count": null,
   "id": "3e8d2662-0ec6-4a61-bbaa-19bd0a666547",
   "metadata": {},
   "outputs": [],
   "source": [
    "new_rows <- data.frame(\n",
    "    variable = c(\"population_density\", \"median_income\", \"gini_income\", \"certificate_density\"),\n",
    "    mean = c(mean(subset_data$population_density, na.rm = TRUE), mean(subset_data$median_income, na.rm = TRUE), mean(subset_data$gini_income, na.rm = TRUE), mean(subset_data$certificate_density, na.rm = TRUE)),\n",
    "    max = c(max(subset_data$population_density, na.rm = TRUE), max(subset_data$median_income, na.rm = TRUE), max(subset_data$gini_income, na.rm = TRUE), max(subset_data$certificate_density, na.rm = TRUE)),\n",
    "    sd = c(sd(subset_data$population_density, na.rm = TRUE), sd(subset_data$median_income, na.rm = TRUE), sd(subset_data$gini_income, na.rm = TRUE), sd(subset_data$certificate_density, na.rm = TRUE))\n",
    ")\n",
    "\n",
    "summary_stats <- summary_stats_Y |>\n",
    "    rbind(new_rows)\n",
    "\n",
    "summary_stats |>\n",
    "   mutate_if(is.numeric, round, 4)"
   ]
  },
  {
   "cell_type": "markdown",
   "id": "0de9b690-61d9-4594-9a03-1d60c1ba0065",
   "metadata": {},
   "source": [
    "Here is the table of the key variables we will use in your analysis."
   ]
  },
  {
   "cell_type": "markdown",
   "id": "43430665-39b9-4e65-bacc-0e0e15cdacdd",
   "metadata": {},
   "source": [
    "## Model"
   ]
  },
  {
   "cell_type": "code",
   "execution_count": null,
   "id": "61b8c745-01c0-4168-ac93-62281b4656c3",
   "metadata": {},
   "outputs": [],
   "source": []
  },
  {
   "cell_type": "markdown",
   "id": "df6b62d5-6316-47a1-b64d-d813b723b46c",
   "metadata": {},
   "source": [
    "## - Table of Results"
   ]
  },
  {
   "cell_type": "markdown",
   "id": "a2742ea7-4ca7-4fc0-8795-86c3fe115a08",
   "metadata": {},
   "source": [
    "## Discussion"
   ]
  },
  {
   "cell_type": "markdown",
   "id": "3a1e2935-75ef-44a2-a6b9-f6a1d75afcfb",
   "metadata": {},
   "source": [
    "## Conclusion\n"
   ]
  },
  {
   "cell_type": "markdown",
   "id": "65fcc2d0-ea15-4138-9df6-4ded350ea3f1",
   "metadata": {},
   "source": [
    "## References"
   ]
  },
  {
   "cell_type": "code",
   "execution_count": null,
   "id": "e6abc740-9cca-42ac-a1c2-a602622f04d8",
   "metadata": {},
   "outputs": [],
   "source": []
  }
 ],
 "metadata": {
  "kernelspec": {
   "display_name": "R",
   "language": "R",
   "name": "ir"
  },
  "language_info": {
   "codemirror_mode": "r",
   "file_extension": ".r",
   "mimetype": "text/x-r-source",
   "name": "R",
   "pygments_lexer": "r",
   "version": "4.3.3"
  }
 },
 "nbformat": 4,
 "nbformat_minor": 5
}
