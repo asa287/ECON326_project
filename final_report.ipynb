{
 "cells": [
  {
   "cell_type": "markdown",
   "id": "876d7d95-f1ce-4017-9f49-65f4daa22caf",
   "metadata": {},
   "source": [
    "# Individual Socioeconomic Status and the Placement of Public Art Installations within Vancouver"
   ]
  },
  {
   "cell_type": "code",
   "execution_count": 44,
   "id": "ca33f4ae-b9d5-4126-ab99-1c8af51066f4",
   "metadata": {},
   "outputs": [],
   "source": [
    "# load library\n",
    "library(\"tidyr\")\n",
    "library(\"dplyr\")\n",
    "library(tidyverse)\n",
    "library(\"broom\")"
   ]
  },
  {
   "cell_type": "markdown",
   "id": "9de81842-0bc0-4f85-895b-896b3786c50b",
   "metadata": {},
   "source": [
    "## outline\n",
    "- Introduction\n",
    "- Data Description\n",
    "    - Summary Statistics\n",
    "- Model\n",
    "    - Table of Results\n",
    "- Discussion\n",
    "- Conclusion\n",
    "- References"
   ]
  },
  {
   "cell_type": "markdown",
   "id": "881812e2-1fd3-4267-b4b1-47bd15d94ddc",
   "metadata": {},
   "source": [
    "## Introduction"
   ]
  },
  {
   "cell_type": "markdown",
   "id": "da49151a-62cd-4a16-bd08-96053bb26733",
   "metadata": {},
   "source": [
    "**EDIT HERE!!!!**\n",
    "\n",
    "Introduction: the introduction is the most important part of your paper. A good\n",
    "introduction should do the following:\n",
    "– Provide motivation for the paper: why should I care about this paper?\n",
    "– Clearly and explicitly state the research question for the paper. What is this paper\n",
    "going to find out?\n",
    "– Provide key background: what do we know about the answer already?\n",
    "– Give an overview of your results and what your paper will find: what did you learn?"
   ]
  },
  {
   "cell_type": "markdown",
   "id": "5105fdf5-d5ec-47c9-a43f-9715a9c507d6",
   "metadata": {},
   "source": [
    "## Data Description"
   ]
  },
  {
   "cell_type": "markdown",
   "id": "17abeea9-737a-4423-b8d8-36fae9eae151",
   "metadata": {},
   "source": [
    "Data Description: in the data description, you should focus on the following elements:\n",
    "- What is the source of the data?\n",
    "- How is the data structured? Are there any important features we need to under-\n",
    "stand?\n",
    "- What are the important variables? Why are they important?\n",
    "- How are the variables structured? Are there any necessary transformations needed?\n",
    "- What is your analysis sample? Why or how was it constructed."
   ]
  },
  {
   "cell_type": "markdown",
   "id": "bbd7b082-fc9f-4ea5-98a6-c6fa6d269d75",
   "metadata": {},
   "source": [
    "To conduct the analysis, we will use two primary datasets. \n",
    "\n",
    "The first one is the 2021 Canadian Census, including many variables at the Census Dissemination Area (DA) level, as the source of data on the socioeconomic status of different neighborhoods in Vancouver. Another dataset is a public art dataset that includes the titles, types, status, and locations of art installations in Vancouver. We will study our research topic by combining the information from these two datasets. \n",
    "\n",
    "For the measures of socioeconomic status, we will focus on the income and education level of people in different neighborhoods in Vancouver. For income variables, we will use the income Gini index, also the median income. To measure educational attainment, we will use the education level. In addition to education and income, we will include the population density variable in our model as a control to test whether the other variables affect the placement of public art in Vancouver."
   ]
  },
  {
   "cell_type": "code",
   "execution_count": 57,
   "id": "b234eb87-5dbd-4d26-ad35-f3fef4610777",
   "metadata": {
    "scrolled": true
   },
   "outputs": [
    {
     "name": "stderr",
     "output_type": "stream",
     "text": [
      "\u001b[36mℹ\u001b[39m Using \u001b[34m\u001b[34m\"','\"\u001b[34m\u001b[39m as decimal and \u001b[34m\u001b[34m\"'.'\"\u001b[34m\u001b[39m as grouping mark. Use `read_delim()` for more control.\n",
      "\n",
      "\u001b[1mRows: \u001b[22m\u001b[34m695\u001b[39m \u001b[1mColumns: \u001b[22m\u001b[34m20\u001b[39m\n",
      "\u001b[36m──\u001b[39m \u001b[1mColumn specification\u001b[22m \u001b[36m────────────────────────────────────────────────────────\u001b[39m\n",
      "\u001b[1mDelimiter:\u001b[22m \";\"\n",
      "\u001b[31mchr\u001b[39m (18): Title of Work, ArtistProjectStatement, Type, Status, SiteName, Sit...\n",
      "\u001b[32mdbl\u001b[39m  (2): RegistryID, YearOfInstallation\n",
      "\n",
      "\u001b[36mℹ\u001b[39m Use `spec()` to retrieve the full column specification for this data.\n",
      "\u001b[36mℹ\u001b[39m Specify the column types or set `show_col_types = FALSE` to quiet this message.\n"
     ]
    },
    {
     "data": {
      "text/html": [
       "<table class=\"dataframe\">\n",
       "<caption>A tibble: 6 × 20</caption>\n",
       "<thead>\n",
       "\t<tr><th scope=col>RegistryID</th><th scope=col>Title of Work</th><th scope=col>ArtistProjectStatement</th><th scope=col>Type</th><th scope=col>Status</th><th scope=col>SiteName</th><th scope=col>SiteAddress</th><th scope=col>PrimaryMaterial</th><th scope=col>URL</th><th scope=col>PhotoURL</th><th scope=col>Ownership</th><th scope=col>Neighbourhood</th><th scope=col>LocationOnsite</th><th scope=col>Geom</th><th scope=col>Geo Local Area</th><th scope=col>DescriptionOfwork</th><th scope=col>Artists</th><th scope=col>PhotoCredits</th><th scope=col>YearOfInstallation</th><th scope=col>geo_point_2d</th></tr>\n",
       "\t<tr><th scope=col>&lt;dbl&gt;</th><th scope=col>&lt;chr&gt;</th><th scope=col>&lt;chr&gt;</th><th scope=col>&lt;chr&gt;</th><th scope=col>&lt;chr&gt;</th><th scope=col>&lt;chr&gt;</th><th scope=col>&lt;chr&gt;</th><th scope=col>&lt;chr&gt;</th><th scope=col>&lt;chr&gt;</th><th scope=col>&lt;chr&gt;</th><th scope=col>&lt;chr&gt;</th><th scope=col>&lt;chr&gt;</th><th scope=col>&lt;chr&gt;</th><th scope=col>&lt;chr&gt;</th><th scope=col>&lt;chr&gt;</th><th scope=col>&lt;chr&gt;</th><th scope=col>&lt;chr&gt;</th><th scope=col>&lt;chr&gt;</th><th scope=col>&lt;dbl&gt;</th><th scope=col>&lt;chr&gt;</th></tr>\n",
       "</thead>\n",
       "<tbody>\n",
       "\t<tr><td> 1</td><td>Captain George Vancouver</td><td>A new city hall and a statue of Captain George Vancouver were commissioned to commemorate Vancouver's Golden Jubilee in 1936. The architect of the new City Hall at Strathcona Park on West 12th Avenue, Fred Townley, proposed the sculpture, commissioned by the Vancouver Canadian Club, be placed on the plaza on the north side of the building. Noted BC sculptor, Charles Marega, was commissioned (for about $5500) to create a life-size sculpture of the man who mapped the harbour in 1792 and after whom the city is named. \r\n",
       "Marega began by setting up 500 pounds of clay on a turntable in his Hornby Street Studio. From the clay model, he made a plaster cast which was then used to cast the finished work in \"Roman bronze\". It was cast at Ornamental Bronze, a foundry in Vancouver. The work was installed on August 20, 1936.The bronze figure standing atop the granite plinth is said to bear little physical resemblance to Captain George. The sculpture was copied from a maquette, which had been fashioned after a painting that was in turn, a copy from an original painting.\r\n",
       "An interesting conversation is recorded between Major Matthews, the City Archivist, and Townley. \r\n",
       "Matthews: \"Mr. Townley, the \"Sun\" newspaper wants to know how much the Vancouver statue cost and who paid for it.\"\r\n",
       "Townley: \"What do they want to bring that up for? Leave sleeping dogs lie. I've been afraid that matter would come up, but it has not...why bring it up now? It was all in the contract; everything was above board; there's nothing to hide; but if it gets out what it cost, then some fool will start writing to the newspapers, or something, and complain of the waste of money; say it ought to have been given towards the support of some fool scheme of his own, the \"home for incurable dogs\", or some other idiotic thing\".\r\n",
       "Matthews: \"Alright; drop it, I don't want to know; the \"Sun\" is publishing a story on the statue, and I suppose they want to put the cost in.\"\r\n",
       "Townley: \"Well, Charles Marega made it, and baby bonds paid for it...I don't know exactly what it cost; it would be hard to find out; part of it was in the stone work cost. Marega for $5000, and then there was the base; so much per square foot for the base, perhaps $500 for that...\"\r\n",
       "The statue was cleaned in 2001, 65 years after its installation and in time for the city's 115th birthday. The bill for cost of cleaning was $5800, almost the same amount as the original statue cost. This sculpture is on the City of Vancouver's Heritage Inventory list and, as a proud homage to a great explorer, has stood the test of time.</td><td>Figurative          </td><td>In place          </td><td>Vancouver City Hall  </td><td>453 West 12th Avenue         </td><td>bronze                </td><td>https://covapp.vancouver.ca/PublicArtRegistry/ArtworkDetail.aspx?ArtworkId=1 </td><td>https://opendata.vancouver.ca/api/explore/v2.1/catalog/datasets/public-art/files/6dfd36260587f27540709ca506c4e81c</td><td>City of Vancouver</td><td>Mount Pleasant</td><td>North entrance, exterior, in front of stairs                                                           </td><td>{\"coordinates\": [-123.113918, 49.261185], \"type\": \"Point\"}</td><td>Mount Pleasant</td><td>A full figure bronze statue of Captain George Vancouver stands on the north side of City Hall, pointing towards Vancouver harbour and holding a partially open scroll in his left hand. The figure commemorates the events of 1792, when Captain George, a representative of King George III of England, sailed into Burrard Inlet and charted the area.                                                                                                                                                                               </td><td>98 </td><td>Barbara Cole          </td><td>1936</td><td>49.261185, -123.113918</td></tr>\n",
       "\t<tr><td> 8</td><td><span style=white-space:pre-wrap>Charles Bentall         </span></td><td><span style=white-space:pre-wrap>NA                                                                                                                                                                                                                                                                                                                                                                                                                                                                                                                                                                                                                                                                                                                                                                                                                                                                                                                                                                                                                                                                                                                                                                                                                                                                                                                                                                                                                                                                                                                                                                                                                                                                                                                                                                                                                                                                                                                                                                                                                                                                                                                                                                                                                                                                                                                                                                                                                                                                                                                                                                                                                                                                                            </span></td><td><span style=white-space:pre-wrap>Figurative          </span></td><td><span style=white-space:pre-wrap>In place          </span></td><td><span style=white-space:pre-wrap>Bentall Bldg.        </span></td><td><span style=white-space:pre-wrap>505 Burrard Street           </span></td><td><span style=white-space:pre-wrap>bronze                </span></td><td>https://covapp.vancouver.ca/PublicArtRegistry/ArtworkDetail.aspx?ArtworkId=8 </td><td>https://opendata.vancouver.ca/api/explore/v2.1/catalog/datasets/public-art/files/474f32613a9576400ec109ba2736fcfd</td><td><span style=white-space:pre-wrap>Privately owned  </span></td><td><span style=white-space:pre-wrap>Downtown      </span></td><td>Moved to plaza level between 555 &amp; 595 Burrard, formerly located between the two towers, above fountain</td><td><span style=white-space:pre-wrap>{\"coordinates\": [-123.11943, 49.28617], \"type\": \"Point\"}  </span></td><td><span style=white-space:pre-wrap>Downtown      </span></td><td><span style=white-space:pre-wrap>This classic bust depicts the entrepreneur Charles Bentall who died in 1974.                                                                                                                                                                                                                                                                                                                                                                                                                                                           </span></td><td>241</td><td><span style=white-space:pre-wrap>NA                    </span></td><td>1977</td><td><span style=white-space:pre-wrap>49.28617, -123.11943  </span></td></tr>\n",
       "\t<tr><td>16</td><td><span style=white-space:pre-wrap>Untitled                </span></td><td><span style=white-space:pre-wrap>NA                                                                                                                                                                                                                                                                                                                                                                                                                                                                                                                                                                                                                                                                                                                                                                                                                                                                                                                                                                                                                                                                                                                                                                                                                                                                                                                                                                                                                                                                                                                                                                                                                                                                                                                                                                                                                                                                                                                                                                                                                                                                                                                                                                                                                                                                                                                                                                                                                                                                                                                                                                                                                                                                                            </span></td><td><span style=white-space:pre-wrap>Relief              </span></td><td>No longer in place</td><td><span style=white-space:pre-wrap>Plaza 500 Hotel      </span></td><td><span style=white-space:pre-wrap>Cambie &amp; 12th Avenue         </span></td><td><span style=white-space:pre-wrap>Concrete, glass       </span></td><td>https://covapp.vancouver.ca/PublicArtRegistry/ArtworkDetail.aspx?ArtworkId=16</td><td>https://opendata.vancouver.ca/api/explore/v2.1/catalog/datasets/public-art/files/e5b65839dd76b601f21f70a9623fddb3</td><td><span style=white-space:pre-wrap>Privately owned  </span></td><td>Mount Pleasant</td><td><span style=white-space:pre-wrap>Exterior, east side                                                                                    </span></td><td>{\"coordinates\": [-123.115462, 49.260104], \"type\": \"Point\"}</td><td><span style=white-space:pre-wrap>Fairview      </span></td><td><span style=white-space:pre-wrap>NA                                                                                                                                                                                                                                                                                                                                                                                                                                                                                                                                     </span></td><td>30 </td><td><span style=white-space:pre-wrap>NA                    </span></td><td>1970</td><td>49.260104, -123.115462</td></tr>\n",
       "\t<tr><td>24</td><td>Angel of Victory        </td><td>The artist won the CPR commission from a nation-wide competition.                                                                                                                                                                                                                                                                                                                                                                                                                                                                                                                                                                                                                                                                                                                                                                                                                                                                                                                                                                                                                                                                                                                                                                                                                                                                                                                                                                                                                                                                                                                                                                                                                                                                                                                                                                                                                                                                                                                                                                                                                                                                                                                                                                                                                                                                                                                                                                                                                                                                                                                                                                                                                             </td><td>Memorial or monument</td><td>In place          </td><td>Waterfront Station   </td><td>601 West Cordova Street      </td><td>bronze                </td><td>https://covapp.vancouver.ca/PublicArtRegistry/ArtworkDetail.aspx?ArtworkId=24</td><td>https://opendata.vancouver.ca/api/explore/v2.1/catalog/datasets/public-art/files/94bf38412d1a4f900dae873d560cafc4</td><td>Cadillac Fairview</td><td>Downtown      </td><td>East of front entrance                                                                                 </td><td>{\"coordinates\": [-123.111406, 49.28525], \"type\": \"Point\"} </td><td>Downtown      </td><td>A heritage monument, this bronze figurative sculpture depicts an angel carrying a dead soldier and commemorates those who lost their lives in World War I. This is one of three identical statues commissioned by the Canadian Pacific Railway in 1921 to honour their workers who answered the call of \"king and country\" and made the ultimate sacrifice.  The others are in Winnipeg and Montreal.  The angel  originally held a full wreath in her upraised hand. After WW II, the dates of that war were also added to the plaque.</td><td>94 </td><td>Maxime Cyr-Morton     </td><td>1921</td><td>49.28525, -123.111406 </td></tr>\n",
       "\t<tr><td>26</td><td>Centennial Pole (totem) </td><td><span style=white-space:pre-wrap>\"The original pole was commissioned by the province in 1958 and presented to Queen Elizabeth. The pole is 30.5m (100ft) high representing one foot for each year of the Province's existence at the time. The original log was a 600 year old red cedar from the Queen Charlotte Islands. At the First Cut Ceremony, Lt. Gov. Frank M. Ross made the first cut into the log. Mungo Martin worked with his nephew Henry Hunt and his son David Martin to complete the pole in seven months. This pole stands in Windsor Great Park in England. The Vancouver pole is an exact duplicate.\" - ibid, Stewart                                                                                                                                                                                                                                                                                                                                                                                                                                                                                                                                                                                                                                                                                                                                                                                                                                                                                                                                                                                                                                                                                                                                                                                                                                                                                                                                                                                                                                                                                                                                                                                                                                                                                                                                                                                                                                                                                                                                                                                                                                                                                      </span></td><td><span style=white-space:pre-wrap>Totem pole          </span></td><td>No longer in place</td><td><span style=white-space:pre-wrap>Hadden Park          </span></td><td>Odgen Street &amp; Cypress Street</td><td><span style=white-space:pre-wrap>wood                  </span></td><td>https://covapp.vancouver.ca/PublicArtRegistry/ArtworkDetail.aspx?ArtworkId=26</td><td>https://opendata.vancouver.ca/api/explore/v2.1/catalog/datasets/public-art/files/de7031d7a62f163e1661715c96e696f6</td><td>City of Vancouver</td><td><span style=white-space:pre-wrap>Kitsilano     </span></td><td><span style=white-space:pre-wrap>North end of Cypress Street                                                                            </span></td><td><span style=white-space:pre-wrap>{\"coordinates\": [-123.1475, 49.277533], \"type\": \"Point\"}  </span></td><td><span style=white-space:pre-wrap>Kitsilano     </span></td><td><span style=white-space:pre-wrap>\"Each of the ten figures is the crest of one of the ten Kwakwaka'wakw clans representing the mythical ancestry of the clan. From the top down:: chief wearing high crowned hat and robe; Beaver; Old Man; Thunderbird and Sea Otter holding seal; Raven head down; whale with face for blowhole; woman crouching on head of Sisiutl; Halibut with human in its body; Cedar Man with head and neck rings.\" (From Totem Poles, Hilary Stewart, 1990, Douglas &amp;amp; McIntyre)                                                             </span></td><td>100</td><td><span style=white-space:pre-wrap>NA                    </span></td><td>1958</td><td><span style=white-space:pre-wrap>49.277533, -123.1475  </span></td></tr>\n",
       "\t<tr><td>27</td><td><span style=white-space:pre-wrap>Solo                    </span></td><td><span style=white-space:pre-wrap>\"McHaffie says she means to show movement, but not flight. 'My perception of the world is that very little of it is stable,' she says.\" -Vancouver Sun, July 19,1986                                             The sculpture was installed as one of ten pieces in the City Shapes sculpture symposium in the City's centennial year.                                                                                                                                                                                                                                                                                                                                                                                                                                                                                                                                                                                                                                                                                                                                                                                                                                                                                                                                                                                                                                                                                                                                                                                                                                                                                                                                                                                                                                                                                                                                                                                                                                                                                                                                                                                                                                                                                                                                                                                                                                                                                                                                                                                                                                                                                                                                                       </span></td><td><span style=white-space:pre-wrap>Sculpture           </span></td><td><span style=white-space:pre-wrap>In place          </span></td><td>Devonian Harbour Park</td><td><span style=white-space:pre-wrap>Denman &amp; Georgia Street      </span></td><td>Stainless steel, cedar</td><td>https://covapp.vancouver.ca/PublicArtRegistry/ArtworkDetail.aspx?ArtworkId=27</td><td>https://opendata.vancouver.ca/api/explore/v2.1/catalog/datasets/public-art/files/25a422b0cc36381e0c0ab681d38f602d</td><td>City of Vancouver</td><td><span style=white-space:pre-wrap>Downtown      </span></td><td><span style=white-space:pre-wrap>Lawn along Georgia Street                                                                              </span></td><td>{\"coordinates\": [-123.133965, 49.293313], \"type\": \"Point\"}</td><td><span style=white-space:pre-wrap>Downtown      </span></td><td><span style=white-space:pre-wrap>An abstract sculpture of stainless steel with carved cedar planks that fan out in a spiral.                                                                                                                                                                                                                                                                                                                                                                                                                                            </span></td><td>103</td><td>SITE Photography, 2016</td><td>1986</td><td>49.293313, -123.133965</td></tr>\n",
       "</tbody>\n",
       "</table>\n"
      ],
      "text/latex": [
       "A tibble: 6 × 20\n",
       "\\begin{tabular}{llllllllllllllllllll}\n",
       " RegistryID & Title of Work & ArtistProjectStatement & Type & Status & SiteName & SiteAddress & PrimaryMaterial & URL & PhotoURL & Ownership & Neighbourhood & LocationOnsite & Geom & Geo Local Area & DescriptionOfwork & Artists & PhotoCredits & YearOfInstallation & geo\\_point\\_2d\\\\\n",
       " <dbl> & <chr> & <chr> & <chr> & <chr> & <chr> & <chr> & <chr> & <chr> & <chr> & <chr> & <chr> & <chr> & <chr> & <chr> & <chr> & <chr> & <chr> & <dbl> & <chr>\\\\\n",
       "\\hline\n",
       "\t  1 & Captain George Vancouver & A new city hall and a statue of Captain George Vancouver were commissioned to commemorate Vancouver's Golden Jubilee in 1936. The architect of the new City Hall at Strathcona Park on West 12th Avenue, Fred Townley, proposed the sculpture, commissioned by the Vancouver Canadian Club, be placed on the plaza on the north side of the building. Noted BC sculptor, Charles Marega, was commissioned (for about \\$5500) to create a life-size sculpture of the man who mapped the harbour in 1792 and after whom the city is named. \r\n",
       "Marega began by setting up 500 pounds of clay on a turntable in his Hornby Street Studio. From the clay model, he made a plaster cast which was then used to cast the finished work in \"Roman bronze\". It was cast at Ornamental Bronze, a foundry in Vancouver. The work was installed on August 20, 1936.The bronze figure standing atop the granite plinth is said to bear little physical resemblance to Captain George. The sculpture was copied from a maquette, which had been fashioned after a painting that was in turn, a copy from an original painting.\r\n",
       "An interesting conversation is recorded between Major Matthews, the City Archivist, and Townley. \r\n",
       "Matthews: \"Mr. Townley, the \"Sun\" newspaper wants to know how much the Vancouver statue cost and who paid for it.\"\r\n",
       "Townley: \"What do they want to bring that up for? Leave sleeping dogs lie. I've been afraid that matter would come up, but it has not...why bring it up now? It was all in the contract; everything was above board; there's nothing to hide; but if it gets out what it cost, then some fool will start writing to the newspapers, or something, and complain of the waste of money; say it ought to have been given towards the support of some fool scheme of his own, the \"home for incurable dogs\", or some other idiotic thing\".\r\n",
       "Matthews: \"Alright; drop it, I don't want to know; the \"Sun\" is publishing a story on the statue, and I suppose they want to put the cost in.\"\r\n",
       "Townley: \"Well, Charles Marega made it, and baby bonds paid for it...I don't know exactly what it cost; it would be hard to find out; part of it was in the stone work cost. Marega for \\$5000, and then there was the base; so much per square foot for the base, perhaps \\$500 for that...\"\r\n",
       "The statue was cleaned in 2001, 65 years after its installation and in time for the city's 115th birthday. The bill for cost of cleaning was \\$5800, almost the same amount as the original statue cost. This sculpture is on the City of Vancouver's Heritage Inventory list and, as a proud homage to a great explorer, has stood the test of time. & Figurative           & In place           & Vancouver City Hall   & 453 West 12th Avenue          & bronze                 & https://covapp.vancouver.ca/PublicArtRegistry/ArtworkDetail.aspx?ArtworkId=1  & https://opendata.vancouver.ca/api/explore/v2.1/catalog/datasets/public-art/files/6dfd36260587f27540709ca506c4e81c & City of Vancouver & Mount Pleasant & North entrance, exterior, in front of stairs                                                            & \\{\"coordinates\": {[}-123.113918, 49.261185{]}, \"type\": \"Point\"\\} & Mount Pleasant & A full figure bronze statue of Captain George Vancouver stands on the north side of City Hall, pointing towards Vancouver harbour and holding a partially open scroll in his left hand. The figure commemorates the events of 1792, when Captain George, a representative of King George III of England, sailed into Burrard Inlet and charted the area.                                                                                                                                                                                & 98  & Barbara Cole           & 1936 & 49.261185, -123.113918\\\\\n",
       "\t  8 & Charles Bentall          & NA                                                                                                                                                                                                                                                                                                                                                                                                                                                                                                                                                                                                                                                                                                                                                                                                                                                                                                                                                                                                                                                                                                                                                                                                                                                                                                                                                                                                                                                                                                                                                                                                                                                                                                                                                                                                                                                                                                                                                                                                                                                                                                                                                                                                                                                                                                                                                                                                                                                                                                                                                                                                                                                                                             & Figurative           & In place           & Bentall Bldg.         & 505 Burrard Street            & bronze                 & https://covapp.vancouver.ca/PublicArtRegistry/ArtworkDetail.aspx?ArtworkId=8  & https://opendata.vancouver.ca/api/explore/v2.1/catalog/datasets/public-art/files/474f32613a9576400ec109ba2736fcfd & Privately owned   & Downtown       & Moved to plaza level between 555 \\& 595 Burrard, formerly located between the two towers, above fountain & \\{\"coordinates\": {[}-123.11943, 49.28617{]}, \"type\": \"Point\"\\}   & Downtown       & This classic bust depicts the entrepreneur Charles Bentall who died in 1974.                                                                                                                                                                                                                                                                                                                                                                                                                                                            & 241 & NA                     & 1977 & 49.28617, -123.11943  \\\\\n",
       "\t 16 & Untitled                 & NA                                                                                                                                                                                                                                                                                                                                                                                                                                                                                                                                                                                                                                                                                                                                                                                                                                                                                                                                                                                                                                                                                                                                                                                                                                                                                                                                                                                                                                                                                                                                                                                                                                                                                                                                                                                                                                                                                                                                                                                                                                                                                                                                                                                                                                                                                                                                                                                                                                                                                                                                                                                                                                                                                             & Relief               & No longer in place & Plaza 500 Hotel       & Cambie \\& 12th Avenue          & Concrete, glass        & https://covapp.vancouver.ca/PublicArtRegistry/ArtworkDetail.aspx?ArtworkId=16 & https://opendata.vancouver.ca/api/explore/v2.1/catalog/datasets/public-art/files/e5b65839dd76b601f21f70a9623fddb3 & Privately owned   & Mount Pleasant & Exterior, east side                                                                                     & \\{\"coordinates\": {[}-123.115462, 49.260104{]}, \"type\": \"Point\"\\} & Fairview       & NA                                                                                                                                                                                                                                                                                                                                                                                                                                                                                                                                      & 30  & NA                     & 1970 & 49.260104, -123.115462\\\\\n",
       "\t 24 & Angel of Victory         & The artist won the CPR commission from a nation-wide competition.                                                                                                                                                                                                                                                                                                                                                                                                                                                                                                                                                                                                                                                                                                                                                                                                                                                                                                                                                                                                                                                                                                                                                                                                                                                                                                                                                                                                                                                                                                                                                                                                                                                                                                                                                                                                                                                                                                                                                                                                                                                                                                                                                                                                                                                                                                                                                                                                                                                                                                                                                                                                                              & Memorial or monument & In place           & Waterfront Station    & 601 West Cordova Street       & bronze                 & https://covapp.vancouver.ca/PublicArtRegistry/ArtworkDetail.aspx?ArtworkId=24 & https://opendata.vancouver.ca/api/explore/v2.1/catalog/datasets/public-art/files/94bf38412d1a4f900dae873d560cafc4 & Cadillac Fairview & Downtown       & East of front entrance                                                                                  & \\{\"coordinates\": {[}-123.111406, 49.28525{]}, \"type\": \"Point\"\\}  & Downtown       & A heritage monument, this bronze figurative sculpture depicts an angel carrying a dead soldier and commemorates those who lost their lives in World War I. This is one of three identical statues commissioned by the Canadian Pacific Railway in 1921 to honour their workers who answered the call of \"king and country\" and made the ultimate sacrifice.  The others are in Winnipeg and Montreal.  The angel  originally held a full wreath in her upraised hand. After WW II, the dates of that war were also added to the plaque. & 94  & Maxime Cyr-Morton      & 1921 & 49.28525, -123.111406 \\\\\n",
       "\t 26 & Centennial Pole (totem)  & \"The original pole was commissioned by the province in 1958 and presented to Queen Elizabeth. The pole is 30.5m (100ft) high representing one foot for each year of the Province's existence at the time. The original log was a 600 year old red cedar from the Queen Charlotte Islands. At the First Cut Ceremony, Lt. Gov. Frank M. Ross made the first cut into the log. Mungo Martin worked with his nephew Henry Hunt and his son David Martin to complete the pole in seven months. This pole stands in Windsor Great Park in England. The Vancouver pole is an exact duplicate.\" - ibid, Stewart                                                                                                                                                                                                                                                                                                                                                                                                                                                                                                                                                                                                                                                                                                                                                                                                                                                                                                                                                                                                                                                                                                                                                                                                                                                                                                                                                                                                                                                                                                                                                                                                                                                                                                                                                                                                                                                                                                                                                                                                                                                                                       & Totem pole           & No longer in place & Hadden Park           & Odgen Street \\& Cypress Street & wood                   & https://covapp.vancouver.ca/PublicArtRegistry/ArtworkDetail.aspx?ArtworkId=26 & https://opendata.vancouver.ca/api/explore/v2.1/catalog/datasets/public-art/files/de7031d7a62f163e1661715c96e696f6 & City of Vancouver & Kitsilano      & North end of Cypress Street                                                                             & \\{\"coordinates\": {[}-123.1475, 49.277533{]}, \"type\": \"Point\"\\}   & Kitsilano      & \"Each of the ten figures is the crest of one of the ten Kwakwaka'wakw clans representing the mythical ancestry of the clan. From the top down:: chief wearing high crowned hat and robe; Beaver; Old Man; Thunderbird and Sea Otter holding seal; Raven head down; whale with face for blowhole; woman crouching on head of Sisiutl; Halibut with human in its body; Cedar Man with head and neck rings.\" (From Totem Poles, Hilary Stewart, 1990, Douglas \\&amp; McIntyre)                                                              & 100 & NA                     & 1958 & 49.277533, -123.1475  \\\\\n",
       "\t 27 & Solo                     & \"McHaffie says she means to show movement, but not flight. 'My perception of the world is that very little of it is stable,' she says.\" -Vancouver Sun, July 19,1986                                             The sculpture was installed as one of ten pieces in the City Shapes sculpture symposium in the City's centennial year.                                                                                                                                                                                                                                                                                                                                                                                                                                                                                                                                                                                                                                                                                                                                                                                                                                                                                                                                                                                                                                                                                                                                                                                                                                                                                                                                                                                                                                                                                                                                                                                                                                                                                                                                                                                                                                                                                                                                                                                                                                                                                                                                                                                                                                                                                                                                                        & Sculpture            & In place           & Devonian Harbour Park & Denman \\& Georgia Street       & Stainless steel, cedar & https://covapp.vancouver.ca/PublicArtRegistry/ArtworkDetail.aspx?ArtworkId=27 & https://opendata.vancouver.ca/api/explore/v2.1/catalog/datasets/public-art/files/25a422b0cc36381e0c0ab681d38f602d & City of Vancouver & Downtown       & Lawn along Georgia Street                                                                               & \\{\"coordinates\": {[}-123.133965, 49.293313{]}, \"type\": \"Point\"\\} & Downtown       & An abstract sculpture of stainless steel with carved cedar planks that fan out in a spiral.                                                                                                                                                                                                                                                                                                                                                                                                                                             & 103 & SITE Photography, 2016 & 1986 & 49.293313, -123.133965\\\\\n",
       "\\end{tabular}\n"
      ],
      "text/markdown": [
       "\n",
       "A tibble: 6 × 20\n",
       "\n",
       "| RegistryID &lt;dbl&gt; | Title of Work &lt;chr&gt; | ArtistProjectStatement &lt;chr&gt; | Type &lt;chr&gt; | Status &lt;chr&gt; | SiteName &lt;chr&gt; | SiteAddress &lt;chr&gt; | PrimaryMaterial &lt;chr&gt; | URL &lt;chr&gt; | PhotoURL &lt;chr&gt; | Ownership &lt;chr&gt; | Neighbourhood &lt;chr&gt; | LocationOnsite &lt;chr&gt; | Geom &lt;chr&gt; | Geo Local Area &lt;chr&gt; | DescriptionOfwork &lt;chr&gt; | Artists &lt;chr&gt; | PhotoCredits &lt;chr&gt; | YearOfInstallation &lt;dbl&gt; | geo_point_2d &lt;chr&gt; |\n",
       "|---|---|---|---|---|---|---|---|---|---|---|---|---|---|---|---|---|---|---|---|\n",
       "|  1 | Captain George Vancouver | A new city hall and a statue of Captain George Vancouver were commissioned to commemorate Vancouver's Golden Jubilee in 1936. The architect of the new City Hall at Strathcona Park on West 12th Avenue, Fred Townley, proposed the sculpture, commissioned by the Vancouver Canadian Club, be placed on the plaza on the north side of the building. Noted BC sculptor, Charles Marega, was commissioned (for about $5500) to create a life-size sculpture of the man who mapped the harbour in 1792 and after whom the city is named. \r\n",
       "Marega began by setting up 500 pounds of clay on a turntable in his Hornby Street Studio. From the clay model, he made a plaster cast which was then used to cast the finished work in \"Roman bronze\". It was cast at Ornamental Bronze, a foundry in Vancouver. The work was installed on August 20, 1936.The bronze figure standing atop the granite plinth is said to bear little physical resemblance to Captain George. The sculpture was copied from a maquette, which had been fashioned after a painting that was in turn, a copy from an original painting.\r\n",
       "An interesting conversation is recorded between Major Matthews, the City Archivist, and Townley. \r\n",
       "Matthews: \"Mr. Townley, the \"Sun\" newspaper wants to know how much the Vancouver statue cost and who paid for it.\"\r\n",
       "Townley: \"What do they want to bring that up for? Leave sleeping dogs lie. I've been afraid that matter would come up, but it has not...why bring it up now? It was all in the contract; everything was above board; there's nothing to hide; but if it gets out what it cost, then some fool will start writing to the newspapers, or something, and complain of the waste of money; say it ought to have been given towards the support of some fool scheme of his own, the \"home for incurable dogs\", or some other idiotic thing\".\r\n",
       "Matthews: \"Alright; drop it, I don't want to know; the \"Sun\" is publishing a story on the statue, and I suppose they want to put the cost in.\"\r\n",
       "Townley: \"Well, Charles Marega made it, and baby bonds paid for it...I don't know exactly what it cost; it would be hard to find out; part of it was in the stone work cost. Marega for $5000, and then there was the base; so much per square foot for the base, perhaps $500 for that...\"\r\n",
       "The statue was cleaned in 2001, 65 years after its installation and in time for the city's 115th birthday. The bill for cost of cleaning was $5800, almost the same amount as the original statue cost. This sculpture is on the City of Vancouver's Heritage Inventory list and, as a proud homage to a great explorer, has stood the test of time. | Figurative           | In place           | Vancouver City Hall   | 453 West 12th Avenue          | bronze                 | https://covapp.vancouver.ca/PublicArtRegistry/ArtworkDetail.aspx?ArtworkId=1  | https://opendata.vancouver.ca/api/explore/v2.1/catalog/datasets/public-art/files/6dfd36260587f27540709ca506c4e81c | City of Vancouver | Mount Pleasant | North entrance, exterior, in front of stairs                                                            | {\"coordinates\": [-123.113918, 49.261185], \"type\": \"Point\"} | Mount Pleasant | A full figure bronze statue of Captain George Vancouver stands on the north side of City Hall, pointing towards Vancouver harbour and holding a partially open scroll in his left hand. The figure commemorates the events of 1792, when Captain George, a representative of King George III of England, sailed into Burrard Inlet and charted the area.                                                                                                                                                                                | 98  | Barbara Cole           | 1936 | 49.261185, -123.113918 |\n",
       "|  8 | Charles Bentall          | NA                                                                                                                                                                                                                                                                                                                                                                                                                                                                                                                                                                                                                                                                                                                                                                                                                                                                                                                                                                                                                                                                                                                                                                                                                                                                                                                                                                                                                                                                                                                                                                                                                                                                                                                                                                                                                                                                                                                                                                                                                                                                                                                                                                                                                                                                                                                                                                                                                                                                                                                                                                                                                                                                                             | Figurative           | In place           | Bentall Bldg.         | 505 Burrard Street            | bronze                 | https://covapp.vancouver.ca/PublicArtRegistry/ArtworkDetail.aspx?ArtworkId=8  | https://opendata.vancouver.ca/api/explore/v2.1/catalog/datasets/public-art/files/474f32613a9576400ec109ba2736fcfd | Privately owned   | Downtown       | Moved to plaza level between 555 &amp; 595 Burrard, formerly located between the two towers, above fountain | {\"coordinates\": [-123.11943, 49.28617], \"type\": \"Point\"}   | Downtown       | This classic bust depicts the entrepreneur Charles Bentall who died in 1974.                                                                                                                                                                                                                                                                                                                                                                                                                                                            | 241 | NA                     | 1977 | 49.28617, -123.11943   |\n",
       "| 16 | Untitled                 | NA                                                                                                                                                                                                                                                                                                                                                                                                                                                                                                                                                                                                                                                                                                                                                                                                                                                                                                                                                                                                                                                                                                                                                                                                                                                                                                                                                                                                                                                                                                                                                                                                                                                                                                                                                                                                                                                                                                                                                                                                                                                                                                                                                                                                                                                                                                                                                                                                                                                                                                                                                                                                                                                                                             | Relief               | No longer in place | Plaza 500 Hotel       | Cambie &amp; 12th Avenue          | Concrete, glass        | https://covapp.vancouver.ca/PublicArtRegistry/ArtworkDetail.aspx?ArtworkId=16 | https://opendata.vancouver.ca/api/explore/v2.1/catalog/datasets/public-art/files/e5b65839dd76b601f21f70a9623fddb3 | Privately owned   | Mount Pleasant | Exterior, east side                                                                                     | {\"coordinates\": [-123.115462, 49.260104], \"type\": \"Point\"} | Fairview       | NA                                                                                                                                                                                                                                                                                                                                                                                                                                                                                                                                      | 30  | NA                     | 1970 | 49.260104, -123.115462 |\n",
       "| 24 | Angel of Victory         | The artist won the CPR commission from a nation-wide competition.                                                                                                                                                                                                                                                                                                                                                                                                                                                                                                                                                                                                                                                                                                                                                                                                                                                                                                                                                                                                                                                                                                                                                                                                                                                                                                                                                                                                                                                                                                                                                                                                                                                                                                                                                                                                                                                                                                                                                                                                                                                                                                                                                                                                                                                                                                                                                                                                                                                                                                                                                                                                                              | Memorial or monument | In place           | Waterfront Station    | 601 West Cordova Street       | bronze                 | https://covapp.vancouver.ca/PublicArtRegistry/ArtworkDetail.aspx?ArtworkId=24 | https://opendata.vancouver.ca/api/explore/v2.1/catalog/datasets/public-art/files/94bf38412d1a4f900dae873d560cafc4 | Cadillac Fairview | Downtown       | East of front entrance                                                                                  | {\"coordinates\": [-123.111406, 49.28525], \"type\": \"Point\"}  | Downtown       | A heritage monument, this bronze figurative sculpture depicts an angel carrying a dead soldier and commemorates those who lost their lives in World War I. This is one of three identical statues commissioned by the Canadian Pacific Railway in 1921 to honour their workers who answered the call of \"king and country\" and made the ultimate sacrifice.  The others are in Winnipeg and Montreal.  The angel  originally held a full wreath in her upraised hand. After WW II, the dates of that war were also added to the plaque. | 94  | Maxime Cyr-Morton      | 1921 | 49.28525, -123.111406  |\n",
       "| 26 | Centennial Pole (totem)  | \"The original pole was commissioned by the province in 1958 and presented to Queen Elizabeth. The pole is 30.5m (100ft) high representing one foot for each year of the Province's existence at the time. The original log was a 600 year old red cedar from the Queen Charlotte Islands. At the First Cut Ceremony, Lt. Gov. Frank M. Ross made the first cut into the log. Mungo Martin worked with his nephew Henry Hunt and his son David Martin to complete the pole in seven months. This pole stands in Windsor Great Park in England. The Vancouver pole is an exact duplicate.\" - ibid, Stewart                                                                                                                                                                                                                                                                                                                                                                                                                                                                                                                                                                                                                                                                                                                                                                                                                                                                                                                                                                                                                                                                                                                                                                                                                                                                                                                                                                                                                                                                                                                                                                                                                                                                                                                                                                                                                                                                                                                                                                                                                                                                                       | Totem pole           | No longer in place | Hadden Park           | Odgen Street &amp; Cypress Street | wood                   | https://covapp.vancouver.ca/PublicArtRegistry/ArtworkDetail.aspx?ArtworkId=26 | https://opendata.vancouver.ca/api/explore/v2.1/catalog/datasets/public-art/files/de7031d7a62f163e1661715c96e696f6 | City of Vancouver | Kitsilano      | North end of Cypress Street                                                                             | {\"coordinates\": [-123.1475, 49.277533], \"type\": \"Point\"}   | Kitsilano      | \"Each of the ten figures is the crest of one of the ten Kwakwaka'wakw clans representing the mythical ancestry of the clan. From the top down:: chief wearing high crowned hat and robe; Beaver; Old Man; Thunderbird and Sea Otter holding seal; Raven head down; whale with face for blowhole; woman crouching on head of Sisiutl; Halibut with human in its body; Cedar Man with head and neck rings.\" (From Totem Poles, Hilary Stewart, 1990, Douglas &amp;amp; McIntyre)                                                              | 100 | NA                     | 1958 | 49.277533, -123.1475   |\n",
       "| 27 | Solo                     | \"McHaffie says she means to show movement, but not flight. 'My perception of the world is that very little of it is stable,' she says.\" -Vancouver Sun, July 19,1986                                             The sculpture was installed as one of ten pieces in the City Shapes sculpture symposium in the City's centennial year.                                                                                                                                                                                                                                                                                                                                                                                                                                                                                                                                                                                                                                                                                                                                                                                                                                                                                                                                                                                                                                                                                                                                                                                                                                                                                                                                                                                                                                                                                                                                                                                                                                                                                                                                                                                                                                                                                                                                                                                                                                                                                                                                                                                                                                                                                                                                                        | Sculpture            | In place           | Devonian Harbour Park | Denman &amp; Georgia Street       | Stainless steel, cedar | https://covapp.vancouver.ca/PublicArtRegistry/ArtworkDetail.aspx?ArtworkId=27 | https://opendata.vancouver.ca/api/explore/v2.1/catalog/datasets/public-art/files/25a422b0cc36381e0c0ab681d38f602d | City of Vancouver | Downtown       | Lawn along Georgia Street                                                                               | {\"coordinates\": [-123.133965, 49.293313], \"type\": \"Point\"} | Downtown       | An abstract sculpture of stainless steel with carved cedar planks that fan out in a spiral.                                                                                                                                                                                                                                                                                                                                                                                                                                             | 103 | SITE Photography, 2016 | 1986 | 49.293313, -123.133965 |\n",
       "\n"
      ],
      "text/plain": [
       "  RegistryID Title of Work           \n",
       "1  1         Captain George Vancouver\n",
       "2  8         Charles Bentall         \n",
       "3 16         Untitled                \n",
       "4 24         Angel of Victory        \n",
       "5 26         Centennial Pole (totem) \n",
       "6 27         Solo                    \n",
       "  ArtistProjectStatement                                                                                                                                                                                                                                                                                                                                                                                                                                                                                                                                                                                                                                                                                                                                                                                                                                                                                                                                                                                                                                                                                                                                                                                                                                                                                                                                                                                                                                                                                                                                                                                                                                                                                                                                                                                                                                                                                                                                                                                                                                                                                                                                                                                                                                                                                                                                                                                                                                                                                                                                                                                                                                                                        \n",
       "1 A new city hall and a statue of Captain George Vancouver were commissioned to commemorate Vancouver's Golden Jubilee in 1936. The architect of the new City Hall at Strathcona Park on West 12th Avenue, Fred Townley, proposed the sculpture, commissioned by the Vancouver Canadian Club, be placed on the plaza on the north side of the building. Noted BC sculptor, Charles Marega, was commissioned (for about $5500) to create a life-size sculpture of the man who mapped the harbour in 1792 and after whom the city is named. \\r\\nMarega began by setting up 500 pounds of clay on a turntable in his Hornby Street Studio. From the clay model, he made a plaster cast which was then used to cast the finished work in \"Roman bronze\". It was cast at Ornamental Bronze, a foundry in Vancouver. The work was installed on August 20, 1936.The bronze figure standing atop the granite plinth is said to bear little physical resemblance to Captain George. The sculpture was copied from a maquette, which had been fashioned after a painting that was in turn, a copy from an original painting.\\r\\nAn interesting conversation is recorded between Major Matthews, the City Archivist, and Townley. \\r\\nMatthews: \"Mr. Townley, the \"Sun\" newspaper wants to know how much the Vancouver statue cost and who paid for it.\"\\r\\nTownley: \"What do they want to bring that up for? Leave sleeping dogs lie. I've been afraid that matter would come up, but it has not...why bring it up now? It was all in the contract; everything was above board; there's nothing to hide; but if it gets out what it cost, then some fool will start writing to the newspapers, or something, and complain of the waste of money; say it ought to have been given towards the support of some fool scheme of his own, the \"home for incurable dogs\", or some other idiotic thing\".\\r\\nMatthews: \"Alright; drop it, I don't want to know; the \"Sun\" is publishing a story on the statue, and I suppose they want to put the cost in.\"\\r\\nTownley: \"Well, Charles Marega made it, and baby bonds paid for it...I don't know exactly what it cost; it would be hard to find out; part of it was in the stone work cost. Marega for $5000, and then there was the base; so much per square foot for the base, perhaps $500 for that...\"\\r\\nThe statue was cleaned in 2001, 65 years after its installation and in time for the city's 115th birthday. The bill for cost of cleaning was $5800, almost the same amount as the original statue cost. This sculpture is on the City of Vancouver's Heritage Inventory list and, as a proud homage to a great explorer, has stood the test of time.\n",
       "2 NA                                                                                                                                                                                                                                                                                                                                                                                                                                                                                                                                                                                                                                                                                                                                                                                                                                                                                                                                                                                                                                                                                                                                                                                                                                                                                                                                                                                                                                                                                                                                                                                                                                                                                                                                                                                                                                                                                                                                                                                                                                                                                                                                                                                                                                                                                                                                                                                                                                                                                                                                                                                                                                                                                            \n",
       "3 NA                                                                                                                                                                                                                                                                                                                                                                                                                                                                                                                                                                                                                                                                                                                                                                                                                                                                                                                                                                                                                                                                                                                                                                                                                                                                                                                                                                                                                                                                                                                                                                                                                                                                                                                                                                                                                                                                                                                                                                                                                                                                                                                                                                                                                                                                                                                                                                                                                                                                                                                                                                                                                                                                                            \n",
       "4 The artist won the CPR commission from a nation-wide competition.                                                                                                                                                                                                                                                                                                                                                                                                                                                                                                                                                                                                                                                                                                                                                                                                                                                                                                                                                                                                                                                                                                                                                                                                                                                                                                                                                                                                                                                                                                                                                                                                                                                                                                                                                                                                                                                                                                                                                                                                                                                                                                                                                                                                                                                                                                                                                                                                                                                                                                                                                                                                                             \n",
       "5 \"The original pole was commissioned by the province in 1958 and presented to Queen Elizabeth. The pole is 30.5m (100ft) high representing one foot for each year of the Province's existence at the time. The original log was a 600 year old red cedar from the Queen Charlotte Islands. At the First Cut Ceremony, Lt. Gov. Frank M. Ross made the first cut into the log. Mungo Martin worked with his nephew Henry Hunt and his son David Martin to complete the pole in seven months. This pole stands in Windsor Great Park in England. The Vancouver pole is an exact duplicate.\" - ibid, Stewart                                                                                                                                                                                                                                                                                                                                                                                                                                                                                                                                                                                                                                                                                                                                                                                                                                                                                                                                                                                                                                                                                                                                                                                                                                                                                                                                                                                                                                                                                                                                                                                                                                                                                                                                                                                                                                                                                                                                                                                                                                                                                      \n",
       "6 \"McHaffie says she means to show movement, but not flight. 'My perception of the world is that very little of it is stable,' she says.\" -Vancouver Sun, July 19,1986                                             The sculpture was installed as one of ten pieces in the City Shapes sculpture symposium in the City's centennial year.                                                                                                                                                                                                                                                                                                                                                                                                                                                                                                                                                                                                                                                                                                                                                                                                                                                                                                                                                                                                                                                                                                                                                                                                                                                                                                                                                                                                                                                                                                                                                                                                                                                                                                                                                                                                                                                                                                                                                                                                                                                                                                                                                                                                                                                                                                                                                       \n",
       "  Type                 Status             SiteName             \n",
       "1 Figurative           In place           Vancouver City Hall  \n",
       "2 Figurative           In place           Bentall Bldg.        \n",
       "3 Relief               No longer in place Plaza 500 Hotel      \n",
       "4 Memorial or monument In place           Waterfront Station   \n",
       "5 Totem pole           No longer in place Hadden Park          \n",
       "6 Sculpture            In place           Devonian Harbour Park\n",
       "  SiteAddress                   PrimaryMaterial       \n",
       "1 453 West 12th Avenue          bronze                \n",
       "2 505 Burrard Street            bronze                \n",
       "3 Cambie & 12th Avenue          Concrete, glass       \n",
       "4 601 West Cordova Street       bronze                \n",
       "5 Odgen Street & Cypress Street wood                  \n",
       "6 Denman & Georgia Street       Stainless steel, cedar\n",
       "  URL                                                                          \n",
       "1 https://covapp.vancouver.ca/PublicArtRegistry/ArtworkDetail.aspx?ArtworkId=1 \n",
       "2 https://covapp.vancouver.ca/PublicArtRegistry/ArtworkDetail.aspx?ArtworkId=8 \n",
       "3 https://covapp.vancouver.ca/PublicArtRegistry/ArtworkDetail.aspx?ArtworkId=16\n",
       "4 https://covapp.vancouver.ca/PublicArtRegistry/ArtworkDetail.aspx?ArtworkId=24\n",
       "5 https://covapp.vancouver.ca/PublicArtRegistry/ArtworkDetail.aspx?ArtworkId=26\n",
       "6 https://covapp.vancouver.ca/PublicArtRegistry/ArtworkDetail.aspx?ArtworkId=27\n",
       "  PhotoURL                                                                                                         \n",
       "1 https://opendata.vancouver.ca/api/explore/v2.1/catalog/datasets/public-art/files/6dfd36260587f27540709ca506c4e81c\n",
       "2 https://opendata.vancouver.ca/api/explore/v2.1/catalog/datasets/public-art/files/474f32613a9576400ec109ba2736fcfd\n",
       "3 https://opendata.vancouver.ca/api/explore/v2.1/catalog/datasets/public-art/files/e5b65839dd76b601f21f70a9623fddb3\n",
       "4 https://opendata.vancouver.ca/api/explore/v2.1/catalog/datasets/public-art/files/94bf38412d1a4f900dae873d560cafc4\n",
       "5 https://opendata.vancouver.ca/api/explore/v2.1/catalog/datasets/public-art/files/de7031d7a62f163e1661715c96e696f6\n",
       "6 https://opendata.vancouver.ca/api/explore/v2.1/catalog/datasets/public-art/files/25a422b0cc36381e0c0ab681d38f602d\n",
       "  Ownership         Neighbourhood \n",
       "1 City of Vancouver Mount Pleasant\n",
       "2 Privately owned   Downtown      \n",
       "3 Privately owned   Mount Pleasant\n",
       "4 Cadillac Fairview Downtown      \n",
       "5 City of Vancouver Kitsilano     \n",
       "6 City of Vancouver Downtown      \n",
       "  LocationOnsite                                                                                         \n",
       "1 North entrance, exterior, in front of stairs                                                           \n",
       "2 Moved to plaza level between 555 & 595 Burrard, formerly located between the two towers, above fountain\n",
       "3 Exterior, east side                                                                                    \n",
       "4 East of front entrance                                                                                 \n",
       "5 North end of Cypress Street                                                                            \n",
       "6 Lawn along Georgia Street                                                                              \n",
       "  Geom                                                       Geo Local Area\n",
       "1 {\"coordinates\": [-123.113918, 49.261185], \"type\": \"Point\"} Mount Pleasant\n",
       "2 {\"coordinates\": [-123.11943, 49.28617], \"type\": \"Point\"}   Downtown      \n",
       "3 {\"coordinates\": [-123.115462, 49.260104], \"type\": \"Point\"} Fairview      \n",
       "4 {\"coordinates\": [-123.111406, 49.28525], \"type\": \"Point\"}  Downtown      \n",
       "5 {\"coordinates\": [-123.1475, 49.277533], \"type\": \"Point\"}   Kitsilano     \n",
       "6 {\"coordinates\": [-123.133965, 49.293313], \"type\": \"Point\"} Downtown      \n",
       "  DescriptionOfwork                                                                                                                                                                                                                                                                                                                                                                                                                                                                                                                      \n",
       "1 A full figure bronze statue of Captain George Vancouver stands on the north side of City Hall, pointing towards Vancouver harbour and holding a partially open scroll in his left hand. The figure commemorates the events of 1792, when Captain George, a representative of King George III of England, sailed into Burrard Inlet and charted the area.                                                                                                                                                                               \n",
       "2 This classic bust depicts the entrepreneur Charles Bentall who died in 1974.                                                                                                                                                                                                                                                                                                                                                                                                                                                           \n",
       "3 NA                                                                                                                                                                                                                                                                                                                                                                                                                                                                                                                                     \n",
       "4 A heritage monument, this bronze figurative sculpture depicts an angel carrying a dead soldier and commemorates those who lost their lives in World War I. This is one of three identical statues commissioned by the Canadian Pacific Railway in 1921 to honour their workers who answered the call of \"king and country\" and made the ultimate sacrifice.  The others are in Winnipeg and Montreal.  The angel  originally held a full wreath in her upraised hand. After WW II, the dates of that war were also added to the plaque.\n",
       "5 \"Each of the ten figures is the crest of one of the ten Kwakwaka'wakw clans representing the mythical ancestry of the clan. From the top down:: chief wearing high crowned hat and robe; Beaver; Old Man; Thunderbird and Sea Otter holding seal; Raven head down; whale with face for blowhole; woman crouching on head of Sisiutl; Halibut with human in its body; Cedar Man with head and neck rings.\" (From Totem Poles, Hilary Stewart, 1990, Douglas &amp; McIntyre)                                                             \n",
       "6 An abstract sculpture of stainless steel with carved cedar planks that fan out in a spiral.                                                                                                                                                                                                                                                                                                                                                                                                                                            \n",
       "  Artists PhotoCredits           YearOfInstallation geo_point_2d          \n",
       "1 98      Barbara Cole           1936               49.261185, -123.113918\n",
       "2 241     NA                     1977               49.28617, -123.11943  \n",
       "3 30      NA                     1970               49.260104, -123.115462\n",
       "4 94      Maxime Cyr-Morton      1921               49.28525, -123.111406 \n",
       "5 100     NA                     1958               49.277533, -123.1475  \n",
       "6 103     SITE Photography, 2016 1986               49.293313, -123.133965"
      ]
     },
     "metadata": {},
     "output_type": "display_data"
    }
   ],
   "source": [
    "public_art <- read_csv2(\"data/public-art.csv\")\n",
    "\n",
    "head(public_art)"
   ]
  },
  {
   "cell_type": "code",
   "execution_count": 3,
   "id": "b643cd35-40b3-4298-8648-097818b6efb5",
   "metadata": {
    "scrolled": true
   },
   "outputs": [
    {
     "name": "stdout",
     "output_type": "stream",
     "text": [
      "Rows: 695\n",
      "Columns: 20\n",
      "$ RegistryID             \u001b[3m\u001b[90m<dbl>\u001b[39m\u001b[23m 1, 8, 16, 24, 26, 27, 28, 38, 40, 41, 45, 46, 4…\n",
      "$ `Title of Work`        \u001b[3m\u001b[90m<chr>\u001b[39m\u001b[23m \"Captain George Vancouver\", \"Charles Bentall\", …\n",
      "$ ArtistProjectStatement \u001b[3m\u001b[90m<chr>\u001b[39m\u001b[23m \"A new city hall and a statue of Captain George…\n",
      "$ Type                   \u001b[3m\u001b[90m<chr>\u001b[39m\u001b[23m \"Figurative\", \"Figurative\", \"Relief\", \"Memorial…\n",
      "$ Status                 \u001b[3m\u001b[90m<chr>\u001b[39m\u001b[23m \"In place\", \"In place\", \"No longer in place\", \"…\n",
      "$ SiteName               \u001b[3m\u001b[90m<chr>\u001b[39m\u001b[23m \"Vancouver City Hall\", \"Bentall Bldg.\", \"Plaza …\n",
      "$ SiteAddress            \u001b[3m\u001b[90m<chr>\u001b[39m\u001b[23m \"453 West 12th Avenue\", \"505 Burrard Street\", \"…\n",
      "$ PrimaryMaterial        \u001b[3m\u001b[90m<chr>\u001b[39m\u001b[23m \"bronze\", \"bronze\", \"Concrete, glass\", \"bronze\"…\n",
      "$ URL                    \u001b[3m\u001b[90m<chr>\u001b[39m\u001b[23m \"https://covapp.vancouver.ca/PublicArtRegistry/…\n",
      "$ PhotoURL               \u001b[3m\u001b[90m<chr>\u001b[39m\u001b[23m \"https://opendata.vancouver.ca/api/explore/v2.1…\n",
      "$ Ownership              \u001b[3m\u001b[90m<chr>\u001b[39m\u001b[23m \"City of Vancouver\", \"Privately owned\", \"Privat…\n",
      "$ Neighbourhood          \u001b[3m\u001b[90m<chr>\u001b[39m\u001b[23m \"Mount Pleasant\", \"Downtown\", \"Mount Pleasant\",…\n",
      "$ LocationOnsite         \u001b[3m\u001b[90m<chr>\u001b[39m\u001b[23m \"North entrance, exterior, in front of stairs\",…\n",
      "$ Geom                   \u001b[3m\u001b[90m<chr>\u001b[39m\u001b[23m \"{\\\"coordinates\\\": [-123.113918, 49.261185], \\\"…\n",
      "$ `Geo Local Area`       \u001b[3m\u001b[90m<chr>\u001b[39m\u001b[23m \"Mount Pleasant\", \"Downtown\", \"Fairview\", \"Down…\n",
      "$ DescriptionOfwork      \u001b[3m\u001b[90m<chr>\u001b[39m\u001b[23m \"A full figure bronze statue of Captain George …\n",
      "$ Artists                \u001b[3m\u001b[90m<chr>\u001b[39m\u001b[23m \"98\", \"241\", \"30\", \"94\", \"100\", \"103\", \"143\", \"…\n",
      "$ PhotoCredits           \u001b[3m\u001b[90m<chr>\u001b[39m\u001b[23m \"Barbara Cole\", NA, NA, \"Maxime Cyr-Morton\", NA…\n",
      "$ YearOfInstallation     \u001b[3m\u001b[90m<dbl>\u001b[39m\u001b[23m 1936, 1977, 1970, 1921, 1958, 1986, 1975, 1971,…\n",
      "$ geo_point_2d           \u001b[3m\u001b[90m<chr>\u001b[39m\u001b[23m \"49.261185, -123.113918\", \"49.28617, -123.11943…\n"
     ]
    }
   ],
   "source": [
    "glimpse(public_art)"
   ]
  },
  {
   "cell_type": "code",
   "execution_count": 27,
   "id": "70d6abfc-7663-42a0-9171-a2e091508b99",
   "metadata": {},
   "outputs": [
    {
     "data": {
      "text/html": [
       "<table class=\"dataframe\">\n",
       "<caption>A tibble: 6 × 2</caption>\n",
       "<thead>\n",
       "\t<tr><th scope=col>Neighbourhood</th><th scope=col>n</th></tr>\n",
       "\t<tr><th scope=col>&lt;chr&gt;</th><th scope=col>&lt;int&gt;</th></tr>\n",
       "</thead>\n",
       "<tbody>\n",
       "\t<tr><td>Arbutus Ridge     </td><td>  2</td></tr>\n",
       "\t<tr><td>Downtown          </td><td>212</td></tr>\n",
       "\t<tr><td>DowntownEastside  </td><td> 51</td></tr>\n",
       "\t<tr><td>Dunbar-Southlands </td><td>  2</td></tr>\n",
       "\t<tr><td>Fairview          </td><td> 18</td></tr>\n",
       "\t<tr><td>Grandview-Woodland</td><td> 21</td></tr>\n",
       "</tbody>\n",
       "</table>\n"
      ],
      "text/latex": [
       "A tibble: 6 × 2\n",
       "\\begin{tabular}{ll}\n",
       " Neighbourhood & n\\\\\n",
       " <chr> & <int>\\\\\n",
       "\\hline\n",
       "\t Arbutus Ridge      &   2\\\\\n",
       "\t Downtown           & 212\\\\\n",
       "\t DowntownEastside   &  51\\\\\n",
       "\t Dunbar-Southlands  &   2\\\\\n",
       "\t Fairview           &  18\\\\\n",
       "\t Grandview-Woodland &  21\\\\\n",
       "\\end{tabular}\n"
      ],
      "text/markdown": [
       "\n",
       "A tibble: 6 × 2\n",
       "\n",
       "| Neighbourhood &lt;chr&gt; | n &lt;int&gt; |\n",
       "|---|---|\n",
       "| Arbutus Ridge      |   2 |\n",
       "| Downtown           | 212 |\n",
       "| DowntownEastside   |  51 |\n",
       "| Dunbar-Southlands  |   2 |\n",
       "| Fairview           |  18 |\n",
       "| Grandview-Woodland |  21 |\n",
       "\n"
      ],
      "text/plain": [
       "  Neighbourhood      n  \n",
       "1 Arbutus Ridge        2\n",
       "2 Downtown           212\n",
       "3 DowntownEastside    51\n",
       "4 Dunbar-Southlands    2\n",
       "5 Fairview            18\n",
       "6 Grandview-Woodland  21"
      ]
     },
     "metadata": {},
     "output_type": "display_data"
    },
    {
     "data": {
      "text/html": [
       "25"
      ],
      "text/latex": [
       "25"
      ],
      "text/markdown": [
       "25"
      ],
      "text/plain": [
       "[1] 25"
      ]
     },
     "metadata": {},
     "output_type": "display_data"
    }
   ],
   "source": [
    "neighborhoods <- public_art |>\n",
    "    group_by(Neighbourhood) |>\n",
    "    summarize(n=n())\n",
    "\n",
    "head(neighborhoods)\n",
    "nrow(neighborhoods)"
   ]
  },
  {
   "cell_type": "code",
   "execution_count": 79,
   "id": "c3d7ce3a-71fb-401c-bae4-f54657afd1c8",
   "metadata": {},
   "outputs": [
    {
     "data": {
      "text/html": [
       "<table class=\"dataframe\">\n",
       "<caption>A tibble: 6 × 3</caption>\n",
       "<thead>\n",
       "\t<tr><th scope=col>Neighbourhood</th><th scope=col>n</th><th scope=col>art_prop</th></tr>\n",
       "\t<tr><th scope=col>&lt;chr&gt;</th><th scope=col>&lt;int&gt;</th><th scope=col>&lt;dbl&gt;</th></tr>\n",
       "</thead>\n",
       "<tbody>\n",
       "\t<tr><td>Arbutus Ridge     </td><td>  2</td><td>0.002877698</td></tr>\n",
       "\t<tr><td>Downtown          </td><td>212</td><td>0.305035971</td></tr>\n",
       "\t<tr><td>DowntownEastside  </td><td> 51</td><td>0.073381295</td></tr>\n",
       "\t<tr><td>Dunbar-Southlands </td><td>  2</td><td>0.002877698</td></tr>\n",
       "\t<tr><td>Fairview          </td><td> 18</td><td>0.025899281</td></tr>\n",
       "\t<tr><td>Grandview-Woodland</td><td> 21</td><td>0.030215827</td></tr>\n",
       "</tbody>\n",
       "</table>\n"
      ],
      "text/latex": [
       "A tibble: 6 × 3\n",
       "\\begin{tabular}{lll}\n",
       " Neighbourhood & n & art\\_prop\\\\\n",
       " <chr> & <int> & <dbl>\\\\\n",
       "\\hline\n",
       "\t Arbutus Ridge      &   2 & 0.002877698\\\\\n",
       "\t Downtown           & 212 & 0.305035971\\\\\n",
       "\t DowntownEastside   &  51 & 0.073381295\\\\\n",
       "\t Dunbar-Southlands  &   2 & 0.002877698\\\\\n",
       "\t Fairview           &  18 & 0.025899281\\\\\n",
       "\t Grandview-Woodland &  21 & 0.030215827\\\\\n",
       "\\end{tabular}\n"
      ],
      "text/markdown": [
       "\n",
       "A tibble: 6 × 3\n",
       "\n",
       "| Neighbourhood &lt;chr&gt; | n &lt;int&gt; | art_prop &lt;dbl&gt; |\n",
       "|---|---|---|\n",
       "| Arbutus Ridge      |   2 | 0.002877698 |\n",
       "| Downtown           | 212 | 0.305035971 |\n",
       "| DowntownEastside   |  51 | 0.073381295 |\n",
       "| Dunbar-Southlands  |   2 | 0.002877698 |\n",
       "| Fairview           |  18 | 0.025899281 |\n",
       "| Grandview-Woodland |  21 | 0.030215827 |\n",
       "\n"
      ],
      "text/plain": [
       "  Neighbourhood      n   art_prop   \n",
       "1 Arbutus Ridge        2 0.002877698\n",
       "2 Downtown           212 0.305035971\n",
       "3 DowntownEastside    51 0.073381295\n",
       "4 Dunbar-Southlands    2 0.002877698\n",
       "5 Fairview            18 0.025899281\n",
       "6 Grandview-Woodland  21 0.030215827"
      ]
     },
     "metadata": {},
     "output_type": "display_data"
    }
   ],
   "source": [
    "art_prop <- neighborhoods |>\n",
    "    mutate(art_prop=n/nrow(public_art))\n",
    "\n",
    "head(art_prop)"
   ]
  },
  {
   "cell_type": "markdown",
   "id": "97085375-0fad-4caa-8527-14855037437b",
   "metadata": {},
   "source": [
    "**Summary statistics of the output variable Y:**"
   ]
  },
  {
   "cell_type": "code",
   "execution_count": 81,
   "id": "930ac360-a04b-4e18-ae36-af1b97af0e5a",
   "metadata": {},
   "outputs": [
    {
     "data": {
      "text/html": [
       "<table class=\"dataframe\">\n",
       "<caption>A tibble: 1 × 4</caption>\n",
       "<thead>\n",
       "\t<tr><th scope=col>variable</th><th scope=col>mean</th><th scope=col>max</th><th scope=col>sd</th></tr>\n",
       "\t<tr><th scope=col>&lt;chr&gt;</th><th scope=col>&lt;dbl&gt;</th><th scope=col>&lt;dbl&gt;</th><th scope=col>&lt;dbl&gt;</th></tr>\n",
       "</thead>\n",
       "<tbody>\n",
       "\t<tr><td>art_proportion (Y)</td><td>0.04</td><td>0.305036</td><td>0.06314427</td></tr>\n",
       "</tbody>\n",
       "</table>\n"
      ],
      "text/latex": [
       "A tibble: 1 × 4\n",
       "\\begin{tabular}{llll}\n",
       " variable & mean & max & sd\\\\\n",
       " <chr> & <dbl> & <dbl> & <dbl>\\\\\n",
       "\\hline\n",
       "\t art\\_proportion (Y) & 0.04 & 0.305036 & 0.06314427\\\\\n",
       "\\end{tabular}\n"
      ],
      "text/markdown": [
       "\n",
       "A tibble: 1 × 4\n",
       "\n",
       "| variable &lt;chr&gt; | mean &lt;dbl&gt; | max &lt;dbl&gt; | sd &lt;dbl&gt; |\n",
       "|---|---|---|---|\n",
       "| art_proportion (Y) | 0.04 | 0.305036 | 0.06314427 |\n",
       "\n"
      ],
      "text/plain": [
       "  variable           mean max      sd        \n",
       "1 art_proportion (Y) 0.04 0.305036 0.06314427"
      ]
     },
     "metadata": {},
     "output_type": "display_data"
    }
   ],
   "source": [
    "summary_stats_Y <- art_prop |>\n",
    "    summarize(\n",
    "        mean = mean(art_prop, na.rm = TRUE),\n",
    "        max = max(art_prop, na.rm = TRUE),\n",
    "        sd = sd(art_prop, na.rm = TRUE)\n",
    "    ) |>\n",
    "    mutate(variable = \"art_proportion (Y)\") |>\n",
    "    select(variable, everything())\n",
    "\n",
    "summary_stats_Y"
   ]
  },
  {
   "cell_type": "code",
   "execution_count": 52,
   "id": "eb0f34b5-1eb5-414e-86fa-05c66b6c0091",
   "metadata": {
    "scrolled": true
   },
   "outputs": [
    {
     "data": {
      "text/html": [
       "<style>\n",
       ".list-inline {list-style: none; margin:0; padding: 0}\n",
       ".list-inline>li {display: inline-block}\n",
       ".list-inline>li:not(:last-child)::after {content: \"\\00b7\"; padding: 0 .5ex}\n",
       "</style>\n",
       "<ol class=list-inline><li>'art_density'</li><li>'census_data_art'</li><li>'localPkgDir'</li><li>'neighborhoods'</li><li>'public_art'</li><li>'subset_data'</li><li>'summary_stats_Y'</li></ol>\n"
      ],
      "text/latex": [
       "\\begin{enumerate*}\n",
       "\\item 'art\\_density'\n",
       "\\item 'census\\_data\\_art'\n",
       "\\item 'localPkgDir'\n",
       "\\item 'neighborhoods'\n",
       "\\item 'public\\_art'\n",
       "\\item 'subset\\_data'\n",
       "\\item 'summary\\_stats\\_Y'\n",
       "\\end{enumerate*}\n"
      ],
      "text/markdown": [
       "1. 'art_density'\n",
       "2. 'census_data_art'\n",
       "3. 'localPkgDir'\n",
       "4. 'neighborhoods'\n",
       "5. 'public_art'\n",
       "6. 'subset_data'\n",
       "7. 'summary_stats_Y'\n",
       "\n",
       "\n"
      ],
      "text/plain": [
       "[1] \"art_density\"     \"census_data_art\" \"localPkgDir\"     \"neighborhoods\"  \n",
       "[5] \"public_art\"      \"subset_data\"     \"summary_stats_Y\""
      ]
     },
     "metadata": {},
     "output_type": "display_data"
    },
    {
     "name": "stdout",
     "output_type": "stream",
     "text": [
      "'data.frame':\t3590 obs. of  66 variables:\n",
      " $ Shape.Area                                                                                                                                               : num  0.852 0.166 0.156 0.721 0.66 ...\n",
      " $ Quality.Flags                                                                                                                                            : chr  \"0\" \"0\" \"0\" \"0\" ...\n",
      " $ GeoUID                                                                                                                                                   : chr  \"59150004\" \"59150005\" \"59150006\" \"59150007\" ...\n",
      " $ Type                                                                                                                                                     : Factor w/ 1 level \"DA\": 1 1 1 1 1 1 1 1 1 1 ...\n",
      " $ Households                                                                                                                                               : int  166 205 192 211 220 143 309 179 111 467 ...\n",
      " $ CD_UID                                                                                                                                                   : chr  \"5915\" \"5915\" \"5915\" \"5915\" ...\n",
      " $ Dwellings                                                                                                                                                : int  177 221 199 225 235 148 317 189 120 505 ...\n",
      " $ Population                                                                                                                                               : int  362 526 452 545 596 393 855 525 311 1172 ...\n",
      " $ name                                                                                                                                                     : chr  \"59150004\" \"59150005\" \"59150006\" \"59150007\" ...\n",
      " $ CSD_UID                                                                                                                                                  : chr  \"5915055\" \"5915055\" \"5915055\" \"5915055\" ...\n",
      " $ CT_UID                                                                                                                                                   : chr  \"9330133.01\" \"9330133.01\" \"9330133.01\" \"9330133.01\" ...\n",
      " $ CMA_UID                                                                                                                                                  : chr  \"59933\" \"59933\" \"59933\" \"59933\" ...\n",
      " $ Region.Name                                                                                                                                              : Factor w/ 3590 levels \"59150004\",\"59150005\",..: 1 2 3 4 5 6 7 8 9 10 ...\n",
      " $ Area..sq.km.                                                                                                                                             : num  0.852 0.166 0.156 0.721 0.66 ...\n",
      " $ v_CA21_1..Population..2021                                                                                                                               : num  362 526 452 545 596 ...\n",
      " $ v_CA21_2..Population..2016                                                                                                                               : num  NA NA NA NA NA NA NA NA NA NA ...\n",
      " $ v_CA21_7..Land.area.in.square.kilometres                                                                                                                 : num  0.85 0.17 0.16 0.72 0.66 ...\n",
      " $ v_CA21_5..Private.dwellings.occupied.by.usual.residents                                                                                                  : num  166 205 192 211 220 143 309 179 111 467 ...\n",
      " $ v_CA21_10..Total...Age                                                                                                                                   : num  180 265 230 275 290 205 410 270 160 600 ...\n",
      " $ v_CA21_9..Total...Age                                                                                                                                    : num  185 260 225 265 300 190 440 250 155 570 ...\n",
      " $ v_CA21_8..Total...Age                                                                                                                                    : num  360 525 455 540 595 395 855 520 310 1170 ...\n",
      " $ v_CA21_6..Population.density.per.square.kilometre                                                                                                        : num  425 3169 2899 756 903 ...\n",
      " $ v_CA21_388..Average.age                                                                                                                                  : num  53 46.2 43.8 49.4 46.6 45 46 45 44.8 48.9 ...\n",
      " $ v_CA21_387..Average.age                                                                                                                                  : num  51 39.6 44.4 49 45.4 43.4 45.9 44.4 42.8 47.7 ...\n",
      " $ v_CA21_386..Average.age                                                                                                                                  : num  52 43 44.1 49.2 45.9 44.2 45.9 44.8 43.8 48.3 ...\n",
      " $ v_CA21_435..Single.detached.house                                                                                                                        : num  80 65 120 200 210 125 285 155 100 180 ...\n",
      " $ v_CA21_436..Semi.detached.house                                                                                                                          : num  25 75 5 5 0 0 5 0 5 15 ...\n",
      " $ v_CA21_442..Movable.dwelling                                                                                                                             : num  0 0 0 0 0 0 0 0 0 0 ...\n",
      " $ v_CA21_441..Other.single.attached.house                                                                                                                  : num  0 0 0 0 0 0 0 5 0 0 ...\n",
      " $ v_CA21_440..Apartment.in.a.building.that.has.five.or.more.storeys                                                                                        : num  0 0 45 0 0 0 0 0 0 140 ...\n",
      " $ v_CA21_439..Apartment.in.a.building.that.has.fewer.than.five.storeys                                                                                     : num  40 35 0 0 0 0 0 0 0 10 ...\n",
      " $ v_CA21_437..Row.house                                                                                                                                    : num  0 0 0 0 0 0 0 10 0 100 ...\n",
      " $ v_CA21_438..Apartment.or.flat.in.a.duplex                                                                                                                : num  20 25 20 10 10 15 20 10 5 15 ...\n",
      " $ v_CA21_443..Private.households.by.household.size                                                                                                         : num  165 205 190 210 220 145 310 180 110 465 ...\n",
      " $ v_CA21_449..Number.of.persons.in.private.households                                                                                                      : num  360 525 455 545 600 395 855 525 310 1170 ...\n",
      " $ v_CA21_4201..Total...Indigenous.identity.for.the.population.in.private.households                                                                        : num  340 450 470 490 555 ...\n",
      " $ v_CA21_4238..Owner                                                                                                                                       : num  130 115 135 190 180 130 290 155 105 410 ...\n",
      " $ v_CA21_4239..Renter                                                                                                                                      : num  45 85 60 10 25 0 25 15 0 75 ...\n",
      " $ v_CA21_4240..Dwelling.provided.by.the.local.government..First.Nation.or.Indian.band                                                                      : num  0 0 0 0 0 0 0 0 0 0 ...\n",
      " $ v_CA21_546..With.children                                                                                                                                : num  30 65 60 70 75 60 115 80 40 140 ...\n",
      " $ v_CA21_547..Without.children                                                                                                                             : num  60 40 50 80 80 50 120 50 35 165 ...\n",
      " $ v_CA21_548..One.parent.family.households                                                                                                                 : num  10 25 10 10 10 5 20 10 10 35 ...\n",
      " $ v_CA21_549..Multigenerational.households                                                                                                                 : num  0 5 5 5 10 0 10 10 5 15 ...\n",
      " $ v_CA21_550..Multiple.census.family.households                                                                                                            : num  5 0 0 0 5 0 5 0 0 5 ...\n",
      " $ v_CA21_906..Median.total.income.of.household.in.2020....                                                                                                 : num  105000 122000 103000 164000 198000 168000 168000 176000 151000 121000 ...\n",
      " $ v_CA21_965..Median.total.income.of.economic.family.in.2020....                                                                                           : num  139000 142000 157000 182000 216000 178000 178000 184000 160000 138000 ...\n",
      " $ v_CA21_1140..Gini.index.on.adjusted.household.total.income                                                                                               : num  0.448 0.362 0.44 0.478 0.684 0.55 0.5 0.49 0.5 0.542 ...\n",
      " $ v_CA21_1147..English.only                                                                                                                                : num  330 460 400 450 515 325 740 445 270 1010 ...\n",
      " $ v_CA21_1150..French.only                                                                                                                                 : num  0 0 0 0 0 0 0 0 0 0 ...\n",
      " $ v_CA21_1153..English.and.French                                                                                                                          : num  25 65 50 80 80 70 105 55 30 105 ...\n",
      " $ v_CA21_1156..Neither.English.nor.French                                                                                                                  : num  5 0 0 10 5 0 10 20 5 55 ...\n",
      " $ v_CA21_5802..No.high.school.diploma.or.equivalency.certificate                                                                                           : num  15 45 25 25 25 25 30 25 35 95 ...\n",
      " $ v_CA21_5817..Total...Highest.certificate..diploma.or.degree.for.the.population.aged.15.years.and.over.in.private.households                              : num  310 385 395 445 480 ...\n",
      " $ v_CA21_6519..Did.not.work                                                                                                                                : num  155 80 100 130 180 135 210 180 110 475 ...\n",
      " $ v_CA21_6522..Worked                                                                                                                                      : num  155 300 295 320 295 190 535 255 140 595 ...\n",
      " $ v_CA21_4311..Median.value.of.dwellings......60.                                                                                                          : num  1600000 1500000 1900000 2000000 3480000 2300000 2400000 3000000 2800000 2000000 ...\n",
      " $ v_CA21_7617..Total...Commuting.destination.for.the.employed.labour.force.aged.15.years.and.over.with.a.usual.place.of.work                               : num  100 125 135 120 135 75 240 135 60 265 ...\n",
      " $ v_CA21_7632..Total...Main.mode.of.commuting.for.the.employed.labour.force.aged.15.years.and.over.with.a.usual.place.of.work.or.no.fixed.workplace.address: num  105 175 155 165 160 75 265 135 70 315 ...\n",
      " $ v_CA21_7634..Total...Main.mode.of.commuting.for.the.employed.labour.force.aged.15.years.and.over.with.a.usual.place.of.work.or.no.fixed.workplace.address: num  55 95 60 70 65 25 125 55 30 130 ...\n",
      " $ v_CA21_7656..Total...Commuting.duration.for.the.employed.labour.force.aged.15.years.and.over.with.a.usual.place.of.work.or.no.fixed.workplace.address    : num  105 175 155 165 160 75 265 135 70 315 ...\n",
      " $ v_CA21_7674..Total...Time.leaving.for.work.for.the.employed.labour.force.aged.15.years.and.over.with.a.usual.place.of.work.or.no.fixed.workplace.address : num  105 175 155 165 160 75 265 135 70 315 ...\n",
      " $ v_CA21_599..Income.statistics.in.2020.for.the.population.aged.15.years.and.over.in.private.households                                                    : num  310 380 395 445 475 ...\n",
      " $ v_CA21_851..Income.statistics.in.2019.for.the.population.aged.15.years.and.over.in.private.households                                                    : num  310 380 395 445 475 ...\n",
      " $ v_CA21_5865..Total...Highest.certificate..diploma.or.degree.for.the.population.aged.25.to.64.years.in.private.households                                 : num  150 235 210 270 260 175 425 235 175 575 ...\n",
      " $ art_contained                                                                                                                                            : num  0 0 0 0 0 0 0 0 0 0 ...\n",
      " $ art_within_500                                                                                                                                           : num  0 0 0 0 0 0 0 0 0 0 ...\n",
      "Rows: 3,590\n",
      "Columns: 66\n",
      "$ Shape.Area                                                                                                                                                \u001b[3m\u001b[90m<dbl>\u001b[39m\u001b[23m …\n",
      "$ Quality.Flags                                                                                                                                             \u001b[3m\u001b[90m<chr>\u001b[39m\u001b[23m …\n",
      "$ GeoUID                                                                                                                                                    \u001b[3m\u001b[90m<chr>\u001b[39m\u001b[23m …\n",
      "$ Type                                                                                                                                                      \u001b[3m\u001b[90m<fct>\u001b[39m\u001b[23m …\n",
      "$ Households                                                                                                                                                \u001b[3m\u001b[90m<int>\u001b[39m\u001b[23m …\n",
      "$ CD_UID                                                                                                                                                    \u001b[3m\u001b[90m<chr>\u001b[39m\u001b[23m …\n",
      "$ Dwellings                                                                                                                                                 \u001b[3m\u001b[90m<int>\u001b[39m\u001b[23m …\n",
      "$ Population                                                                                                                                                \u001b[3m\u001b[90m<int>\u001b[39m\u001b[23m …\n",
      "$ name                                                                                                                                                      \u001b[3m\u001b[90m<chr>\u001b[39m\u001b[23m …\n",
      "$ CSD_UID                                                                                                                                                   \u001b[3m\u001b[90m<chr>\u001b[39m\u001b[23m …\n",
      "$ CT_UID                                                                                                                                                    \u001b[3m\u001b[90m<chr>\u001b[39m\u001b[23m …\n",
      "$ CMA_UID                                                                                                                                                   \u001b[3m\u001b[90m<chr>\u001b[39m\u001b[23m …\n",
      "$ Region.Name                                                                                                                                               \u001b[3m\u001b[90m<fct>\u001b[39m\u001b[23m …\n",
      "$ Area..sq.km.                                                                                                                                              \u001b[3m\u001b[90m<dbl>\u001b[39m\u001b[23m …\n",
      "$ v_CA21_1..Population..2021                                                                                                                                \u001b[3m\u001b[90m<dbl>\u001b[39m\u001b[23m …\n",
      "$ v_CA21_2..Population..2016                                                                                                                                \u001b[3m\u001b[90m<dbl>\u001b[39m\u001b[23m …\n",
      "$ v_CA21_7..Land.area.in.square.kilometres                                                                                                                  \u001b[3m\u001b[90m<dbl>\u001b[39m\u001b[23m …\n",
      "$ v_CA21_5..Private.dwellings.occupied.by.usual.residents                                                                                                   \u001b[3m\u001b[90m<dbl>\u001b[39m\u001b[23m …\n",
      "$ v_CA21_10..Total...Age                                                                                                                                    \u001b[3m\u001b[90m<dbl>\u001b[39m\u001b[23m …\n",
      "$ v_CA21_9..Total...Age                                                                                                                                     \u001b[3m\u001b[90m<dbl>\u001b[39m\u001b[23m …\n",
      "$ v_CA21_8..Total...Age                                                                                                                                     \u001b[3m\u001b[90m<dbl>\u001b[39m\u001b[23m …\n",
      "$ v_CA21_6..Population.density.per.square.kilometre                                                                                                         \u001b[3m\u001b[90m<dbl>\u001b[39m\u001b[23m …\n",
      "$ v_CA21_388..Average.age                                                                                                                                   \u001b[3m\u001b[90m<dbl>\u001b[39m\u001b[23m …\n",
      "$ v_CA21_387..Average.age                                                                                                                                   \u001b[3m\u001b[90m<dbl>\u001b[39m\u001b[23m …\n",
      "$ v_CA21_386..Average.age                                                                                                                                   \u001b[3m\u001b[90m<dbl>\u001b[39m\u001b[23m …\n",
      "$ v_CA21_435..Single.detached.house                                                                                                                         \u001b[3m\u001b[90m<dbl>\u001b[39m\u001b[23m …\n",
      "$ v_CA21_436..Semi.detached.house                                                                                                                           \u001b[3m\u001b[90m<dbl>\u001b[39m\u001b[23m …\n",
      "$ v_CA21_442..Movable.dwelling                                                                                                                              \u001b[3m\u001b[90m<dbl>\u001b[39m\u001b[23m …\n",
      "$ v_CA21_441..Other.single.attached.house                                                                                                                   \u001b[3m\u001b[90m<dbl>\u001b[39m\u001b[23m …\n",
      "$ v_CA21_440..Apartment.in.a.building.that.has.five.or.more.storeys                                                                                         \u001b[3m\u001b[90m<dbl>\u001b[39m\u001b[23m …\n",
      "$ v_CA21_439..Apartment.in.a.building.that.has.fewer.than.five.storeys                                                                                      \u001b[3m\u001b[90m<dbl>\u001b[39m\u001b[23m …\n",
      "$ v_CA21_437..Row.house                                                                                                                                     \u001b[3m\u001b[90m<dbl>\u001b[39m\u001b[23m …\n",
      "$ v_CA21_438..Apartment.or.flat.in.a.duplex                                                                                                                 \u001b[3m\u001b[90m<dbl>\u001b[39m\u001b[23m …\n",
      "$ v_CA21_443..Private.households.by.household.size                                                                                                          \u001b[3m\u001b[90m<dbl>\u001b[39m\u001b[23m …\n",
      "$ v_CA21_449..Number.of.persons.in.private.households                                                                                                       \u001b[3m\u001b[90m<dbl>\u001b[39m\u001b[23m …\n",
      "$ v_CA21_4201..Total...Indigenous.identity.for.the.population.in.private.households                                                                         \u001b[3m\u001b[90m<dbl>\u001b[39m\u001b[23m …\n",
      "$ v_CA21_4238..Owner                                                                                                                                        \u001b[3m\u001b[90m<dbl>\u001b[39m\u001b[23m …\n",
      "$ v_CA21_4239..Renter                                                                                                                                       \u001b[3m\u001b[90m<dbl>\u001b[39m\u001b[23m …\n",
      "$ v_CA21_4240..Dwelling.provided.by.the.local.government..First.Nation.or.Indian.band                                                                       \u001b[3m\u001b[90m<dbl>\u001b[39m\u001b[23m …\n",
      "$ v_CA21_546..With.children                                                                                                                                 \u001b[3m\u001b[90m<dbl>\u001b[39m\u001b[23m …\n",
      "$ v_CA21_547..Without.children                                                                                                                              \u001b[3m\u001b[90m<dbl>\u001b[39m\u001b[23m …\n",
      "$ v_CA21_548..One.parent.family.households                                                                                                                  \u001b[3m\u001b[90m<dbl>\u001b[39m\u001b[23m …\n",
      "$ v_CA21_549..Multigenerational.households                                                                                                                  \u001b[3m\u001b[90m<dbl>\u001b[39m\u001b[23m …\n",
      "$ v_CA21_550..Multiple.census.family.households                                                                                                             \u001b[3m\u001b[90m<dbl>\u001b[39m\u001b[23m …\n",
      "$ v_CA21_906..Median.total.income.of.household.in.2020....                                                                                                  \u001b[3m\u001b[90m<dbl>\u001b[39m\u001b[23m …\n",
      "$ v_CA21_965..Median.total.income.of.economic.family.in.2020....                                                                                            \u001b[3m\u001b[90m<dbl>\u001b[39m\u001b[23m …\n",
      "$ v_CA21_1140..Gini.index.on.adjusted.household.total.income                                                                                                \u001b[3m\u001b[90m<dbl>\u001b[39m\u001b[23m …\n",
      "$ v_CA21_1147..English.only                                                                                                                                 \u001b[3m\u001b[90m<dbl>\u001b[39m\u001b[23m …\n",
      "$ v_CA21_1150..French.only                                                                                                                                  \u001b[3m\u001b[90m<dbl>\u001b[39m\u001b[23m …\n",
      "$ v_CA21_1153..English.and.French                                                                                                                           \u001b[3m\u001b[90m<dbl>\u001b[39m\u001b[23m …\n",
      "$ v_CA21_1156..Neither.English.nor.French                                                                                                                   \u001b[3m\u001b[90m<dbl>\u001b[39m\u001b[23m …\n",
      "$ v_CA21_5802..No.high.school.diploma.or.equivalency.certificate                                                                                            \u001b[3m\u001b[90m<dbl>\u001b[39m\u001b[23m …\n",
      "$ v_CA21_5817..Total...Highest.certificate..diploma.or.degree.for.the.population.aged.15.years.and.over.in.private.households                               \u001b[3m\u001b[90m<dbl>\u001b[39m\u001b[23m …\n",
      "$ v_CA21_6519..Did.not.work                                                                                                                                 \u001b[3m\u001b[90m<dbl>\u001b[39m\u001b[23m …\n",
      "$ v_CA21_6522..Worked                                                                                                                                       \u001b[3m\u001b[90m<dbl>\u001b[39m\u001b[23m …\n",
      "$ v_CA21_4311..Median.value.of.dwellings......60.                                                                                                           \u001b[3m\u001b[90m<dbl>\u001b[39m\u001b[23m …\n",
      "$ v_CA21_7617..Total...Commuting.destination.for.the.employed.labour.force.aged.15.years.and.over.with.a.usual.place.of.work                                \u001b[3m\u001b[90m<dbl>\u001b[39m\u001b[23m …\n",
      "$ v_CA21_7632..Total...Main.mode.of.commuting.for.the.employed.labour.force.aged.15.years.and.over.with.a.usual.place.of.work.or.no.fixed.workplace.address \u001b[3m\u001b[90m<dbl>\u001b[39m\u001b[23m …\n",
      "$ v_CA21_7634..Total...Main.mode.of.commuting.for.the.employed.labour.force.aged.15.years.and.over.with.a.usual.place.of.work.or.no.fixed.workplace.address \u001b[3m\u001b[90m<dbl>\u001b[39m\u001b[23m …\n",
      "$ v_CA21_7656..Total...Commuting.duration.for.the.employed.labour.force.aged.15.years.and.over.with.a.usual.place.of.work.or.no.fixed.workplace.address     \u001b[3m\u001b[90m<dbl>\u001b[39m\u001b[23m …\n",
      "$ v_CA21_7674..Total...Time.leaving.for.work.for.the.employed.labour.force.aged.15.years.and.over.with.a.usual.place.of.work.or.no.fixed.workplace.address  \u001b[3m\u001b[90m<dbl>\u001b[39m\u001b[23m …\n",
      "$ v_CA21_599..Income.statistics.in.2020.for.the.population.aged.15.years.and.over.in.private.households                                                     \u001b[3m\u001b[90m<dbl>\u001b[39m\u001b[23m …\n",
      "$ v_CA21_851..Income.statistics.in.2019.for.the.population.aged.15.years.and.over.in.private.households                                                     \u001b[3m\u001b[90m<dbl>\u001b[39m\u001b[23m …\n",
      "$ v_CA21_5865..Total...Highest.certificate..diploma.or.degree.for.the.population.aged.25.to.64.years.in.private.households                                  \u001b[3m\u001b[90m<dbl>\u001b[39m\u001b[23m …\n",
      "$ art_contained                                                                                                                                             \u001b[3m\u001b[90m<dbl>\u001b[39m\u001b[23m …\n",
      "$ art_within_500                                                                                                                                            \u001b[3m\u001b[90m<dbl>\u001b[39m\u001b[23m …\n"
     ]
    }
   ],
   "source": [
    "load('data/data_art_nosf.rda')\n",
    "ls()\n",
    "\n",
    "# census_data_art <- census_data_art %>% as.data.frame() \n",
    "# data_art <- data_art %>% as.data.frame() \n",
    "\n",
    "\n",
    "str(census_data_art)    # check the structure of the object census_data_art\n",
    "\n",
    "glimpse(census_data_art)"
   ]
  },
  {
   "cell_type": "code",
   "execution_count": 55,
   "id": "dc745e37-c234-4fc7-8a47-dbe2f76be5ba",
   "metadata": {},
   "outputs": [
    {
     "data": {
      "text/html": [
       "<table class=\"dataframe\">\n",
       "<caption>A data.frame: 6 × 66</caption>\n",
       "<thead>\n",
       "\t<tr><th></th><th scope=col>Shape.Area</th><th scope=col>Quality.Flags</th><th scope=col>GeoUID</th><th scope=col>Type</th><th scope=col>Households</th><th scope=col>CD_UID</th><th scope=col>Dwellings</th><th scope=col>Population</th><th scope=col>name</th><th scope=col>CSD_UID</th><th scope=col>⋯</th><th scope=col>v_CA21_7617..Total...Commuting.destination.for.the.employed.labour.force.aged.15.years.and.over.with.a.usual.place.of.work</th><th scope=col>v_CA21_7632..Total...Main.mode.of.commuting.for.the.employed.labour.force.aged.15.years.and.over.with.a.usual.place.of.work.or.no.fixed.workplace.address</th><th scope=col>v_CA21_7634..Total...Main.mode.of.commuting.for.the.employed.labour.force.aged.15.years.and.over.with.a.usual.place.of.work.or.no.fixed.workplace.address</th><th scope=col>v_CA21_7656..Total...Commuting.duration.for.the.employed.labour.force.aged.15.years.and.over.with.a.usual.place.of.work.or.no.fixed.workplace.address</th><th scope=col>v_CA21_7674..Total...Time.leaving.for.work.for.the.employed.labour.force.aged.15.years.and.over.with.a.usual.place.of.work.or.no.fixed.workplace.address</th><th scope=col>v_CA21_599..Income.statistics.in.2020.for.the.population.aged.15.years.and.over.in.private.households</th><th scope=col>v_CA21_851..Income.statistics.in.2019.for.the.population.aged.15.years.and.over.in.private.households</th><th scope=col>v_CA21_5865..Total...Highest.certificate..diploma.or.degree.for.the.population.aged.25.to.64.years.in.private.households</th><th scope=col>art_contained</th><th scope=col>art_within_500</th></tr>\n",
       "\t<tr><th></th><th scope=col>&lt;dbl&gt;</th><th scope=col>&lt;chr&gt;</th><th scope=col>&lt;chr&gt;</th><th scope=col>&lt;fct&gt;</th><th scope=col>&lt;int&gt;</th><th scope=col>&lt;chr&gt;</th><th scope=col>&lt;int&gt;</th><th scope=col>&lt;int&gt;</th><th scope=col>&lt;chr&gt;</th><th scope=col>&lt;chr&gt;</th><th scope=col>⋯</th><th scope=col>&lt;dbl&gt;</th><th scope=col>&lt;dbl&gt;</th><th scope=col>&lt;dbl&gt;</th><th scope=col>&lt;dbl&gt;</th><th scope=col>&lt;dbl&gt;</th><th scope=col>&lt;dbl&gt;</th><th scope=col>&lt;dbl&gt;</th><th scope=col>&lt;dbl&gt;</th><th scope=col>&lt;dbl&gt;</th><th scope=col>&lt;dbl&gt;</th></tr>\n",
       "</thead>\n",
       "<tbody>\n",
       "\t<tr><th scope=row>1</th><td>0.8517</td><td>0</td><td>59150004</td><td>DA</td><td>166</td><td>5915</td><td>177</td><td>362</td><td>59150004</td><td>5915055</td><td>⋯</td><td>100</td><td>105</td><td>55</td><td>105</td><td>105</td><td>310</td><td>310</td><td>150</td><td>0</td><td>0</td></tr>\n",
       "\t<tr><th scope=row>2</th><td>0.1660</td><td>0</td><td>59150005</td><td>DA</td><td>205</td><td>5915</td><td>221</td><td>526</td><td>59150005</td><td>5915055</td><td>⋯</td><td>125</td><td>175</td><td>95</td><td>175</td><td>175</td><td>380</td><td>380</td><td>235</td><td>0</td><td>0</td></tr>\n",
       "\t<tr><th scope=row>3</th><td>0.1559</td><td>0</td><td>59150006</td><td>DA</td><td>192</td><td>5915</td><td>199</td><td>452</td><td>59150006</td><td>5915055</td><td>⋯</td><td>135</td><td>155</td><td>60</td><td>155</td><td>155</td><td>395</td><td>395</td><td>210</td><td>0</td><td>0</td></tr>\n",
       "\t<tr><th scope=row>4</th><td>0.7211</td><td>0</td><td>59150007</td><td>DA</td><td>211</td><td>5915</td><td>225</td><td>545</td><td>59150007</td><td>5915055</td><td>⋯</td><td>120</td><td>165</td><td>70</td><td>165</td><td>165</td><td>445</td><td>445</td><td>270</td><td>0</td><td>0</td></tr>\n",
       "\t<tr><th scope=row>5</th><td>0.6600</td><td>0</td><td>59150008</td><td>DA</td><td>220</td><td>5915</td><td>235</td><td>596</td><td>59150008</td><td>5915055</td><td>⋯</td><td>135</td><td>160</td><td>65</td><td>160</td><td>160</td><td>475</td><td>475</td><td>260</td><td>0</td><td>0</td></tr>\n",
       "\t<tr><th scope=row>6</th><td>0.5699</td><td>0</td><td>59150009</td><td>DA</td><td>143</td><td>5915</td><td>148</td><td>393</td><td>59150009</td><td>5915055</td><td>⋯</td><td> 75</td><td> 75</td><td>25</td><td> 75</td><td> 75</td><td>325</td><td>325</td><td>175</td><td>0</td><td>0</td></tr>\n",
       "</tbody>\n",
       "</table>\n"
      ],
      "text/latex": [
       "A data.frame: 6 × 66\n",
       "\\begin{tabular}{r|lllllllllllllllllllll}\n",
       "  & Shape.Area & Quality.Flags & GeoUID & Type & Households & CD\\_UID & Dwellings & Population & name & CSD\\_UID & ⋯ & v\\_CA21\\_7617..Total...Commuting.destination.for.the.employed.labour.force.aged.15.years.and.over.with.a.usual.place.of.work & v\\_CA21\\_7632..Total...Main.mode.of.commuting.for.the.employed.labour.force.aged.15.years.and.over.with.a.usual.place.of.work.or.no.fixed.workplace.address & v\\_CA21\\_7634..Total...Main.mode.of.commuting.for.the.employed.labour.force.aged.15.years.and.over.with.a.usual.place.of.work.or.no.fixed.workplace.address & v\\_CA21\\_7656..Total...Commuting.duration.for.the.employed.labour.force.aged.15.years.and.over.with.a.usual.place.of.work.or.no.fixed.workplace.address & v\\_CA21\\_7674..Total...Time.leaving.for.work.for.the.employed.labour.force.aged.15.years.and.over.with.a.usual.place.of.work.or.no.fixed.workplace.address & v\\_CA21\\_599..Income.statistics.in.2020.for.the.population.aged.15.years.and.over.in.private.households & v\\_CA21\\_851..Income.statistics.in.2019.for.the.population.aged.15.years.and.over.in.private.households & v\\_CA21\\_5865..Total...Highest.certificate..diploma.or.degree.for.the.population.aged.25.to.64.years.in.private.households & art\\_contained & art\\_within\\_500\\\\\n",
       "  & <dbl> & <chr> & <chr> & <fct> & <int> & <chr> & <int> & <int> & <chr> & <chr> & ⋯ & <dbl> & <dbl> & <dbl> & <dbl> & <dbl> & <dbl> & <dbl> & <dbl> & <dbl> & <dbl>\\\\\n",
       "\\hline\n",
       "\t1 & 0.8517 & 0 & 59150004 & DA & 166 & 5915 & 177 & 362 & 59150004 & 5915055 & ⋯ & 100 & 105 & 55 & 105 & 105 & 310 & 310 & 150 & 0 & 0\\\\\n",
       "\t2 & 0.1660 & 0 & 59150005 & DA & 205 & 5915 & 221 & 526 & 59150005 & 5915055 & ⋯ & 125 & 175 & 95 & 175 & 175 & 380 & 380 & 235 & 0 & 0\\\\\n",
       "\t3 & 0.1559 & 0 & 59150006 & DA & 192 & 5915 & 199 & 452 & 59150006 & 5915055 & ⋯ & 135 & 155 & 60 & 155 & 155 & 395 & 395 & 210 & 0 & 0\\\\\n",
       "\t4 & 0.7211 & 0 & 59150007 & DA & 211 & 5915 & 225 & 545 & 59150007 & 5915055 & ⋯ & 120 & 165 & 70 & 165 & 165 & 445 & 445 & 270 & 0 & 0\\\\\n",
       "\t5 & 0.6600 & 0 & 59150008 & DA & 220 & 5915 & 235 & 596 & 59150008 & 5915055 & ⋯ & 135 & 160 & 65 & 160 & 160 & 475 & 475 & 260 & 0 & 0\\\\\n",
       "\t6 & 0.5699 & 0 & 59150009 & DA & 143 & 5915 & 148 & 393 & 59150009 & 5915055 & ⋯ &  75 &  75 & 25 &  75 &  75 & 325 & 325 & 175 & 0 & 0\\\\\n",
       "\\end{tabular}\n"
      ],
      "text/markdown": [
       "\n",
       "A data.frame: 6 × 66\n",
       "\n",
       "| <!--/--> | Shape.Area &lt;dbl&gt; | Quality.Flags &lt;chr&gt; | GeoUID &lt;chr&gt; | Type &lt;fct&gt; | Households &lt;int&gt; | CD_UID &lt;chr&gt; | Dwellings &lt;int&gt; | Population &lt;int&gt; | name &lt;chr&gt; | CSD_UID &lt;chr&gt; | ⋯ ⋯ | v_CA21_7617..Total...Commuting.destination.for.the.employed.labour.force.aged.15.years.and.over.with.a.usual.place.of.work &lt;dbl&gt; | v_CA21_7632..Total...Main.mode.of.commuting.for.the.employed.labour.force.aged.15.years.and.over.with.a.usual.place.of.work.or.no.fixed.workplace.address &lt;dbl&gt; | v_CA21_7634..Total...Main.mode.of.commuting.for.the.employed.labour.force.aged.15.years.and.over.with.a.usual.place.of.work.or.no.fixed.workplace.address &lt;dbl&gt; | v_CA21_7656..Total...Commuting.duration.for.the.employed.labour.force.aged.15.years.and.over.with.a.usual.place.of.work.or.no.fixed.workplace.address &lt;dbl&gt; | v_CA21_7674..Total...Time.leaving.for.work.for.the.employed.labour.force.aged.15.years.and.over.with.a.usual.place.of.work.or.no.fixed.workplace.address &lt;dbl&gt; | v_CA21_599..Income.statistics.in.2020.for.the.population.aged.15.years.and.over.in.private.households &lt;dbl&gt; | v_CA21_851..Income.statistics.in.2019.for.the.population.aged.15.years.and.over.in.private.households &lt;dbl&gt; | v_CA21_5865..Total...Highest.certificate..diploma.or.degree.for.the.population.aged.25.to.64.years.in.private.households &lt;dbl&gt; | art_contained &lt;dbl&gt; | art_within_500 &lt;dbl&gt; |\n",
       "|---|---|---|---|---|---|---|---|---|---|---|---|---|---|---|---|---|---|---|---|---|---|\n",
       "| 1 | 0.8517 | 0 | 59150004 | DA | 166 | 5915 | 177 | 362 | 59150004 | 5915055 | ⋯ | 100 | 105 | 55 | 105 | 105 | 310 | 310 | 150 | 0 | 0 |\n",
       "| 2 | 0.1660 | 0 | 59150005 | DA | 205 | 5915 | 221 | 526 | 59150005 | 5915055 | ⋯ | 125 | 175 | 95 | 175 | 175 | 380 | 380 | 235 | 0 | 0 |\n",
       "| 3 | 0.1559 | 0 | 59150006 | DA | 192 | 5915 | 199 | 452 | 59150006 | 5915055 | ⋯ | 135 | 155 | 60 | 155 | 155 | 395 | 395 | 210 | 0 | 0 |\n",
       "| 4 | 0.7211 | 0 | 59150007 | DA | 211 | 5915 | 225 | 545 | 59150007 | 5915055 | ⋯ | 120 | 165 | 70 | 165 | 165 | 445 | 445 | 270 | 0 | 0 |\n",
       "| 5 | 0.6600 | 0 | 59150008 | DA | 220 | 5915 | 235 | 596 | 59150008 | 5915055 | ⋯ | 135 | 160 | 65 | 160 | 160 | 475 | 475 | 260 | 0 | 0 |\n",
       "| 6 | 0.5699 | 0 | 59150009 | DA | 143 | 5915 | 148 | 393 | 59150009 | 5915055 | ⋯ |  75 |  75 | 25 |  75 |  75 | 325 | 325 | 175 | 0 | 0 |\n",
       "\n"
      ],
      "text/plain": [
       "  Shape.Area Quality.Flags GeoUID   Type Households CD_UID Dwellings Population\n",
       "1 0.8517     0             59150004 DA   166        5915   177       362       \n",
       "2 0.1660     0             59150005 DA   205        5915   221       526       \n",
       "3 0.1559     0             59150006 DA   192        5915   199       452       \n",
       "4 0.7211     0             59150007 DA   211        5915   225       545       \n",
       "5 0.6600     0             59150008 DA   220        5915   235       596       \n",
       "6 0.5699     0             59150009 DA   143        5915   148       393       \n",
       "  name     CSD_UID ⋯\n",
       "1 59150004 5915055 ⋯\n",
       "2 59150005 5915055 ⋯\n",
       "3 59150006 5915055 ⋯\n",
       "4 59150007 5915055 ⋯\n",
       "5 59150008 5915055 ⋯\n",
       "6 59150009 5915055 ⋯\n",
       "  v_CA21_7617..Total...Commuting.destination.for.the.employed.labour.force.aged.15.years.and.over.with.a.usual.place.of.work\n",
       "1 100                                                                                                                       \n",
       "2 125                                                                                                                       \n",
       "3 135                                                                                                                       \n",
       "4 120                                                                                                                       \n",
       "5 135                                                                                                                       \n",
       "6  75                                                                                                                       \n",
       "  v_CA21_7632..Total...Main.mode.of.commuting.for.the.employed.labour.force.aged.15.years.and.over.with.a.usual.place.of.work.or.no.fixed.workplace.address\n",
       "1 105                                                                                                                                                      \n",
       "2 175                                                                                                                                                      \n",
       "3 155                                                                                                                                                      \n",
       "4 165                                                                                                                                                      \n",
       "5 160                                                                                                                                                      \n",
       "6  75                                                                                                                                                      \n",
       "  v_CA21_7634..Total...Main.mode.of.commuting.for.the.employed.labour.force.aged.15.years.and.over.with.a.usual.place.of.work.or.no.fixed.workplace.address\n",
       "1 55                                                                                                                                                       \n",
       "2 95                                                                                                                                                       \n",
       "3 60                                                                                                                                                       \n",
       "4 70                                                                                                                                                       \n",
       "5 65                                                                                                                                                       \n",
       "6 25                                                                                                                                                       \n",
       "  v_CA21_7656..Total...Commuting.duration.for.the.employed.labour.force.aged.15.years.and.over.with.a.usual.place.of.work.or.no.fixed.workplace.address\n",
       "1 105                                                                                                                                                  \n",
       "2 175                                                                                                                                                  \n",
       "3 155                                                                                                                                                  \n",
       "4 165                                                                                                                                                  \n",
       "5 160                                                                                                                                                  \n",
       "6  75                                                                                                                                                  \n",
       "  v_CA21_7674..Total...Time.leaving.for.work.for.the.employed.labour.force.aged.15.years.and.over.with.a.usual.place.of.work.or.no.fixed.workplace.address\n",
       "1 105                                                                                                                                                     \n",
       "2 175                                                                                                                                                     \n",
       "3 155                                                                                                                                                     \n",
       "4 165                                                                                                                                                     \n",
       "5 160                                                                                                                                                     \n",
       "6  75                                                                                                                                                     \n",
       "  v_CA21_599..Income.statistics.in.2020.for.the.population.aged.15.years.and.over.in.private.households\n",
       "1 310                                                                                                  \n",
       "2 380                                                                                                  \n",
       "3 395                                                                                                  \n",
       "4 445                                                                                                  \n",
       "5 475                                                                                                  \n",
       "6 325                                                                                                  \n",
       "  v_CA21_851..Income.statistics.in.2019.for.the.population.aged.15.years.and.over.in.private.households\n",
       "1 310                                                                                                  \n",
       "2 380                                                                                                  \n",
       "3 395                                                                                                  \n",
       "4 445                                                                                                  \n",
       "5 475                                                                                                  \n",
       "6 325                                                                                                  \n",
       "  v_CA21_5865..Total...Highest.certificate..diploma.or.degree.for.the.population.aged.25.to.64.years.in.private.households\n",
       "1 150                                                                                                                     \n",
       "2 235                                                                                                                     \n",
       "3 210                                                                                                                     \n",
       "4 270                                                                                                                     \n",
       "5 260                                                                                                                     \n",
       "6 175                                                                                                                     \n",
       "  art_contained art_within_500\n",
       "1 0             0             \n",
       "2 0             0             \n",
       "3 0             0             \n",
       "4 0             0             \n",
       "5 0             0             \n",
       "6 0             0             "
      ]
     },
     "metadata": {},
     "output_type": "display_data"
    }
   ],
   "source": [
    "head(census_data_art, width = 20)"
   ]
  },
  {
   "cell_type": "code",
   "execution_count": 60,
   "id": "06e4ad82-e516-4825-8dee-0ef1d679284e",
   "metadata": {
    "scrolled": true
   },
   "outputs": [
    {
     "data": {
      "text/html": [
       "<table class=\"dataframe\">\n",
       "<caption>A data.frame: 6 × 5</caption>\n",
       "<thead>\n",
       "\t<tr><th></th><th scope=col>Region.Name</th><th scope=col>population_density</th><th scope=col>median_income</th><th scope=col>gini_income</th><th scope=col>certificate_density</th></tr>\n",
       "\t<tr><th></th><th scope=col>&lt;fct&gt;</th><th scope=col>&lt;dbl&gt;</th><th scope=col>&lt;dbl&gt;</th><th scope=col>&lt;dbl&gt;</th><th scope=col>&lt;dbl&gt;</th></tr>\n",
       "</thead>\n",
       "<tbody>\n",
       "\t<tr><th scope=row>1</th><td>59150004</td><td> 425.0</td><td>105000</td><td>0.448</td><td>0.8563536</td></tr>\n",
       "\t<tr><th scope=row>2</th><td>59150005</td><td>3168.7</td><td>122000</td><td>0.362</td><td>0.7319392</td></tr>\n",
       "\t<tr><th scope=row>3</th><td>59150006</td><td>2899.3</td><td>103000</td><td>0.440</td><td>0.8738938</td></tr>\n",
       "\t<tr><th scope=row>4</th><td>59150007</td><td> 755.8</td><td>164000</td><td>0.478</td><td>0.8165138</td></tr>\n",
       "\t<tr><th scope=row>5</th><td>59150008</td><td> 903.0</td><td>198000</td><td>0.684</td><td>0.8053691</td></tr>\n",
       "\t<tr><th scope=row>6</th><td>59150009</td><td> 689.6</td><td>168000</td><td>0.550</td><td>0.8396947</td></tr>\n",
       "</tbody>\n",
       "</table>\n"
      ],
      "text/latex": [
       "A data.frame: 6 × 5\n",
       "\\begin{tabular}{r|lllll}\n",
       "  & Region.Name & population\\_density & median\\_income & gini\\_income & certificate\\_density\\\\\n",
       "  & <fct> & <dbl> & <dbl> & <dbl> & <dbl>\\\\\n",
       "\\hline\n",
       "\t1 & 59150004 &  425.0 & 105000 & 0.448 & 0.8563536\\\\\n",
       "\t2 & 59150005 & 3168.7 & 122000 & 0.362 & 0.7319392\\\\\n",
       "\t3 & 59150006 & 2899.3 & 103000 & 0.440 & 0.8738938\\\\\n",
       "\t4 & 59150007 &  755.8 & 164000 & 0.478 & 0.8165138\\\\\n",
       "\t5 & 59150008 &  903.0 & 198000 & 0.684 & 0.8053691\\\\\n",
       "\t6 & 59150009 &  689.6 & 168000 & 0.550 & 0.8396947\\\\\n",
       "\\end{tabular}\n"
      ],
      "text/markdown": [
       "\n",
       "A data.frame: 6 × 5\n",
       "\n",
       "| <!--/--> | Region.Name &lt;fct&gt; | population_density &lt;dbl&gt; | median_income &lt;dbl&gt; | gini_income &lt;dbl&gt; | certificate_density &lt;dbl&gt; |\n",
       "|---|---|---|---|---|---|\n",
       "| 1 | 59150004 |  425.0 | 105000 | 0.448 | 0.8563536 |\n",
       "| 2 | 59150005 | 3168.7 | 122000 | 0.362 | 0.7319392 |\n",
       "| 3 | 59150006 | 2899.3 | 103000 | 0.440 | 0.8738938 |\n",
       "| 4 | 59150007 |  755.8 | 164000 | 0.478 | 0.8165138 |\n",
       "| 5 | 59150008 |  903.0 | 198000 | 0.684 | 0.8053691 |\n",
       "| 6 | 59150009 |  689.6 | 168000 | 0.550 | 0.8396947 |\n",
       "\n"
      ],
      "text/plain": [
       "  Region.Name population_density median_income gini_income certificate_density\n",
       "1 59150004     425.0             105000        0.448       0.8563536          \n",
       "2 59150005    3168.7             122000        0.362       0.7319392          \n",
       "3 59150006    2899.3             103000        0.440       0.8738938          \n",
       "4 59150007     755.8             164000        0.478       0.8165138          \n",
       "5 59150008     903.0             198000        0.684       0.8053691          \n",
       "6 59150009     689.6             168000        0.550       0.8396947          "
      ]
     },
     "metadata": {},
     "output_type": "display_data"
    }
   ],
   "source": [
    "subset_data <- census_data_art %>% select(\"Region.Name\",\n",
    "                                          \"Population\",\n",
    "                                          \"v_CA21_6..Population.density.per.square.kilometre\",\n",
    "                                         \"v_CA21_906..Median.total.income.of.household.in.2020....\",\n",
    "                                         \"v_CA21_1140..Gini.index.on.adjusted.household.total.income\",\n",
    "                                         \"v_CA21_5817..Total...Highest.certificate..diploma.or.degree.for.the.population.aged.15.years.and.over.in.private.households\",\n",
    "                                          ) |>\n",
    "    rename(population_density = v_CA21_6..Population.density.per.square.kilometre,\n",
    "           median_income = v_CA21_906..Median.total.income.of.household.in.2020....,\n",
    "           gini_income = v_CA21_1140..Gini.index.on.adjusted.household.total.income,\n",
    "           highest_certificate = v_CA21_5817..Total...Highest.certificate..diploma.or.degree.for.the.population.aged.15.years.and.over.in.private.households\n",
    "          ) |>\n",
    "    mutate(certificate_density = highest_certificate/Population,\n",
    "          ) |>\n",
    "    select(-highest_certificate, -Population)\n",
    "\n",
    "head(subset_data)"
   ]
  },
  {
   "cell_type": "code",
   "execution_count": 82,
   "id": "3e8d2662-0ec6-4a61-bbaa-19bd0a666547",
   "metadata": {},
   "outputs": [
    {
     "data": {
      "text/html": [
       "<table class=\"dataframe\">\n",
       "<caption>A tibble: 1 × 4</caption>\n",
       "<thead>\n",
       "\t<tr><th scope=col>variable</th><th scope=col>mean</th><th scope=col>max</th><th scope=col>sd</th></tr>\n",
       "\t<tr><th scope=col>&lt;chr&gt;</th><th scope=col>&lt;dbl&gt;</th><th scope=col>&lt;dbl&gt;</th><th scope=col>&lt;dbl&gt;</th></tr>\n",
       "</thead>\n",
       "<tbody>\n",
       "\t<tr><td>art_proportion (Y)</td><td>0.04</td><td>0.305036</td><td>0.06314427</td></tr>\n",
       "</tbody>\n",
       "</table>\n"
      ],
      "text/latex": [
       "A tibble: 1 × 4\n",
       "\\begin{tabular}{llll}\n",
       " variable & mean & max & sd\\\\\n",
       " <chr> & <dbl> & <dbl> & <dbl>\\\\\n",
       "\\hline\n",
       "\t art\\_proportion (Y) & 0.04 & 0.305036 & 0.06314427\\\\\n",
       "\\end{tabular}\n"
      ],
      "text/markdown": [
       "\n",
       "A tibble: 1 × 4\n",
       "\n",
       "| variable &lt;chr&gt; | mean &lt;dbl&gt; | max &lt;dbl&gt; | sd &lt;dbl&gt; |\n",
       "|---|---|---|---|\n",
       "| art_proportion (Y) | 0.04 | 0.305036 | 0.06314427 |\n",
       "\n"
      ],
      "text/plain": [
       "  variable           mean max      sd        \n",
       "1 art_proportion (Y) 0.04 0.305036 0.06314427"
      ]
     },
     "metadata": {},
     "output_type": "display_data"
    },
    {
     "data": {
      "text/html": [
       "<table class=\"dataframe\">\n",
       "<caption>A tibble: 5 × 4</caption>\n",
       "<thead>\n",
       "\t<tr><th scope=col>variable</th><th scope=col>mean</th><th scope=col>max</th><th scope=col>sd</th></tr>\n",
       "\t<tr><th scope=col>&lt;chr&gt;</th><th scope=col>&lt;dbl&gt;</th><th scope=col>&lt;dbl&gt;</th><th scope=col>&lt;dbl&gt;</th></tr>\n",
       "</thead>\n",
       "<tbody>\n",
       "\t<tr><td>art_proportion (Y) </td><td>     0.0400</td><td>     0.3050</td><td>    0.0631</td></tr>\n",
       "\t<tr><td>population_density </td><td>  6457.5899</td><td> 76474.4000</td><td> 7609.1689</td></tr>\n",
       "\t<tr><td>median_income      </td><td>100413.3845</td><td>260000.0000</td><td>27239.0355</td></tr>\n",
       "\t<tr><td>gini_income        </td><td>     0.3309</td><td>     0.7520</td><td>    0.0800</td></tr>\n",
       "\t<tr><td>certificate_density</td><td>     0.8483</td><td>     1.2154</td><td>    0.0926</td></tr>\n",
       "</tbody>\n",
       "</table>\n"
      ],
      "text/latex": [
       "A tibble: 5 × 4\n",
       "\\begin{tabular}{llll}\n",
       " variable & mean & max & sd\\\\\n",
       " <chr> & <dbl> & <dbl> & <dbl>\\\\\n",
       "\\hline\n",
       "\t art\\_proportion (Y)  &      0.0400 &      0.3050 &     0.0631\\\\\n",
       "\t population\\_density  &   6457.5899 &  76474.4000 &  7609.1689\\\\\n",
       "\t median\\_income       & 100413.3845 & 260000.0000 & 27239.0355\\\\\n",
       "\t gini\\_income         &      0.3309 &      0.7520 &     0.0800\\\\\n",
       "\t certificate\\_density &      0.8483 &      1.2154 &     0.0926\\\\\n",
       "\\end{tabular}\n"
      ],
      "text/markdown": [
       "\n",
       "A tibble: 5 × 4\n",
       "\n",
       "| variable &lt;chr&gt; | mean &lt;dbl&gt; | max &lt;dbl&gt; | sd &lt;dbl&gt; |\n",
       "|---|---|---|---|\n",
       "| art_proportion (Y)  |      0.0400 |      0.3050 |     0.0631 |\n",
       "| population_density  |   6457.5899 |  76474.4000 |  7609.1689 |\n",
       "| median_income       | 100413.3845 | 260000.0000 | 27239.0355 |\n",
       "| gini_income         |      0.3309 |      0.7520 |     0.0800 |\n",
       "| certificate_density |      0.8483 |      1.2154 |     0.0926 |\n",
       "\n"
      ],
      "text/plain": [
       "  variable            mean        max         sd        \n",
       "1 art_proportion (Y)       0.0400      0.3050     0.0631\n",
       "2 population_density    6457.5899  76474.4000  7609.1689\n",
       "3 median_income       100413.3845 260000.0000 27239.0355\n",
       "4 gini_income              0.3309      0.7520     0.0800\n",
       "5 certificate_density      0.8483      1.2154     0.0926"
      ]
     },
     "metadata": {},
     "output_type": "display_data"
    }
   ],
   "source": [
    "summary_stats_Y\n",
    "\n",
    "new_rows <- data.frame(\n",
    "    variable = c(\"population_density\", \"median_income\", \"gini_income\", \"certificate_density\"),\n",
    "    mean = c(mean(subset_data$population_density, na.rm = TRUE), mean(subset_data$median_income, na.rm = TRUE), mean(subset_data$gini_income, na.rm = TRUE), mean(subset_data$certificate_density, na.rm = TRUE)),\n",
    "    max = c(max(subset_data$population_density, na.rm = TRUE), max(subset_data$median_income, na.rm = TRUE), max(subset_data$gini_income, na.rm = TRUE), max(subset_data$certificate_density, na.rm = TRUE)),\n",
    "    sd = c(sd(subset_data$population_density, na.rm = TRUE), sd(subset_data$median_income, na.rm = TRUE), sd(subset_data$gini_income, na.rm = TRUE), sd(subset_data$certificate_density, na.rm = TRUE))\n",
    ")\n",
    "\n",
    "summary_stats <- summary_stats_Y |>\n",
    "    rbind(new_rows)\n",
    "\n",
    "summary_stats |>\n",
    "   mutate_if(is.numeric, round, 4)"
   ]
  },
  {
   "cell_type": "code",
   "execution_count": 83,
   "id": "89e5376d-917c-47ed-8693-7d272f5c4745",
   "metadata": {},
   "outputs": [
    {
     "data": {
      "text/html": [
       "<table class=\"dataframe\">\n",
       "<caption>A data.frame: 1 × 28</caption>\n",
       "<thead>\n",
       "\t<tr><th scope=col>population_density_mean</th><th scope=col>population_density_median</th><th scope=col>population_density_min</th><th scope=col>population_density_max</th><th scope=col>population_density_sd</th><th scope=col>population_density_q1</th><th scope=col>population_density_q3</th><th scope=col>median_income_mean</th><th scope=col>median_income_median</th><th scope=col>median_income_min</th><th scope=col>⋯</th><th scope=col>gini_income_sd</th><th scope=col>gini_income_q1</th><th scope=col>gini_income_q3</th><th scope=col>certificate_density_mean</th><th scope=col>certificate_density_median</th><th scope=col>certificate_density_min</th><th scope=col>certificate_density_max</th><th scope=col>certificate_density_sd</th><th scope=col>certificate_density_q1</th><th scope=col>certificate_density_q3</th></tr>\n",
       "\t<tr><th scope=col>&lt;dbl&gt;</th><th scope=col>&lt;dbl&gt;</th><th scope=col>&lt;dbl&gt;</th><th scope=col>&lt;dbl&gt;</th><th scope=col>&lt;dbl&gt;</th><th scope=col>&lt;dbl&gt;</th><th scope=col>&lt;dbl&gt;</th><th scope=col>&lt;dbl&gt;</th><th scope=col>&lt;dbl&gt;</th><th scope=col>&lt;dbl&gt;</th><th scope=col>⋯</th><th scope=col>&lt;dbl&gt;</th><th scope=col>&lt;dbl&gt;</th><th scope=col>&lt;dbl&gt;</th><th scope=col>&lt;dbl&gt;</th><th scope=col>&lt;dbl&gt;</th><th scope=col>&lt;dbl&gt;</th><th scope=col>&lt;dbl&gt;</th><th scope=col>&lt;dbl&gt;</th><th scope=col>&lt;dbl&gt;</th><th scope=col>&lt;dbl&gt;</th></tr>\n",
       "</thead>\n",
       "<tbody>\n",
       "\t<tr><td>6457.59</td><td>4266.3</td><td>0</td><td>76474.4</td><td>7609.169</td><td>2678.5</td><td>7198.4</td><td>100413.4</td><td>1e+05</td><td>23200</td><td>⋯</td><td>0.07996311</td><td>0.274</td><td>0.366</td><td>0.8483222</td><td>0.8502773</td><td>0.2439024</td><td>1.215415</td><td>0.09256149</td><td>0.7961783</td><td>0.904936</td></tr>\n",
       "</tbody>\n",
       "</table>\n"
      ],
      "text/latex": [
       "A data.frame: 1 × 28\n",
       "\\begin{tabular}{lllllllllllllllllllll}\n",
       " population\\_density\\_mean & population\\_density\\_median & population\\_density\\_min & population\\_density\\_max & population\\_density\\_sd & population\\_density\\_q1 & population\\_density\\_q3 & median\\_income\\_mean & median\\_income\\_median & median\\_income\\_min & ⋯ & gini\\_income\\_sd & gini\\_income\\_q1 & gini\\_income\\_q3 & certificate\\_density\\_mean & certificate\\_density\\_median & certificate\\_density\\_min & certificate\\_density\\_max & certificate\\_density\\_sd & certificate\\_density\\_q1 & certificate\\_density\\_q3\\\\\n",
       " <dbl> & <dbl> & <dbl> & <dbl> & <dbl> & <dbl> & <dbl> & <dbl> & <dbl> & <dbl> & ⋯ & <dbl> & <dbl> & <dbl> & <dbl> & <dbl> & <dbl> & <dbl> & <dbl> & <dbl> & <dbl>\\\\\n",
       "\\hline\n",
       "\t 6457.59 & 4266.3 & 0 & 76474.4 & 7609.169 & 2678.5 & 7198.4 & 100413.4 & 1e+05 & 23200 & ⋯ & 0.07996311 & 0.274 & 0.366 & 0.8483222 & 0.8502773 & 0.2439024 & 1.215415 & 0.09256149 & 0.7961783 & 0.904936\\\\\n",
       "\\end{tabular}\n"
      ],
      "text/markdown": [
       "\n",
       "A data.frame: 1 × 28\n",
       "\n",
       "| population_density_mean &lt;dbl&gt; | population_density_median &lt;dbl&gt; | population_density_min &lt;dbl&gt; | population_density_max &lt;dbl&gt; | population_density_sd &lt;dbl&gt; | population_density_q1 &lt;dbl&gt; | population_density_q3 &lt;dbl&gt; | median_income_mean &lt;dbl&gt; | median_income_median &lt;dbl&gt; | median_income_min &lt;dbl&gt; | ⋯ ⋯ | gini_income_sd &lt;dbl&gt; | gini_income_q1 &lt;dbl&gt; | gini_income_q3 &lt;dbl&gt; | certificate_density_mean &lt;dbl&gt; | certificate_density_median &lt;dbl&gt; | certificate_density_min &lt;dbl&gt; | certificate_density_max &lt;dbl&gt; | certificate_density_sd &lt;dbl&gt; | certificate_density_q1 &lt;dbl&gt; | certificate_density_q3 &lt;dbl&gt; |\n",
       "|---|---|---|---|---|---|---|---|---|---|---|---|---|---|---|---|---|---|---|---|---|\n",
       "| 6457.59 | 4266.3 | 0 | 76474.4 | 7609.169 | 2678.5 | 7198.4 | 100413.4 | 1e+05 | 23200 | ⋯ | 0.07996311 | 0.274 | 0.366 | 0.8483222 | 0.8502773 | 0.2439024 | 1.215415 | 0.09256149 | 0.7961783 | 0.904936 |\n",
       "\n"
      ],
      "text/plain": [
       "  population_density_mean population_density_median population_density_min\n",
       "1 6457.59                 4266.3                    0                     \n",
       "  population_density_max population_density_sd population_density_q1\n",
       "1 76474.4                7609.169              2678.5               \n",
       "  population_density_q3 median_income_mean median_income_median\n",
       "1 7198.4                100413.4           1e+05               \n",
       "  median_income_min ⋯ gini_income_sd gini_income_q1 gini_income_q3\n",
       "1 23200             ⋯ 0.07996311     0.274          0.366         \n",
       "  certificate_density_mean certificate_density_median certificate_density_min\n",
       "1 0.8483222                0.8502773                  0.2439024              \n",
       "  certificate_density_max certificate_density_sd certificate_density_q1\n",
       "1 1.215415                0.09256149             0.7961783             \n",
       "  certificate_density_q3\n",
       "1 0.904936              "
      ]
     },
     "metadata": {},
     "output_type": "display_data"
    }
   ],
   "source": [
    "summary_stats <- subset_data %>%\n",
    "    summarize(across(\n",
    "        c(population_density, median_income, gini_income, certificate_density),  \n",
    "        list(\n",
    "            mean = ~ mean(., na.rm = TRUE),\n",
    "            median = ~ median(., na.rm = TRUE),\n",
    "            min = ~ min(., na.rm = TRUE),\n",
    "            max = ~ max(., na.rm = TRUE),\n",
    "            sd = ~ sd(., na.rm = TRUE),\n",
    "            q1 = ~ quantile(., 0.25, na.rm = TRUE),\n",
    "            q3 = ~ quantile(., 0.75, na.rm = TRUE)\n",
    "        ),\n",
    "        .names = \"{.col}_{.fn}\" \n",
    "    ))\n",
    "\n",
    "summary_stats"
   ]
  },
  {
   "cell_type": "markdown",
   "id": "90726a22-ead5-43a9-bcf0-21a73bd2e2c1",
   "metadata": {},
   "source": [
    "ugly table..."
   ]
  },
  {
   "cell_type": "code",
   "execution_count": 14,
   "id": "4d5ee577-9649-4cfe-92d2-233bd7a7a9f8",
   "metadata": {},
   "outputs": [
    {
     "name": "stdout",
     "output_type": "stream",
     "text": [
      " 'units' num [1:3590, 1:695] 17480 17078 17319 17700 16217 ...\n",
      " - attr(*, \"units\")=List of 2\n",
      "  ..$ numerator  : chr \"m\"\n",
      "  ..$ denominator: chr(0) \n",
      "  ..- attr(*, \"class\")= chr \"symbolic_units\"\n",
      " 'units' num [1:3590, 1:695] 17480 17078 17319 17700 16217 ...\n",
      " - attr(*, \"units\")=List of 2\n",
      "  ..$ numerator  : chr \"m\"\n",
      "  ..$ denominator: chr(0) \n",
      "  ..- attr(*, \"class\")= chr \"symbolic_units\"\n"
     ]
    }
   ],
   "source": [
    "str(distance)\n",
    "glimpse(distance)"
   ]
  },
  {
   "cell_type": "code",
   "execution_count": 30,
   "id": "24e1b580-4de4-4f2b-88a7-5ec4b8abcd74",
   "metadata": {},
   "outputs": [
    {
     "data": {
      "text/html": [
       "0.344578258389676"
      ],
      "text/latex": [
       "0.344578258389676"
      ],
      "text/markdown": [
       "0.344578258389676"
      ],
      "text/plain": [
       "[1] 0.3445783"
      ]
     },
     "metadata": {},
     "output_type": "display_data"
    }
   ],
   "source": [
    "pnorm(72, 71,2.5, lower.tail = FALSE)"
   ]
  },
  {
   "cell_type": "code",
   "execution_count": null,
   "id": "61b8c745-01c0-4168-ac93-62281b4656c3",
   "metadata": {},
   "outputs": [],
   "source": []
  },
  {
   "cell_type": "markdown",
   "id": "a2742ea7-4ca7-4fc0-8795-86c3fe115a08",
   "metadata": {},
   "source": []
  }
 ],
 "metadata": {
  "kernelspec": {
   "display_name": "R",
   "language": "R",
   "name": "ir"
  },
  "language_info": {
   "codemirror_mode": "r",
   "file_extension": ".r",
   "mimetype": "text/x-r-source",
   "name": "R",
   "pygments_lexer": "r",
   "version": "4.3.3"
  }
 },
 "nbformat": 4,
 "nbformat_minor": 5
}
