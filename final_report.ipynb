{
 "cells": [
  {
   "cell_type": "markdown",
   "id": "876d7d95-f1ce-4017-9f49-65f4daa22caf",
   "metadata": {},
   "source": [
    "# Individual Socioeconomic Status and the Placement of Public Art Installations within Vancouver"
   ]
  },
  {
   "cell_type": "code",
   "execution_count": null,
   "id": "ca33f4ae-b9d5-4126-ab99-1c8af51066f4",
   "metadata": {},
   "outputs": [],
   "source": [
    "# load library\n",
    "\n",
    "suppressPackageStartupMessages(\n",
    "    {library(tidyr)\n",
    "    library(dplyr)\n",
    "    library(tidyverse)\n",
    "    library(broom)\n",
    "    library(car)\n",
    "    library(sandwich)\n",
    "    library(stargazer)\n",
    "})"
   ]
  },
  {
   "cell_type": "markdown",
   "id": "9de81842-0bc0-4f85-895b-896b3786c50b",
   "metadata": {},
   "source": [
    "## outline\n",
    "- Introduction**done**\n",
    "- Data Description **done**\n",
    "    - Summary Statistics **done**\n",
    "- Model\n",
    "    - Table of Results **done**\n",
    "- Discussion**done**\n",
    "- Conclusion**done**\n",
    "- References"
   ]
  },
  {
   "cell_type": "markdown",
   "id": "881812e2-1fd3-4267-b4b1-47bd15d94ddc",
   "metadata": {},
   "source": [
    "## Introduction"
   ]
  },
  {
   "cell_type": "markdown",
   "id": "da49151a-62cd-4a16-bd08-96053bb26733",
   "metadata": {},
   "source": [
    "**EDIT HERE!!!!**\n",
    "\n",
    "Introduction: the introduction is the most important part of your paper. A good\n",
    "introduction should do the following:\n",
    "- Provide motivation for the paper: why should I care about this paper?\n",
    "- Clearly and explicitly state the research question for the paper. What is this paper\n",
    "going to find out?\n",
    "- Provide key background: what do we know about the answer already?\n",
    "- Give an overview of your results and what your paper will find: what did you learn?"
   ]
  },
  {
   "cell_type": "markdown",
   "id": "554a92a1-97df-47b7-9db5-8c7a4eb6a98c",
   "metadata": {},
   "source": [
    "Public art plays a significant role in shaping the cultural identity and aesthetic landscape of\n",
    "cities. The installations are widely used to foster public interaction, promote a sense of community, contribute to local identity, provoke thought or discussion, and tackle social exclusion (Schuermans, 2012). However, not all communities have equal access to public art, and the factors influencing its placement are not fully understood. It matters because public art affects how people experience and connect with their neighborhoods. This research aims to investigate how the levels of individual socioeconomic status in neighborhoods determine the placement of public art installations within Vancouver. We will apply regression analysis to answer this question, following the regular track for this project. After testing different models, we found that there're positive correlation between income, education attainment and art installation. \n",
    "\n"
   ]
  },
  {
   "cell_type": "markdown",
   "id": "5105fdf5-d5ec-47c9-a43f-9715a9c507d6",
   "metadata": {},
   "source": [
    "## Data Description"
   ]
  },
  {
   "cell_type": "markdown",
   "id": "bbd7b082-fc9f-4ea5-98a6-c6fa6d269d75",
   "metadata": {},
   "source": [
    "To conduct the analysis, we will use two primary datasets. \n",
    "\n",
    "The first one is the 2021 Canadian Census, including many variables at the Census Dissemination Area (DA) level, as the source of data on the socioeconomic status of different neighborhoods in Vancouver. Another dataset is a public art dataset that includes the titles, types, status, and locations of art installations in Vancouver. We will study our research topic by combining the information from these two datasets. \n",
    "\n",
    "For the measures of socioeconomic status, we will focus on the income and education level of people in different neighborhoods in Vancouver. For income variables, we will use the income Gini index, also the median income. To measure educational attainment, we will use the education level. In addition to education and income, we will include the population density variable in our model as a control to test whether the other variables affect the placement of public art in Vancouver."
   ]
  },
  {
   "cell_type": "code",
   "execution_count": null,
   "id": "b234eb87-5dbd-4d26-ad35-f3fef4610777",
   "metadata": {
    "scrolled": true
   },
   "outputs": [],
   "source": [
    "public_art <- read_delim(\"data/public-art.csv\")\n",
    "\n",
    "head(public_art, n=3)"
   ]
  },
  {
   "cell_type": "markdown",
   "id": "894375a9-2f4d-4b87-89af-64579a1d52e2",
   "metadata": {},
   "source": [
    "Firstly, we count the total number of art installation in each neighborhood."
   ]
  },
  {
   "cell_type": "code",
   "execution_count": null,
   "id": "70d6abfc-7663-42a0-9171-a2e091508b99",
   "metadata": {},
   "outputs": [],
   "source": [
    "art_count <- public_art |>\n",
    "    group_by(Neighbourhood) |>\n",
    "    summarize(art_count=n())\n",
    "\n",
    "head(art_count)"
   ]
  },
  {
   "cell_type": "code",
   "execution_count": null,
   "id": "d551a5de-557e-442e-afb1-02dac288a62d",
   "metadata": {
    "scrolled": true
   },
   "outputs": [],
   "source": [
    "load('data/data_hoods_nosf.rda')\n",
    "head(census_data_hood, n=5)"
   ]
  },
  {
   "cell_type": "markdown",
   "id": "959b0aff-4ef5-4d20-a196-bba612d8ecc4",
   "metadata": {},
   "source": [
    "We take the the number of art installations in a `Neighborhood` in Vancouver as our target variable Y. Now we need to merge this dataset with our explanatory variables Xs."
   ]
  },
  {
   "cell_type": "markdown",
   "id": "396ae221-b2fe-45e4-9ed4-acff3cfbfe70",
   "metadata": {},
   "source": [
    "We need to convert the dummy variables in the dataset to one categorical column."
   ]
  },
  {
   "cell_type": "code",
   "execution_count": null,
   "id": "19b364ea-78a7-424a-adc1-365c0c1af670",
   "metadata": {},
   "outputs": [],
   "source": [
    "dummy_cols <- c('in_neighbourhood_Arbutus.Ridge','in_neighbourhood_Grandview.Woodland','in_neighbourhood_Kensington.Cedar.Cottage',\n",
    "                'in_neighbourhood_Killarney','in_neighbourhood_Kitsilano','in_neighbourhood_Strathcona','in_neighbourhood_Sunset','in_neighbourhood_West.Point.Grey',\n",
    "                'in_neighbourhood_Dunbar.Southlands','in_neighbourhood_Fairview','in_neighbourhood_Mount.Pleasant','in_neighbourhood_Renfrew.Collingwood','in_neighbourhood_West.End',\n",
    "                'in_neighbourhood_Downtown','in_neighbourhood_Hastings.Sunrise','in_neighbourhood_Kerrisdale','in_neighbourhood_Marpole','in_neighbourhood_Oakridge',\n",
    "                'in_neighbourhood_Riley.Park','in_neighbourhood_South.Cambie','in_neighbourhood_Shaughnessy','in_neighbourhood_Victoria-Fraserview')\n",
    "\n",
    "census_data_hood_long <- census_data_hood %>%\n",
    "  pivot_longer(cols = all_of(dummy_cols), names_to = \"variable\", values_to = \"value\") %>%\n",
    "  filter(value == 1) %>%\n",
    "  group_by(GeoUID) %>%\n",
    "  summarise(Neighbourhood = first(variable), .groups = \"drop\")\n",
    "\n",
    "geouid_neighb <- census_data_hood %>%\n",
    "  left_join(census_data_hood_long, by = \"GeoUID\") %>%\n",
    "  select(GeoUID, Neighbourhood) %>%\n",
    "  filter(!is.na(Neighbourhood))"
   ]
  },
  {
   "cell_type": "code",
   "execution_count": null,
   "id": "512115a8-2d4e-4773-9c67-6613a852cbde",
   "metadata": {},
   "outputs": [],
   "source": [
    "head(geouid_neighb,n=2)\n",
    "slice(geouid_neighb,300:301)"
   ]
  },
  {
   "cell_type": "code",
   "execution_count": null,
   "id": "eaa52f1d-d775-4f69-a5ae-a8a8dd52dbd8",
   "metadata": {},
   "outputs": [],
   "source": [
    "print(list(art_count$Neighbourhood))"
   ]
  },
  {
   "cell_type": "markdown",
   "id": "64088e06-d8fd-4f31-b0b3-4819dc44a924",
   "metadata": {},
   "source": [
    "Here the names of the neighborhood are different from those in our public art dataset `art_prop`, let us rewrite them."
   ]
  },
  {
   "cell_type": "code",
   "execution_count": null,
   "id": "ff8091c3-e5bc-43c9-85c7-f7df41414afb",
   "metadata": {},
   "outputs": [],
   "source": [
    "geouid_neighb <- geouid_neighb %>%\n",
    "  mutate(Neighbourhood = Neighbourhood %>%\n",
    "           gsub('in_neighbourhood_Arbutus.Ridge', 'Arbutus Ridge', .) %>%\n",
    "           gsub('in_neighbourhood_Downtown', 'Downtown', .) %>%\n",
    "           gsub('in_neighbourhood_Dunbar.Southlands', 'Dunbar-Southlands', .) %>%\n",
    "           gsub('in_neighbourhood_Fairview', 'Fairview', .) %>%\n",
    "           gsub('in_neighbourhood_Grandview.Woodland', 'Grandview-Woodland', .) %>%\n",
    "           gsub('in_neighbourhood_Hastings.Sunrise', 'Hastings-Sunrise', .) %>%\n",
    "           gsub('in_neighbourhood_Kensington.Cedar.Cottage', 'Kensington-Cedar Cottage', .) %>%\n",
    "           gsub('in_neighbourhood_Kerrisdale', 'Kerrisdale', .) %>%\n",
    "           gsub('in_neighbourhood_Killarney', 'Killarney', .) %>%\n",
    "           gsub('in_neighbourhood_Kitsilano', 'Kitsilano', .) %>%\n",
    "           gsub('in_neighbourhood_Marpole', 'Marpole', .) %>%\n",
    "           gsub('in_neighbourhood_Mount.Pleasant', 'Mount Pleasant', .) %>%\n",
    "           gsub('in_neighbourhood_Oakridge', 'Oakridge', .) %>%\n",
    "           gsub('in_neighbourhood_Renfrew.Collingwood', 'Renfrew-Collingwood', .) %>%\n",
    "           gsub('in_neighbourhood_Riley.Park', 'RileyPark', .) %>%\n",
    "           gsub('in_neighbourhood_Shaughnessy', 'Shaughnessy', .) %>%\n",
    "           gsub('in_neighbourhood_South.Cambie', 'South Cambie', .) %>%\n",
    "           # gsub('in_neighbourhood_Grandview.Woodland', 'Stanley Park', .) %>%\n",
    "           gsub('in_neighbourhood_Strathcona', 'Strathcona', .) %>%\n",
    "           gsub('in_neighbourhood_Sunset', 'Sunset', .) %>%\n",
    "           gsub('in_neighbourhood_Victoria-Fraserview', 'Victoria-Fraserview', .) %>%\n",
    "           gsub('in_neighbourhood_West.End', 'West End', .) %>%\n",
    "           gsub('in_neighbourhood_West.Point.Grey', 'West Point Grey', .))"
   ]
  },
  {
   "cell_type": "code",
   "execution_count": null,
   "id": "095d6f78-3dbe-4d68-9a4c-01ccdf7a2eb9",
   "metadata": {},
   "outputs": [],
   "source": [
    "# check the modification\n",
    "head(geouid_neighb,n=1)"
   ]
  },
  {
   "cell_type": "code",
   "execution_count": null,
   "id": "eb0f34b5-1eb5-414e-86fa-05c66b6c0091",
   "metadata": {
    "scrolled": true
   },
   "outputs": [],
   "source": [
    "# load our census data\n",
    "load('data/data_art_nosf.rda')\n",
    "\n",
    "head(census_data_art, n=3)"
   ]
  },
  {
   "cell_type": "markdown",
   "id": "3deeebe9-0de2-43f1-aa0e-132e3ed7bd5c",
   "metadata": {},
   "source": [
    "Since we are interested in the influence of socioeconomic factors in the public art installation density in an area, the important variables for us in this dataset are the population density, median income, income gini index and certificate density in each area in Vancouver, let us select them."
   ]
  },
  {
   "cell_type": "markdown",
   "id": "8cd62ec0-1839-4786-8616-fd418d04568e",
   "metadata": {},
   "source": [
    "For `certificate density`, we divide the original variable, the number of total highest certificates, by the population to get the density of certificates in a region. We rename the variables we are interested in making it more readable and operable."
   ]
  },
  {
   "cell_type": "code",
   "execution_count": null,
   "id": "06e4ad82-e516-4825-8dee-0ef1d679284e",
   "metadata": {
    "scrolled": true
   },
   "outputs": [],
   "source": [
    "subset_data <- census_data_art %>% select(\"Region.Name\",\n",
    "                                          \"Population\",\n",
    "                                          \"v_CA21_6..Population.density.per.square.kilometre\",\n",
    "                                         \"v_CA21_906..Median.total.income.of.household.in.2020....\",\n",
    "                                         \"v_CA21_1140..Gini.index.on.adjusted.household.total.income\",\n",
    "                                         \"v_CA21_5817..Total...Highest.certificate..diploma.or.degree.for.the.population.aged.15.years.and.over.in.private.households\",\n",
    "                                          ) |>\n",
    "    rename(population_density = v_CA21_6..Population.density.per.square.kilometre,\n",
    "           median_income = v_CA21_906..Median.total.income.of.household.in.2020....,\n",
    "           gini_income = v_CA21_1140..Gini.index.on.adjusted.household.total.income,\n",
    "           highest_certificate = v_CA21_5817..Total...Highest.certificate..diploma.or.degree.for.the.population.aged.15.years.and.over.in.private.households,\n",
    "           GeoUID = Region.Name\n",
    "          ) |>\n",
    "    mutate(certificate_density = highest_certificate/Population,\n",
    "          ) |>\n",
    "    select(-highest_certificate, -Population)\n",
    "\n",
    "head(subset_data, n=3)"
   ]
  },
  {
   "cell_type": "markdown",
   "id": "2545a33c-7a2f-4776-a921-13a8b5e1613e",
   "metadata": {},
   "source": [
    "Now we can merge the datasets of public art and our census, by using the `GeoUID` information in our neiborghhood dataset."
   ]
  },
  {
   "cell_type": "code",
   "execution_count": null,
   "id": "ee783daf-6d1a-46bb-8f9f-97553cba679f",
   "metadata": {},
   "outputs": [],
   "source": [
    "subset_data_neighb <- geouid_neighb %>%\n",
    "  left_join(subset_data, by = \"GeoUID\")"
   ]
  },
  {
   "cell_type": "markdown",
   "id": "5bcfa137-4631-471a-9c6f-26457943d6ee",
   "metadata": {},
   "source": [
    "To summarize the information in each neighborhood, we take the average of our explanatory variables for each neighboorhood."
   ]
  },
  {
   "cell_type": "code",
   "execution_count": null,
   "id": "20d0c044-b89a-46b4-9437-e72d634fae40",
   "metadata": {},
   "outputs": [],
   "source": [
    "clean_data <- subset_data_neighb %>%\n",
    "  left_join(art_count, by = \"Neighbourhood\") %>%\n",
    "  select(-GeoUID) %>%\n",
    "  group_by(Neighbourhood) %>%\n",
    "  summarize(\n",
    "    mean_population_density = mean(population_density, na.rm = TRUE),\n",
    "    mean_median_income = mean(median_income, na.rm = TRUE),\n",
    "    mean_gini_income = mean(gini_income, na.rm = TRUE),\n",
    "    mean_certificate_density = mean(certificate_density, na.rm = TRUE),\n",
    "    art_count = mean(art_count, na.rm = TRUE)   # same value for the same neighborhood\n",
    "  )\n",
    "\n",
    "head(clean_data,n=3)"
   ]
  },
  {
   "cell_type": "code",
   "execution_count": null,
   "id": "b520168f-3840-4909-82e8-f6f01f8ff2d2",
   "metadata": {},
   "outputs": [],
   "source": [
    "nrow(clean_data)"
   ]
  },
  {
   "cell_type": "markdown",
   "id": "e2f5ff21-6c40-441b-a72b-97f869cbcf18",
   "metadata": {},
   "source": [
    "This `clean_data` is our analysis sample, which contains 22 observations with 4 features of `mean_population_density`, `mean_median_income`, `mean_gini_income`, and `mean_certificate_density` and our target variable `art_count`.\n",
    "\n",
    "The sample size is small since we are taking one neighborhood in Vancouver as the unit of our sample. There could be some problem concerning with inferential part of our research, but considering the interested population in our research question, this sample is representative enough of our population. Therefore, we may be able to approximate our estimates to the true parameter even if the result of our inferential model is not good due to the limites sample size.\n",
    "\n",
    "Also, with this size of sample and the consideration above, we will not split it into training and test data for another model validation or test."
   ]
  },
  {
   "cell_type": "markdown",
   "id": "bd3dae95-238d-4596-a393-36db40ff626d",
   "metadata": {},
   "source": [
    "### - Summary Statistics"
   ]
  },
  {
   "cell_type": "code",
   "execution_count": null,
   "id": "3e8d2662-0ec6-4a61-bbaa-19bd0a666547",
   "metadata": {},
   "outputs": [],
   "source": [
    "summary_stats_Y <- clean_data |>\n",
    "    summarize(\n",
    "        mean = mean(art_count, na.rm = TRUE),\n",
    "        max = max(art_count, na.rm = TRUE),\n",
    "        sd = sd(art_count, na.rm = TRUE)\n",
    "    ) |>\n",
    "    mutate(variable = \"art_count\") |>\n",
    "    select(variable, everything())\n",
    "\n",
    "new_rows <- data.frame(\n",
    "    variable = c(\"population_density\", \"median_income\", \"gini_income\", \"certificate_density\"),\n",
    "    mean = c(mean(subset_data$population_density, na.rm = TRUE), mean(subset_data$median_income, na.rm = TRUE), mean(subset_data$gini_income, na.rm = TRUE), mean(subset_data$certificate_density, na.rm = TRUE)),\n",
    "    max = c(max(subset_data$population_density, na.rm = TRUE), max(subset_data$median_income, na.rm = TRUE), max(subset_data$gini_income, na.rm = TRUE), max(subset_data$certificate_density, na.rm = TRUE)),\n",
    "    sd = c(sd(subset_data$population_density, na.rm = TRUE), sd(subset_data$median_income, na.rm = TRUE), sd(subset_data$gini_income, na.rm = TRUE), sd(subset_data$certificate_density, na.rm = TRUE))\n",
    ")\n",
    "\n",
    "summary_stats <- summary_stats_Y |>\n",
    "    rbind(new_rows)\n",
    "\n",
    "summary_stats |>\n",
    "   mutate_if(is.numeric, round, 4)"
   ]
  },
  {
   "cell_type": "markdown",
   "id": "0de9b690-61d9-4594-9a03-1d60c1ba0065",
   "metadata": {},
   "source": [
    "Here is the summary statistic table of the key variables we will use in your analysis."
   ]
  },
  {
   "cell_type": "markdown",
   "id": "43430665-39b9-4e65-bacc-0e0e15cdacdd",
   "metadata": {},
   "source": [
    "## Model"
   ]
  },
  {
   "cell_type": "markdown",
   "id": "ede54107-c146-4c15-8e98-70c1a0bfc7d5",
   "metadata": {},
   "source": [
    "• Model: explain and justify your regression model. Make sure you describe it completely\n",
    "and carefully. Write down an equation for the model. A good rule of thumb is that you\n",
    "should have roughly 1 main specification and 3-4 variations of the main model, handling\n",
    "specification choices.\n",
    "- What variables did you use, and why? What about the errors?\n",
    "- How did you specify the model (e.g. interactions)? Why?\n",
    "- Which specifications did you use? Why are they different?\n",
    "- What coeﬀicients or outputs from the model will answer your question? How?\n",
    "- Is there anything else we need to know about your model?\n",
    "\n",
    "Table of Results: clear a clear and complete table (or tables) of results, showing the\n",
    "estimated model and your specification results"
   ]
  },
  {
   "cell_type": "markdown",
   "id": "986ddc56-59ed-44e8-8491-82abf9e19944",
   "metadata": {},
   "source": [
    "Firstly, we fit the full model with all of our input variables. The equation for this regression model will be: \n",
    "\n",
    " Y = β0 + β1X1 + β2X2 + β3X3 + β4X4 + ϵ\n",
    "> PublicArtDensity = β0 ​+ β1​Income_median + β2Income_gini_index + β3​number_of_people_with_certificates  + β4population_density + residual"
   ]
  },
  {
   "cell_type": "markdown",
   "id": "8f2202fb-6641-43db-b02f-71bc8262b315",
   "metadata": {},
   "source": [
    "The error(residual) is the difference between the actual value of Y the value predicted by our model. It reflects the unexplained portion of our model."
   ]
  },
  {
   "cell_type": "code",
   "execution_count": null,
   "id": "61b8c745-01c0-4168-ac93-62281b4656c3",
   "metadata": {},
   "outputs": [],
   "source": [
    "full_model <- lm(art_count~.-Neighbourhood, data=clean_data)\n",
    "\n",
    "summary(full_model)"
   ]
  },
  {
   "cell_type": "code",
   "execution_count": null,
   "id": "b94cdf41-30e5-453a-b5fc-8e34674bee23",
   "metadata": {},
   "outputs": [],
   "source": [
    "tidy(summary(full_model))%>% mutate_if(is.numeric, round, 5)"
   ]
  },
  {
   "cell_type": "markdown",
   "id": "c6cf21a0-6d10-458d-8ada-68e20b6e61d8",
   "metadata": {},
   "source": [
    "- positive association\n",
    "- negative\n",
    "- - pvalues  (significance level of 0.05)\n",
    "- intercept: other better inferential features? but good normality in the error term (see in the next section)"
   ]
  },
  {
   "cell_type": "code",
   "execution_count": null,
   "id": "f9a8c818-6e67-4abf-b86a-fb2344d0db28",
   "metadata": {},
   "outputs": [],
   "source": [
    "vif_values <- vif(full_model)\n",
    "print(vif_values)"
   ]
  },
  {
   "cell_type": "markdown",
   "id": "eb0040af-b864-43ac-9e81-c41aaf0fbcbb",
   "metadata": {},
   "source": [
    "With the VIF values for these variables, there is no high multicollinearity among them."
   ]
  },
  {
   "cell_type": "markdown",
   "id": "55198000-de83-4299-bbe8-af7817257401",
   "metadata": {},
   "source": [
    "#### Variation model 1 - reduced model"
   ]
  },
  {
   "cell_type": "markdown",
   "id": "d7e666a7-f2dc-4350-a583-669ed4ab9766",
   "metadata": {},
   "source": [
    "In definition, two variables `mean_median_income` and `mean_gini_income` might have some correlation, let us try the model without the mean_gini_income."
   ]
  },
  {
   "cell_type": "markdown",
   "id": "13747187-e8ea-4a27-80d7-a42796085372",
   "metadata": {},
   "source": [
    "The equation for this regression model will be: \n",
    "\n",
    " Y = β0 + β1X1 + β2X2 + β3X3 + ϵ\n",
    "> PublicArtDensity = β0 ​+ β1​Income_median + β2​number_of_people_with_certificates  + β3population_density + residual"
   ]
  },
  {
   "cell_type": "code",
   "execution_count": null,
   "id": "d27ddf9e-349e-4086-ae3f-26af673252a3",
   "metadata": {},
   "outputs": [],
   "source": [
    "no_gini_model <- lm(art_count~.-Neighbourhood-mean_gini_income, data=clean_data)\n",
    "\n",
    "tidy(summary(no_gini_model))%>% mutate_if(is.numeric, round, 5)"
   ]
  },
  {
   "cell_type": "markdown",
   "id": "73dccf63-6d49-4295-ab89-0a92b4bb84ce",
   "metadata": {},
   "source": [
    "#### Variation model 2 - interaction model"
   ]
  },
  {
   "cell_type": "markdown",
   "id": "bc767ecb-cbdc-4965-9e56-f2d1e4260379",
   "metadata": {},
   "source": [
    "Finally, we try the interaction model with the interaction term of mean_population_density and mean_certificate_density, including the interaction between the population and count of certificates.\n",
    "\n",
    "The equation for this regression model will be: \n",
    "\n",
    " Y = β0 + β1X1 + β2X2 + β3X3 + β4X2*X3 + ϵ\n",
    "> PublicArtDensity = β0 ​+ β1​Income_median + β2​number_of_people_with_certificates + β3population_density + β4mean_population_density*mean_certificate_density + residual"
   ]
  },
  {
   "cell_type": "code",
   "execution_count": null,
   "id": "22eba098-c904-4ea8-856b-af602a72a368",
   "metadata": {},
   "outputs": [],
   "source": [
    "interaction_model <- lm(art_count~mean_median_income+mean_population_density*mean_certificate_density, data=clean_data)\n",
    "\n",
    "tidy(summary(interaction_model))%>% mutate_if(is.numeric, round, 5)"
   ]
  },
  {
   "cell_type": "code",
   "execution_count": null,
   "id": "2b72c2c4-5e2e-4261-b434-e49de94b5998",
   "metadata": {},
   "outputs": [],
   "source": [
    "robust_se <- sqrt(diag(vcovHC(interaction_model, type = \"HC1\")))\n",
    "robust_se"
   ]
  },
  {
   "cell_type": "markdown",
   "id": "df6b62d5-6316-47a1-b64d-d813b723b46c",
   "metadata": {},
   "source": [
    "## - Table of Results"
   ]
  },
  {
   "cell_type": "code",
   "execution_count": null,
   "id": "0eb5b15c-b891-4713-a852-8ee80e7022cd",
   "metadata": {},
   "outputs": [],
   "source": [
    "stargazer(full_model, no_gini_model, interaction_model, \n",
    "          type = \"text\", \n",
    "          covariate.labels = c(\"Mean Median Income\", \n",
    "                               \"Mean Population Density\", \n",
    "                               \"Mean Certificate Density\", \n",
    "                               \"Population Density * Certificate Density\"), \n",
    "          dep.var.labels = c(\"Art Count\"))"
   ]
  },
  {
   "cell_type": "code",
   "execution_count": null,
   "id": "93a51f3c-5ec2-49a6-b261-a2e2aa41f99b",
   "metadata": {},
   "outputs": [],
   "source": [
    "adj_r2_full <- summary(full_model)$adj.r.squared\n",
    "adj_r2_no_gini <- summary(no_gini_model)$adj.r.squared\n",
    "adj_r2_interaction <- summary(interaction_model)$adj.r.squared\n",
    "\n",
    "model_comparison <- data.frame(\n",
    "  Model = c(\"Full Model\", \"No Gini Model\", \"Interaction Model\"),\n",
    "  Adjusted_R_squared = c(adj_r2_full, adj_r2_no_gini, adj_r2_interaction)\n",
    ")\n",
    "\n",
    "model_comparison"
   ]
  },
  {
   "cell_type": "markdown",
   "id": "7313e1d0-f56b-48c4-8161-bb37fbf5cbe9",
   "metadata": {},
   "source": [
    "Our interaction model show the best adjusted R^2 score."
   ]
  },
  {
   "cell_type": "markdown",
   "id": "a2742ea7-4ca7-4fc0-8795-86c3fe115a08",
   "metadata": {},
   "source": [
    "## Discussion"
   ]
  },
  {
   "cell_type": "markdown",
   "id": "479fc442-07b4-4bde-9c99-544351d97829",
   "metadata": {},
   "source": [
    "Discussion: discuss your results. Focus on how they answer your question, and what\n",
    "they tell you - try to go beyond simply reading or reporting the table, and try to interpret\n",
    "them. Provide additional tests to validate your model and the answers it provides, as\n",
    "appropriate.\n",
    "- You should provide at least (1) specification check for a key assumption necessary,\n",
    "and at least one (1) alternative analysis or extensions (e.g. robustness) using a\n",
    "regression model or related to help support or interpret your findings."
   ]
  },
  {
   "cell_type": "markdown",
   "id": "d790e728-4f8b-4750-baf0-d4b8542317e6",
   "metadata": {},
   "source": [
    "In the first model, we examine factors affecting the number of art installations (art_count). The results show that population density has a significant positive effect, with a coefficient of 0.006829 and a p-value of 1.03e-05. This suggests that denser areas tend to have more art installations, likely due to higher demand for public and cultural activities. However, median income and the Gini index are not statistically significant. Median income has a positive but weak effect (p-value = 0.0768), while the Gini index shows a large negative coefficient, indicating no significant impact. Certificate density also shows no significant effect (p-value = 0.1532). The model explains about 70% of the variation in art installations, with a statistically significant overall model (F-statistic = 13.14, p < 0.01)."
   ]
  },
  {
   "cell_type": "markdown",
   "id": "9c5fe0ab-c14d-4b69-8e57-d3e316e9c74c",
   "metadata": {},
   "source": [
    "In the \"no_gini_model,\" we excluded the variable mean_gini_income, which might have correlated with mean_median_income. We attempt to improve the model by reducing potential multicollinearity. \n",
    "In this model, the estimation of mean_population_density is similar to model 1. We mainly focus on other variables. \n",
    "Mean_median_income has a coefficient of 0.00086 and a p-value is statistically significant at the 0.05 level. This is a stronger effect compared to the first model. By removing mean_gini_income, we have slightly improved the statistical significance of mean_median_income, suggesting that its positive relationship with art installations is more pronounced when multicollinearity between the two variables is avoided.Same as above, mean_certificate_density still doesn’t show a clear effect on art installations after excluding mean_gini_income."
   ]
  },
  {
   "cell_type": "markdown",
   "id": "50c3396d-6616-429a-a0c8-d0b1a38c68ee",
   "metadata": {},
   "source": [
    "In the interaction model, we explore how the interaction between population density and certificate density influences the number of public art installations. Here, all explantory variables show significant results. Notably, the coefficient for mean_certificate_density is now positive (678.167), which contrasts with its non-significant effect in the previous models. This could indicate that certificate density has a non-linear relationship with public art installations or there's no correlation. The interaction term between population density and certificate density is negative (-0.08446), suggesting that while both factors independently contribute positively to the number of public art installations, their combined effect is negative. In other words, as population density increases, but certificate density remains constant, the number of art installations decreases. Similarly, when certificate density increases but population density stays the same, the number of installations also decreases. This interaction term is difficult to interpret but highlights the complex relationship between these variables."
   ]
  },
  {
   "cell_type": "markdown",
   "id": "16c3b2e2-33b1-4976-9502-b414fd2525cd",
   "metadata": {},
   "source": [
    "Overall, the interaction model provides the best explanation for the variation in art installations, as it includes significant coefficients and a high adjusted R² value of 0.885, showing a much better fit compared to the first model (R² = 0.69). "
   ]
  },
  {
   "cell_type": "markdown",
   "id": "3a1e2935-75ef-44a2-a6b9-f6a1d75afcfb",
   "metadata": {},
   "source": [
    "## Conclusion\n"
   ]
  },
  {
   "cell_type": "markdown",
   "id": "9c2c6c45-60a4-4cfb-958c-975e9e24b629",
   "metadata": {},
   "source": [
    "In conclusion, this study examined the factors affecting the placement of public art installations in Vancouver. Our findings show that mean median income and certificant density are important factors. Areas with higher income and population density tend to have more public art. The interaction between population density and certificate density was also significant in the third model, but in a negative direction. These results suggest that richer, denser neighborhoods are more likely to have public art, confirming previous research on how such art promotes community and engagement."
   ]
  },
  {
   "cell_type": "markdown",
   "id": "65fcc2d0-ea15-4138-9df6-4ded350ea3f1",
   "metadata": {},
   "source": [
    "## References"
   ]
  },
  {
   "cell_type": "markdown",
   "id": "9227a601-899e-49ab-9af3-16f1536ec2f6",
   "metadata": {},
   "source": [
    "1. Public art. (2024). Vancouver.ca. https://opendata.vancouver.ca/explore/dataset/public-art/export/?location=13,49.26603,-123.14601\n",
    "(2021). Censusmapper.ca. https://censusmapper.ca/api/CA21#13/49.2717/-123.1262\n",
    "\n",
    "2. Schuermans, N., Loopmans, M. P. J., & Vandenabeele, J. (2012). Public space, public art and public pedagogy. Social & Cultural Geography, 13(7), 675–682. https://doi.org/10.1080/14649365.2012.728007\n"
   ]
  },
  {
   "cell_type": "code",
   "execution_count": null,
   "id": "3fce10ea-f6b7-4b96-9c6b-3f771bc39a07",
   "metadata": {},
   "outputs": [],
   "source": []
  }
 ],
 "metadata": {
  "kernelspec": {
   "display_name": "R",
   "language": "R",
   "name": "ir"
  },
  "language_info": {
   "codemirror_mode": "r",
   "file_extension": ".r",
   "mimetype": "text/x-r-source",
   "name": "R",
   "pygments_lexer": "r",
   "version": "4.3.3"
  }
 },
 "nbformat": 4,
 "nbformat_minor": 5
}
